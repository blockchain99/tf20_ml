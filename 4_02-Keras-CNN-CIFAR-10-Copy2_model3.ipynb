{
 "cells": [
  {
   "cell_type": "code",
   "execution_count": 2,
   "metadata": {},
   "outputs": [],
   "source": [
    "%config IPCompleter.greedy=True"
   ]
  },
  {
   "cell_type": "markdown",
   "metadata": {},
   "source": [
    "\n",
    "# CIFAR-10 Multiple Classes\n",
    "\n",
    "Let's go over another example of using Keras and building out CNNs. This time will use another famous data set, the CIFAR-10 dataset which consists of 10 different image types."
   ]
  },
  {
   "cell_type": "markdown",
   "metadata": {},
   "source": [
    "[multi_gpu_guide](https://towardsdatascience.com/multi-gpu-multi-process-with-tensorflow-ba4cc2fe3ab7)"
   ]
  },
  {
   "cell_type": "code",
   "execution_count": 3,
   "metadata": {},
   "outputs": [],
   "source": [
    "import pandas as pd\n",
    "import numpy as np"
   ]
  },
  {
   "cell_type": "markdown",
   "metadata": {},
   "source": [
    "-----"
   ]
  },
  {
   "cell_type": "markdown",
   "metadata": {},
   "source": [
    "# The Data\n",
    "\n",
    "CIFAR-10 is a dataset of 50,000 32x32 color training images, labeled over 10 categories, and 10,000 test images."
   ]
  },
  {
   "cell_type": "code",
   "execution_count": 4,
   "metadata": {},
   "outputs": [],
   "source": [
    "from tensorflow.keras.datasets import cifar10\n",
    "\n",
    "(x_train, y_train), (x_test, y_test) = cifar10.load_data()"
   ]
  },
  {
   "cell_type": "code",
   "execution_count": 5,
   "metadata": {},
   "outputs": [
    {
     "data": {
      "text/plain": [
       "(50000, 32, 32, 3)"
      ]
     },
     "execution_count": 5,
     "metadata": {},
     "output_type": "execute_result"
    }
   ],
   "source": [
    "x_train.shape"
   ]
  },
  {
   "cell_type": "code",
   "execution_count": 6,
   "metadata": {},
   "outputs": [
    {
     "data": {
      "text/plain": [
       "(32, 32, 3)"
      ]
     },
     "execution_count": 6,
     "metadata": {},
     "output_type": "execute_result"
    }
   ],
   "source": [
    "x_train[0].shape"
   ]
  },
  {
   "cell_type": "code",
   "execution_count": 7,
   "metadata": {},
   "outputs": [],
   "source": [
    "import matplotlib.pyplot as plt"
   ]
  },
  {
   "cell_type": "code",
   "execution_count": 8,
   "metadata": {},
   "outputs": [
    {
     "data": {
      "text/plain": [
       "<matplotlib.image.AxesImage at 0x7ff54d60dd10>"
      ]
     },
     "execution_count": 8,
     "metadata": {},
     "output_type": "execute_result"
    },
    {
     "data": {
      "image/png": "[encoded data removed]",
      "text/plain": [
       "<Figure size 432x288 with 1 Axes>"
      ]
     },
     "metadata": {
      "needs_background": "light"
     },
     "output_type": "display_data"
    }
   ],
   "source": [
    "# FROG\n",
    "plt.imshow(x_train[0])"
   ]
  },
  {
   "cell_type": "code",
   "execution_count": 9,
   "metadata": {},
   "outputs": [
    {
     "data": {
      "text/plain": [
       "array([6], dtype=uint8)"
      ]
     },
     "execution_count": 9,
     "metadata": {},
     "output_type": "execute_result"
    }
   ],
   "source": [
    "y_train[0]"
   ]
  },
  {
   "cell_type": "code",
   "execution_count": 10,
   "metadata": {},
   "outputs": [
    {
     "data": {
      "text/plain": [
       "<matplotlib.image.AxesImage at 0x7ff54d534290>"
      ]
     },
     "execution_count": 10,
     "metadata": {},
     "output_type": "execute_result"
    },
    {
     "data": {
      "image/png": "[encoded data removed]",
      "text/plain": [
       "<Figure size 432x288 with 1 Axes>"
      ]
     },
     "metadata": {
      "needs_background": "light"
     },
     "output_type": "display_data"
    }
   ],
   "source": [
    "# HORSE\n",
    "plt.imshow(x_train[12])"
   ]
  },
  {
   "cell_type": "markdown",
   "metadata": {},
   "source": [
    "# PreProcessing"
   ]
  },
  {
   "cell_type": "code",
   "execution_count": 11,
   "metadata": {},
   "outputs": [
    {
     "data": {
      "text/plain": [
       "array([[[ 59,  62,  63],\n",
       "        [ 43,  46,  45],\n",
       "        [ 50,  48,  43],\n",
       "        ...,\n",
       "        [158, 132, 108],\n",
       "        [152, 125, 102],\n",
       "        [148, 124, 103]],\n",
       "\n",
       "       [[ 16,  20,  20],\n",
       "        [  0,   0,   0],\n",
       "        [ 18,   8,   0],\n",
       "        ...,\n",
       "        [123,  88,  55],\n",
       "        [119,  83,  50],\n",
       "        [122,  87,  57]],\n",
       "\n",
       "       [[ 25,  24,  21],\n",
       "        [ 16,   7,   0],\n",
       "        [ 49,  27,   8],\n",
       "        ...,\n",
       "        [118,  84,  50],\n",
       "        [120,  84,  50],\n",
       "        [109,  73,  42]],\n",
       "\n",
       "       ...,\n",
       "\n",
       "       [[208, 170,  96],\n",
       "        [201, 153,  34],\n",
       "        [198, 161,  26],\n",
       "        ...,\n",
       "        [160, 133,  70],\n",
       "        [ 56,  31,   7],\n",
       "        [ 53,  34,  20]],\n",
       "\n",
       "       [[180, 139,  96],\n",
       "        [173, 123,  42],\n",
       "        [186, 144,  30],\n",
       "        ...,\n",
       "        [184, 148,  94],\n",
       "        [ 97,  62,  34],\n",
       "        [ 83,  53,  34]],\n",
       "\n",
       "       [[177, 144, 116],\n",
       "        [168, 129,  94],\n",
       "        [179, 142,  87],\n",
       "        ...,\n",
       "        [216, 184, 140],\n",
       "        [151, 118,  84],\n",
       "        [123,  92,  72]]], dtype=uint8)"
      ]
     },
     "execution_count": 11,
     "metadata": {},
     "output_type": "execute_result"
    }
   ],
   "source": [
    "x_train[0]"
   ]
  },
  {
   "cell_type": "code",
   "execution_count": 12,
   "metadata": {},
   "outputs": [
    {
     "data": {
      "text/plain": [
       "(32, 32, 3)"
      ]
     },
     "execution_count": 12,
     "metadata": {},
     "output_type": "execute_result"
    }
   ],
   "source": [
    "x_train[0].shape"
   ]
  },
  {
   "cell_type": "code",
   "execution_count": 13,
   "metadata": {},
   "outputs": [
    {
     "data": {
      "text/plain": [
       "255"
      ]
     },
     "execution_count": 13,
     "metadata": {},
     "output_type": "execute_result"
    }
   ],
   "source": [
    "x_train.max()"
   ]
  },
  {
   "cell_type": "code",
   "execution_count": 14,
   "metadata": {},
   "outputs": [],
   "source": [
    "x_train = x_train/225"
   ]
  },
  {
   "cell_type": "code",
   "execution_count": 15,
   "metadata": {},
   "outputs": [],
   "source": [
    "x_test = x_test/255"
   ]
  },
  {
   "cell_type": "code",
   "execution_count": 16,
   "metadata": {},
   "outputs": [
    {
     "data": {
      "text/plain": [
       "(50000, 32, 32, 3)"
      ]
     },
     "execution_count": 16,
     "metadata": {},
     "output_type": "execute_result"
    }
   ],
   "source": [
    "x_train.shape"
   ]
  },
  {
   "cell_type": "code",
   "execution_count": 17,
   "metadata": {},
   "outputs": [
    {
     "data": {
      "text/plain": [
       "(10000, 32, 32, 3)"
      ]
     },
     "execution_count": 17,
     "metadata": {},
     "output_type": "execute_result"
    }
   ],
   "source": [
    "x_test.shape"
   ]
  },
  {
   "cell_type": "code",
   "execution_count": 18,
   "metadata": {},
   "outputs": [
    {
     "data": {
      "text/plain": [
       "array([[3],\n",
       "       [8],\n",
       "       [8],\n",
       "       ...,\n",
       "       [5],\n",
       "       [1],\n",
       "       [7]], dtype=uint8)"
      ]
     },
     "execution_count": 18,
     "metadata": {},
     "output_type": "execute_result"
    }
   ],
   "source": [
    "y_test"
   ]
  },
  {
   "cell_type": "markdown",
   "metadata": {},
   "source": [
    "## Labels"
   ]
  },
  {
   "cell_type": "code",
   "execution_count": 19,
   "metadata": {},
   "outputs": [],
   "source": [
    "from tensorflow.keras.utils import to_categorical"
   ]
  },
  {
   "cell_type": "code",
   "execution_count": 20,
   "metadata": {},
   "outputs": [
    {
     "data": {
      "text/plain": [
       "(50000, 1)"
      ]
     },
     "execution_count": 20,
     "metadata": {},
     "output_type": "execute_result"
    }
   ],
   "source": [
    "y_train.shape"
   ]
  },
  {
   "cell_type": "code",
   "execution_count": 21,
   "metadata": {},
   "outputs": [
    {
     "data": {
      "text/plain": [
       "array([[6],\n",
       "       [9],\n",
       "       [9],\n",
       "       ...,\n",
       "       [9],\n",
       "       [1],\n",
       "       [1]], dtype=uint8)"
      ]
     },
     "execution_count": 21,
     "metadata": {},
     "output_type": "execute_result"
    }
   ],
   "source": [
    "y_train"
   ]
  },
  {
   "cell_type": "code",
   "execution_count": 22,
   "metadata": {},
   "outputs": [
    {
     "data": {
      "text/plain": [
       "array([[0., 0., 0., ..., 0., 0., 0.],\n",
       "       [0., 0., 0., ..., 0., 0., 1.],\n",
       "       [0., 0., 0., ..., 0., 0., 1.],\n",
       "       ...,\n",
       "       [0., 0., 0., ..., 0., 0., 1.],\n",
       "       [0., 1., 0., ..., 0., 0., 0.],\n",
       "       [0., 1., 0., ..., 0., 0., 0.]], dtype=float32)"
      ]
     },
     "execution_count": 22,
     "metadata": {},
     "output_type": "execute_result"
    }
   ],
   "source": [
    "y_cat_train = to_categorical(y_train,10) #1-hot encoding\n",
    "y_cat_train"
   ]
  },
  {
   "cell_type": "code",
   "execution_count": 23,
   "metadata": {},
   "outputs": [
    {
     "data": {
      "text/plain": [
       "(50000, 10)"
      ]
     },
     "execution_count": 23,
     "metadata": {},
     "output_type": "execute_result"
    }
   ],
   "source": [
    "y_cat_train.shape"
   ]
  },
  {
   "cell_type": "code",
   "execution_count": 24,
   "metadata": {},
   "outputs": [
    {
     "name": "stdout",
     "output_type": "stream",
     "text": [
      "10\n"
     ]
    },
    {
     "data": {
      "text/plain": [
       "array([0., 0., 0., 0., 0., 0., 1., 0., 0., 0.], dtype=float32)"
      ]
     },
     "execution_count": 24,
     "metadata": {},
     "output_type": "execute_result"
    }
   ],
   "source": [
    "print(len(y_cat_train[0]))\n",
    "y_cat_train[0]"
   ]
  },
  {
   "cell_type": "code",
   "execution_count": 25,
   "metadata": {},
   "outputs": [
    {
     "data": {
      "text/plain": [
       "array([[0., 0., 0., ..., 0., 0., 0.],\n",
       "       [0., 0., 0., ..., 0., 1., 0.],\n",
       "       [0., 0., 0., ..., 0., 1., 0.],\n",
       "       ...,\n",
       "       [0., 0., 0., ..., 0., 0., 0.],\n",
       "       [0., 1., 0., ..., 0., 0., 0.],\n",
       "       [0., 0., 0., ..., 1., 0., 0.]], dtype=float32)"
      ]
     },
     "execution_count": 25,
     "metadata": {},
     "output_type": "execute_result"
    }
   ],
   "source": [
    "y_cat_test = to_categorical(y_test,10)\n",
    "y_cat_test"
   ]
  },
  {
   "cell_type": "code",
   "execution_count": 26,
   "metadata": {},
   "outputs": [
    {
     "data": {
      "text/plain": [
       "array([6], dtype=uint8)"
      ]
     },
     "execution_count": 26,
     "metadata": {},
     "output_type": "execute_result"
    }
   ],
   "source": [
    "y_train[0]"
   ]
  },
  {
   "cell_type": "code",
   "execution_count": 27,
   "metadata": {},
   "outputs": [
    {
     "name": "stderr",
     "output_type": "stream",
     "text": [
      "Clipping input data to the valid range for imshow with RGB data ([0..1] for floats or [0..255] for integers).\n"
     ]
    },
    {
     "data": {
      "text/plain": [
       "<matplotlib.image.AxesImage at 0x7ff4f5679c90>"
      ]
     },
     "execution_count": 27,
     "metadata": {},
     "output_type": "execute_result"
    },
    {
     "data": {
      "image/png": "[encoded data removed]",
      "text/plain": [
       "<Figure size 432x288 with 1 Axes>"
      ]
     },
     "metadata": {
      "needs_background": "light"
     },
     "output_type": "display_data"
    }
   ],
   "source": [
    "plt.imshow(x_train[0]) #6:frog"
   ]
  },
  {
   "cell_type": "markdown",
   "metadata": {},
   "source": [
    "[filter number guide in cnn](https://www.pyimagesearch.com/2018/12/31/keras-conv2d-and-convolutional-layers/)\n",
    "##### Numbe of  filter : recommend using powers of 2 as the values\n",
    "* Layers early in the network architecture (i.e., closer to the actual input image) learn fewer convolutional filters while layers deeper in the network (i.e., closer to the output predictions) will learn more filters.\n",
    "\n",
    "* Conv2D layers in between will learn more filters than the early Conv2D layers but fewer filters than the layers closer to the output. Let’s go ahead and take a look at an example:\n",
    "\n",
    "* Notice at as our output spatial volume is decreasing our number of filters learned is increasing — this is a common practice in designing CNN architectures \n",
    "\n",
    "* You may need to tune the exact value depending on (1) the complexity of your dataset and (2) the depth of your neural network, but I recommend starting with filters in the range [32, 64, 128] in the earlier and increasing up to [256, 512, 1024] in the deeper layers.( As far as choosing the appropriate number of filters , I nearly always recommend using powers of 2 as the values.)\n",
    "\n",
    "* Again, the exact range of the values may be different for you, but start with a smaller number of filters and only increase when necessary.\n",
    "\n",
    "#### kernel : a 2-tuple specifying the width and height of the 2D convolution window (kernel_size  must be an odd integer)\n",
    "\n",
    "* Typical values for kernel_size  include: (1, 1) , (3, 3) , (5, 5) , (7, 7) . It’s rare to see kernel sizes larger than 7×7."
   ]
  },
  {
   "cell_type": "markdown",
   "metadata": {
    "colab_type": "text",
    "id": "_j-AXYeZ2GO5"
   },
   "source": [
    "Above, you can see that the output of every Conv2D and MaxPooling2D layer is a 3D tensor of shape (height, width, channels). The width and height dimensions tend to shrink as you go deeper in the network. The number of output channels for each Conv2D layer is controlled by the first argument (e.g., 32 or 64). Typically,  as the width and height shrink, you can afford (computationally) to add more output channels in each Conv2D layer."
   ]
  },
  {
   "cell_type": "markdown",
   "metadata": {},
   "source": [
    "[convolution layer, kernel](https://www.sicara.ai/blog/2019-10-31-convolutional-layer-convolution-kernel)"
   ]
  },
  {
   "cell_type": "markdown",
   "metadata": {},
   "source": [
    "# Channel, Filter, Kernel \n",
    "###  Channel : In practicality, most input images have 3 channels(RGB), and that number only increases the deeper you go into a network. It’s pretty easy to think of channels, in general, as being a “view” of the image as a whole, emphasising some aspects, de-emphasising others.[(Reference : Irhum Shafkat)](https://towardsdatascience.com/intuitively-understanding-convolutions-for-deep-learning-1f6f42faee1)\n",
    "![channel1](channel1.jpeg)\n",
    "* Most of the time, we deal with RGB images with three channels. [ (Photo by Andre Mouton) ](https://unsplash.com/photos/_d3sppFprWI) "
   ]
  },
  {
   "cell_type": "markdown",
   "metadata": {},
   "source": [
    "###  A filter: A collection of kernels, in case of multiple channels\n",
    "![channel](channel.png)\n",
    "*  whereas in the 1 channel case, where the term filter and kernel are interchangeable,"
   ]
  },
  {
   "cell_type": "markdown",
   "metadata": {},
   "source": [
    "##  Each filter in a convolution layer produces one and only one output channel.\n",
    "1. Each of the kernels of the filter “slides” over their respective input channels, producing a processed version of each. Some kernels may have stronger weights than others, to give more emphasis to certain input channels than others (eg. a filter may have a red kernel channel with stronger weights than others, and hence, respond more to differences in the red channel features than the others).\n",
    "![output1](output1.gif)\n",
    "\n",
    "2. Each of the per-channel processed versions are then summed together to form one channel. The kernels of a filter each produce one version of each channel, and the filter as a whole produces one overall output channel.\n",
    "![output2](output2.gif)\n",
    "\n",
    "3.  Finally, then there’s the bias term. The way the bias term works here is that each output filter has one bias term. The bias gets added to the output channel so far to produce the final output channel.\n",
    "![output3](output3.gif)"
   ]
  },
  {
   "cell_type": "markdown",
   "metadata": {},
   "source": [
    "## 2D(7x7) input matrix with 3 channels (RGB) - each filter consists of 3 kernels( A filter is a collection of 3 kernels)\n",
    "\n",
    "### * Each filter actually happens to be a collection of kernels, with there being one kernel for every single input channel to the layer, and each kernel being unique.\n",
    "#### * Whereas in the 1 channel case, where the term filter and kernel are interchangeable.\n",
    "![filter](filter.png)"
   ]
  },
  {
   "cell_type": "markdown",
   "metadata": {},
   "source": [
    "### In case of CNN layer\n",
    "[cnn basic Irhum Shafkat](https://towardsdatascience.com/intuitively-understanding-convolutions-for-deep-learning-1f6f42faee1)\n",
    "* <span style=\"color:red\"> **kernel**</span>, __*(3,3) matrix of weights*__ with only <span style=\"color:red\">9 parameters</span> for CNN\n",
    "```\n",
    "[[0,1,2],\n",
    " [2,2,0],\n",
    " [0,1,2]]      \n",
    "```\n",
    "“slides” over the __*2D input data(5,5 matrix)*__,``With stride =1 and valid padding(no padding)``, performing an elementwise multiplication with the part of the input it is currently on, and then summing up the results into a single output pixel. __*Output (3,3) matrix*__."
   ]
  },
  {
   "cell_type": "markdown",
   "metadata": {},
   "source": [
    "* Convolutions allow us to do this transformation with only 9 parameters, with each output feature, instead of “looking at” every input feature, only getting to “look” at input features coming from roughly the same location. "
   ]
  },
  {
   "cell_type": "markdown",
   "metadata": {},
   "source": [
    "![kernel_slide](kernel_slide.gif)\n",
    "* The kernel repeats this process for every location it slides over, converting a 2D matrix of features into yet another 2D matrix of features. \n",
    "* The output features are essentially, the weighted sums (with the weights being the values of the kernel itself) of the input features located roughly in the same location of the output pixel on the input layer."
   ]
  },
  {
   "cell_type": "markdown",
   "metadata": {},
   "source": [
    "###  In case of standard fully connected layer\n",
    "* 5×5=25 input features, weight matrix 25x9= 225 ,which is kernel in cnn layer, and 3×3=9 output features\n",
    "* We need weight matrix of 25×9 = <span style=\"color:red\">225 parameters</span>, with every output feature being the weighted sum of every single input feature."
   ]
  },
  {
   "cell_type": "markdown",
   "metadata": {},
   "source": [
    "[Following contents are from the cnn artilce written by Sumit Saha\n",
    "](https://towardsdatascience.com/a-comprehensive-guide-to-convolutional-neural-networks-the-eli5-way-3bd2b1164a53)\n"
   ]
  },
  {
   "cell_type": "markdown",
   "metadata": {},
   "source": [
    "# Convolution Layer — The Kernel\n",
    "###  The role of the ConvNet is to reduce the images into a form which is easier to process, without losing features which are critical for getting a good prediction.\n",
    "### The Kernel shifts 9 times- convolution with same padding , zero padding with stride =1\n",
    "![Image_convlovedFeature](kernel.gif)\n",
    "\n",
    "Kernel/Filter, K = \n",
    "```\n",
    "1  0  1\n",
    "0  1  0\n",
    "1  0  1\n",
    "```\n",
    "* Convoluting a 5x5x1 image with a 3x3x1 kernel to get a 3x3x1 convolved feature\n",
    "* Image Dimensions = 5 (Height) x 5 (Breadth) x <span style=\"color:blue\">1 (Number of channels, eg. RGB)</span>\n",
    "In the above demonstration, the green section resembles our 5x5x1 input image, I. The element involved in carrying out the convolution operation in the first part of a Convolutional Layer is called the Kernel/Filter, K, represented in the color yellow. We have selected K as a 3x3x1 matrix.\n",
    "* The Kernel shifts 9 times because of Stride Length = 1 (Non-Strided), every time performing a matrix multiplication operation between K and the portion P of the image over which the kernel is hovering."
   ]
  },
  {
   "cell_type": "code",
   "execution_count": 28,
   "metadata": {},
   "outputs": [
    {
     "data": {
      "text/plain": [
       "4"
      ]
     },
     "execution_count": 28,
     "metadata": {},
     "output_type": "execute_result"
    }
   ],
   "source": [
    "# first instance of 'input_img * feature_k = convolved_feature'\n",
    "import numpy as np\n",
    "input_img = np.array(\n",
    "[[1, 1, 1],\n",
    " [0, 1, 1],\n",
    " [0, 0 ,1]]\n",
    ")\n",
    "feature_k = np.array(\n",
    "[[1, 0, 1],\n",
    " [0, 1, 0],\n",
    " [1, 0, 1]]\n",
    ")\n",
    "sum(sum(input_img*feature_k)) #4"
   ]
  },
  {
   "cell_type": "markdown",
   "metadata": {},
   "source": [
    "![cnn operation](cnnop.gif)\n",
    "* Convolution operation on a MxNx3 image matrix with a 3x3x3(width, height, channel-depth) Kernel/Filter, K,\n",
    "* In the case of images with <span style=\"color:blue\">multiple channels (e.g. RGB)</span>, the Kernel has the same depth(3) as that of the input image. Matrix Multiplication is performed between Kn(Kernel) and In(Input) stack ([K1, I1]; [K2, I2]; [K3, I3]) and all the results are summed with the bias to give us a squashed one-depth channel Convoluted Feature Output."
   ]
  },
  {
   "cell_type": "markdown",
   "metadata": {},
   "source": [
    "### The objective of the Convolution Operation is to extract the high-level features such as edges, from the input image. \n",
    "* ConvNets need not be limited to only one Convolutional Layer. Conventionally, the first ConvLayer is responsible for capturing the Low-Level features such as edges, color, gradient orientation, etc. \n",
    "* With added layers, the architecture adapts to the High-Level features as well, giving us a network which has the wholesome understanding of images in the dataset, similar to how we would"
   ]
  },
  {
   "cell_type": "markdown",
   "metadata": {},
   "source": [
    "[cnn padding very useful](https://deeplizard.com/learn/video/qSTv_m-KFk0)"
   ]
  },
  {
   "cell_type": "markdown",
   "metadata": {},
   "source": [
    "# Padding :  \n",
    "## Pad the edges with extra, “fake” pixels (usually of value 0, hence the oft-used term “zero padding”)\n",
    "## The kernel when sliding can allow the original edge pixels to be at its center, while extending into the fake pixels beyond the edge, producing an output the same size as the input.\n",
    "### 1. In case of without padding :  ( valid padding)- default in Conv2D\n",
    "\n",
    "* Case1: Input(n,n): (6,6), Filter(f,f): (3,3), stride 1 => 4 by 4 matrix: (n-f+1) x (n-f+1)\n",
    "![padding1](padding1.png) \n",
    "* So if you take this gray scale image.<span style=\"color:green\">The pixel in the corner</span> will only get covers one time.(The pixels on the edge are never at the center of the kernel) but if you take <span style=\"color:red\">the middle pixel</span> it will get covered more than once basically what does that means is we have more info on that middle pixel so these are the two main downsides([Article](https://medium.com/@ayeshmanthaperera/what-is-padding-in-cnns-71b21fb0dd7))\n",
    "    * Shrinking outputs(If we start out with a 4 x 4 image, for example, then just after a convolutional layer or two, the resulting output may become almost meaningless with how small it becomes.)\n",
    "    * Loosing information on corners of the image( the information around the edges of the input.)\n",
    "\n",
    "\n",
    "* Case2: Input(n,n): (4,4), Filter(f,f): (3,3), stride 1 => 2 by 2 matrix: (n-f+1) x (n-f+1)\n",
    "![padding1](padding1_1.png)\n",
    "### To overcome this problem, we can introduce Padding to an image. (ex. same padding with zero padding)\n",
    "#### With each convolutional layer, just as we define how many filters to have and the size of the filters, we can also specify whether or not to use padding.\n"
   ]
  },
  {
   "cell_type": "markdown",
   "metadata": {},
   "source": [
    "###  2. Same padding with zero padding\n",
    "* It’s an additional layer(zero-padding: symmetrically adding zeroes to the input matrix) that we can add to the border of an image.For an example see the figure below there one more layer added to the ``4*4 image`` and now it has converted in to ``6*6 image``(If zero padding = 1, there will be one pixel thick around the original image with pixel value = 0. Also stride = 1)\n",
    "![padding2](padding2_1.png)\n",
    "### zero-padding\n",
    "    * zero-padding is a commonly used modification that allows the size of the input to be adjusted to our requirement. It is mostly used in designing the CNN layers when the dimensions of the input volume need to be preserved in the output volume.\n",
    "* So now there is more frame that covers the edge pixels of an image\n",
    "* The kernel(Filter,matrix of weights) when sliding can allow the original edge pixels to be at its center, while extending into the fake pixels(value 0) beyond the edge, producing an output the same size as the input."
   ]
  },
  {
   "cell_type": "markdown",
   "metadata": {},
   "source": [
    "### padding test\n",
    "* x: input image of shape [2, 3], 1 channel\n",
    "* valid_pad: max pool with 2x2 kernel, stride 2 and VALID padding.\n",
    "* same_pad: max pool with 2x2 kernel, stride 2 and SAME padding (this is the classic way to go)\n",
    "\n",
    "#### The output shapes are:\n",
    "* valid_pad: here, no padding so the output shape is [1, 1]\n",
    "* same_pad: here, we pad the image to the shape [2, 4] (with -inf and then apply max pool), so the output shape is [1, 2]"
   ]
  },
  {
   "cell_type": "markdown",
   "metadata": {},
   "source": [
    "# Padding: same(padding) vs. valid(no padding)\n",
    "* When stride is 1 (more typical with convolution than pooling), we can think of the following distinction:\n",
    "\n",
    "* \"SAME\": output size is the same as input size. This requires the filter window to slip outside input map, hence the need to pad.\n",
    "* \"VALID\": Filter window stays at valid position inside input map, so output size shrinks by filter_size - 1. No padding occurs."
   ]
  },
  {
   "cell_type": "markdown",
   "metadata": {},
   "source": [
    "## 1. Same padding (with zero padding)\n",
    "### 1)  Same Padding:   the dimensionality is either increased or remains the same through covolution operation\n",
    "* When we augment the 5x5x1 image into a 7x7x1 image with <span style=\"color:red\">0(zero) added ouside</span> and then apply the 3x3x1 kernel over it, we find that the convolved matrix turns out to be of dimensions 5x5x1. <span style=\"color:red\">striding = 1</span>\n",
    "![same padding](samepadding.gif)"
   ]
  },
  {
   "cell_type": "markdown",
   "metadata": {},
   "source": [
    "### 2)  Striding = 2  :  convolved feature is reduced in dimensionality, enen though same padding\n",
    "* As for 5x5x1 input image if we perform with kernel(3x3x1), striding =2 with the same padding, output matrix dimensions is decreased to (3x3x1). <span style=\"color:red\">striding = 2</span>\n",
    "\n",
    "![valid padding](validpadding.gif)"
   ]
  },
  {
   "cell_type": "markdown",
   "metadata": {},
   "source": [
    "## 2. Valid paddding( no padding) - default in Conv2D\n",
    "### Valid Padding(no padding) :  convolved feature is reduced in dimensionality as compared to the input through covolution operation\n",
    "* As for 5x5x1 input image if we perform with kernel(3x3x1), striding =1 with the valid padding(no padding), we are presented matrix with a reduced dimension same as the Kernel (3x3x1) itself. <span style=\"color:red\">striding = 1</span>\n",
    "\n",
    "* As for 5x5x1 input image if we perform with kernel(3x3x1), striding =2 with the valid padding(no padding), we are presented matrix with a reduced dimension (2x2x1). <span style=\"color:red\">striding = 2</span>\n",
    "\n"
   ]
  },
  {
   "cell_type": "markdown",
   "metadata": {},
   "source": [
    "![pad stride](padstride.png)"
   ]
  },
  {
   "cell_type": "markdown",
   "metadata": {},
   "source": [
    "# Pooling Layer : Similar to the Convolutional Layer, the Pooling layer is responsible for reducing the spatial size of the Convolved Feature.\n",
    "*  This is to decrease the computational power required to process the data through dimensionality reduction. Furthermore, it is useful for extracting dominant features which are rotational and positional invariant(preserve same identity, category (etc) even if ratated or position changed), thus maintaining the process of effectively training of the model.\n",
    "![pooling](pooling.gif)\n",
    "* Max pooling : 3x3 pooling over 5x5 convolved feature"
   ]
  },
  {
   "cell_type": "markdown",
   "metadata": {},
   "source": [
    "* Max Pooling : performs as a Noise Suppressant. It discards the noisy activations altogether and also performs de-noising along with dimensionality reduction. \n",
    "* Average Pooling : simply performs dimensionality reduction as a noise suppressing mechanism. Hence, we can say that Max Pooling performs a lot better than Average Pooling.\n",
    "![pooling](pooling.jpeg)"
   ]
  },
  {
   "cell_type": "markdown",
   "metadata": {},
   "source": [
    "* The Convolutional Layer and the Pooling Layer, together form the i-th layer of a Convolutional Neural Network. "
   ]
  },
  {
   "cell_type": "markdown",
   "metadata": {},
   "source": [
    "*  Often when running a convolution layer, you want an output with a lower size than the input. This is commonplace in convolutional neural networks, where the size of the spatial dimensions are reduced when increasing the number of channels. -> \n",
    "    * striding = 2(downsizing by roughly a factor of 2), 3(downsizing roughly by factor 3) and so on. \n",
    "    * pooling(ex. max pooling)"
   ]
  },
  {
   "cell_type": "markdown",
   "metadata": {},
   "source": [
    "[kernel feature size guide ](https://www.sicara.ai/blog/2019-10-31-convolutional-layer-convolution-kernel)"
   ]
  },
  {
   "cell_type": "code",
   "execution_count": 29,
   "metadata": {},
   "outputs": [],
   "source": [
    "# #test \n",
    "# import numpy as np\n",
    "# #at1 = np.ones(9, dtype='float32').reshape(3,3)\n",
    "# at1 = np.ones(9, dtype='int').reshape(3,3)\n",
    "\n",
    "# at1[1,0] = 0\n",
    "# at1[2,0] = 0\n",
    "# at1[2,1] = 0\n",
    "\n",
    "# print(at1)\n",
    "# print(type(at1))\n",
    "# print(\"----------------\")\n",
    "\n",
    "# at2 = np.array([[1,0,1],\n",
    "#                 [0,1,0],\n",
    "#                 [1,0,1]])\n",
    "# print(at2)\n",
    "# print(type(at2))\n",
    "\n",
    "# npdot = np.dot(at1, at2)\n",
    "# print(npdot)\n",
    "# print(\"colum sum \", sum(npdot))\n",
    "# print(\"sum all elements in np.dot: \", sum(sum(npdot)))\n",
    "\n",
    "# print(\"===============\")\n",
    "# mul = at1 * at2 \n",
    "# print(mul)\n",
    "# print(\"column sum : \", sum(mul))\n",
    "# print(\"sum of all elements in multiply tow arrays : \",sum(sum(mul)))"
   ]
  },
  {
   "cell_type": "markdown",
   "metadata": {},
   "source": [
    "[keras cnn filter, kernel guide -very useful](https://www.pyimagesearch.com/2018/12/31/keras-conv2d-and-convolutional-layers/)"
   ]
  },
  {
   "cell_type": "markdown",
   "metadata": {},
   "source": [
    "----------\n",
    "# Building the Model"
   ]
  },
  {
   "cell_type": "code",
   "execution_count": 30,
   "metadata": {},
   "outputs": [],
   "source": [
    "from tensorflow.keras.models import Sequential\n",
    "from tensorflow.keras.layers import Dense, Conv2D, MaxPool2D, Flatten"
   ]
  },
  {
   "cell_type": "code",
   "execution_count": 31,
   "metadata": {},
   "outputs": [
    {
     "name": "stdout",
     "output_type": "stream",
     "text": [
      "MNIST  784\n",
      "CIFAR : more information -> more CONV layers 3072\n"
     ]
    }
   ],
   "source": [
    "print(\"MNIST \", 28*28)\n",
    "print(\"CIFAR : more information -> more CONV layers\", 32*32*3)"
   ]
  },
  {
   "cell_type": "code",
   "execution_count": 32,
   "metadata": {},
   "outputs": [],
   "source": [
    "## original model : ['loss', 'accuracy'] -> [1.04289395570755, 0.6756]\n",
    "# model = Sequential()\n",
    "\n",
    "# ## FIRST SET OF LAYERS\n",
    "\n",
    "# # CONVOLUTIONAL LAYER\n",
    "# model.add(Conv2D(filters=32, kernel_size=(4,4),input_shape=(32, 32, 3), activation='relu',))\n",
    "# # POOLING LAYER\n",
    "# model.add(MaxPool2D(pool_size=(2, 2)))\n",
    "\n",
    "# ## SECOND SET OF LAYERS\n",
    "\n",
    "# # CONVOLUTIONAL LAYER\n",
    "# model.add(Conv2D(filters=32, kernel_size=(4,4),input_shape=(32, 32, 3), activation='relu',))\n",
    "# # POOLING LAYER\n",
    "# model.add(MaxPool2D(pool_size=(2, 2)))\n",
    "\n",
    "# # FLATTEN IMAGES FROM 28 by 28 to 764 BEFORE FINAL LAYER\n",
    "# model.add(Flatten())\n",
    "\n",
    "# # 256 NEURONS IN DENSE HIDDEN LAYER (YOU CAN CHANGE THIS NUMBER OF NEURONS)\n",
    "# model.add(Dense(256, activation='relu'))\n",
    "\n",
    "# # LAST LAYER IS THE CLASSIFIER, THUS 10 POSSIBLE CLASSES\n",
    "# model.add(Dense(10, activation='softmax'))\n",
    "\n",
    "\n",
    "# model.compile(loss='categorical_crossentropy',\n",
    "#               optimizer='rmsprop',\n",
    "#               metrics=['accuracy'])"
   ]
  },
  {
   "cell_type": "code",
   "execution_count": 33,
   "metadata": {},
   "outputs": [
    {
     "name": "stdout",
     "output_type": "stream",
     "text": [
      "Num GPUs Available:  2\n"
     ]
    }
   ],
   "source": [
    "from __future__ import absolute_import, division, print_function, unicode_literals\n",
    "\n",
    "import tensorflow as tf\n",
    "print(\"Num GPUs Available: \", len(tf.config.experimental.list_physical_devices('GPU')))"
   ]
  },
  {
   "cell_type": "markdown",
   "metadata": {},
   "source": [
    "### Using multiple GPUs"
   ]
  },
  {
   "cell_type": "markdown",
   "metadata": {},
   "source": [
    "``` \n",
    "gpus = tf.config.experimental.list_physical_devices('GPU')\n",
    "if gpus:\n",
    "  # Create 2 virtual GPUs with 1GB memory each\n",
    "  try:\n",
    "    tf.config.experimental.set_virtual_device_configuration(\n",
    "        gpus[0],\n",
    "        [tf.config.experimental.VirtualDeviceConfiguration(memory_limit=1024),\n",
    "         tf.config.experimental.VirtualDeviceConfiguration(memory_limit=1024)])\n",
    "    logical_gpus = tf.config.experimental.list_logical_devices('GPU')\n",
    "    print(len(gpus), \"Physical GPU,\", len(logical_gpus), \"Logical GPUs\")\n",
    "  except RuntimeError as e:\n",
    "    # Virtual devices must be set before GPUs have been initialized\n",
    "    print(e)\n",
    "```"
   ]
  },
  {
   "cell_type": "markdown",
   "metadata": {},
   "source": [
    "#### Once we have multiple logical GPUs available to the runtime, we can utilize the multiple GPUs with tf.distribute.Strategy or with manual placement.\n",
    "```\n",
    "tf.debugging.set_log_device_placement(True)\n",
    "\n",
    "strategy = tf.distribute.MirroredStrategy()\n",
    "with strategy.scope():\n",
    "  inputs = tf.keras.layers.Input(shape=(1,))\n",
    "  predictions = tf.keras.layers.Dense(1)(inputs)\n",
    "  model = tf.keras.models.Model(inputs=inputs, outputs=predictions)\n",
    "  model.compile(loss='mse',\n",
    "                optimizer=tf.keras.optimizers.SGD(learning_rate=0.2))\n",
    "```"
   ]
  },
  {
   "cell_type": "markdown",
   "metadata": {},
   "source": [
    "[multiple gup training](https://colab.research.google.com/github/tensorflow/docs/blob/master/site/en/guide/distributed_training.ipynb#scrollTo=6-xIOIpgBItn)\n",
    "* tf.distribute.MirroredStrategy supports synchronous distributed training on multiple GPUs on one machine. It creates one replica per GPU device. Each variable in the model is mirrored across all the replicas. Together, these variables form a single conceptual variable called MirroredVariable. These variables are kept in sync with each other by applying identical updates.\n",
    "\n",
    "* Efficient all-reduce algorithms are used to communicate the variable updates across the devices. All-reduce aggregates tensors across all the devices by adding them up, and makes them available on each device. It’s a fused algorithm that is very efficient and can reduce the overhead of synchronization significantly. There are many all-reduce algorithms and implementations available, depending on the type of communication available between devices. By default, it uses NVIDIA NCCL as the all-reduce implementation. You can choose from a few other options we provide, or write your own.\n",
    "\n",
    "* Here is the simplest way of creating MirroredStrategy:\n",
    "``\n",
    "mirrored_strategy = tf.distribute.MirroredStrategy()\n",
    "``\n",
    "    * This will create a MirroredStrategy instance which will use all the GPUs that are visible to TensorFlow, and use NCCL as the cross device communication.\n",
    "    * Only gpu 1 and 2 : `` mirrored_strategy = tf.distribute.MirroredStrategy(devices=[\"/gpu:0\", \"/gpu:1\"]) ``\n",
    "    "
   ]
  },
  {
   "cell_type": "markdown",
   "metadata": {},
   "source": [
    "### Using tf.distribute.Strategy with Keras\n",
    "``\n",
    "mirrored_strategy = tf.distribute.MirroredStrategy()\n",
    "with mirrored_strategy.scope():\n",
    "  model = tf.keras.Sequential([tf.keras.layers.Dense(1, input_shape=(1,))])\n",
    "  model.compile(loss='mse', optimizer='sgd' ``\n",
    "    "
   ]
  },
  {
   "cell_type": "markdown",
   "metadata": {},
   "source": [
    "In this example we used MirroredStrategy so we can run this on a machine with multiple GPUs. strategy.scope() indicated which parts of the code to run distributed. Creating a model inside this scope allows us to create mirrored variables instead of regular variables. Compiling under the scope allows us to know that the user intends to train this model using this strategy. Once this is set up, you can fit your model like you would normally. MirroredStrategy takes care of replicating the model's training on the available GPUs, aggregating gradients, and more."
   ]
  },
  {
   "cell_type": "markdown",
   "metadata": {},
   "source": [
    "[Using tf.distribute.Strategy with Keras](https://colab.research.google.com/github/tensorflow/docs/blob/master/site/en/guide/distributed_training.ipynb#scrollTo=_mcuy3UhPcen)"
   ]
  },
  {
   "cell_type": "code",
   "execution_count": 34,
   "metadata": {},
   "outputs": [],
   "source": [
    "# ##Test model - 1)Conv2D filter increase to 64,  2)after Flatten(), increase neurons.\n",
    "\n",
    "# model = Sequential()\n",
    "\n",
    "# ## FIRST SET OF LAYERS\n",
    "\n",
    "# # CONVOLUTIONAL LAYER : x_test.shape (10000,32, 32,3)\n",
    "# model.add(Conv2D(filters=64, kernel_size=(4,4),input_shape=(32, 32, 3), activation='relu',))\n",
    "# # POOLING LAYER\n",
    "# model.add(MaxPool2D(pool_size=(2, 2)))\n",
    "\n",
    "# ## SECOND SET OF LAYERS\n",
    "\n",
    "# # CONVOLUTIONAL LAYER\n",
    "# model.add(Conv2D(filters=64, kernel_size=(4,4),input_shape=(32, 32, 3), activation='relu',))\n",
    "# # POOLING LAYER\n",
    "# model.add(MaxPool2D(pool_size=(2, 2)))\n",
    "\n",
    "# # FLATTEN IMAGES FROM 32 by 32 to 3072 BEFORE FINAL LAYER\n",
    "# model.add(Flatten())\n",
    "\n",
    "# # 256 NEURONS IN DENSE HIDDEN LAYER (YOU CAN CHANGE THIS NUMBER OF NEURONS)\n",
    "# model.add(Dense(512, activation='relu'))\n",
    "\n",
    "# # LAST LAYER IS THE CLASSIFIER, THUS 10 POSSIBLE CLASSES\n",
    "# model.add(Dense(10, activation='softmax'))\n",
    "\n",
    "# model.compile(loss='categorical_crossentropy',\n",
    "# #               optimizer='rmsprop',\n",
    "#               optimizer='adam',\n",
    "#               metrics=['accuracy'])"
   ]
  },
  {
   "cell_type": "code",
   "execution_count": 35,
   "metadata": {},
   "outputs": [],
   "source": [
    "# # model with kernel = (3,3) \" ['loss', 'accuracy']-> [0.9740324634552002, 0.7018]\"\n",
    "\n",
    "# model = Sequential()\n",
    "\n",
    "# ## FIRST SET OF LAYERS\n",
    "\n",
    "# # CONVOLUTIONAL LAYER\n",
    "# model.add(Conv2D(filters=32, kernel_size=(3,3),input_shape=(32, 32, 3), activation='relu',))\n",
    "# # POOLING LAYER\n",
    "# model.add(MaxPool2D(pool_size=(2, 2)))\n",
    "\n",
    "# ## SECOND SET OF LAYERS\n",
    "\n",
    "# # CONVOLUTIONAL LAYER\n",
    "# model.add(Conv2D(filters=32, kernel_size=(3,3),input_shape=(32, 32, 3), activation='relu',))\n",
    "# # POOLING LAYER\n",
    "# model.add(MaxPool2D(pool_size=(2, 2)))\n",
    "\n",
    "# # FLATTEN IMAGES FROM 28 by 28 to 764 BEFORE FINAL LAYER\n",
    "# model.add(Flatten())\n",
    "\n",
    "# # 256 NEURONS IN DENSE HIDDEN LAYER (YOU CAN CHANGE THIS NUMBER OF NEURONS)\n",
    "# model.add(Dense(256, activation='relu'))\n",
    "\n",
    "# # LAST LAYER IS THE CLASSIFIER, THUS 10 POSSIBLE CLASSES\n",
    "# model.add(Dense(10, activation='softmax'))\n",
    "\n",
    "\n",
    "# model.compile(loss='categorical_crossentropy',\n",
    "# #               optimizer='rmsprop',\n",
    "#                optimizer='adam'\n",
    "#                metrics=['accuracy'])"
   ]
  },
  {
   "cell_type": "markdown",
   "metadata": {},
   "source": [
    "### Reference case: 2D(28x28) input matrix with 1 channel(one_color) - filter is a kernel \n",
    "#### Conv2D(filters=32, kernel_size=(4,4),input_shape=(28, 28, 1), activation='relu',)\n",
    "* Input volume (28x28x1) x[:,:,0]\n",
    "* Filter(32 Filters), Bias(32 Bias)\n",
    "    * Filter w0(4x4x1)-w0[:,:,0] , Bias b0(1x1x1)-b0[:,:,0]\n",
    "    * Filter w1(4x4x1)-w1[:,:,0] , Bias b1(1x1x1)-b0[:,:,0]\n",
    "    * Filter w2(4x4x1)-w2[:,:,0] , Bias b2(1x1x1)-b0[:,:,0]\n",
    "    * ....\n",
    "    * Filter w31(4x4x1)-w31[:,:,0] , Bias b31(1x1x1)-b0[:,:,0]\n",
    "* kernel(4,4) matrix of weights with only 16 parameters for CNN slides over the 2D input data(28,28 matrix)\n",
    "with stride =1 and valid padding(no padding).\n",
    "    * 28 - 4 + 1 = 25 (Input shape(28x28), Filter shape(4x4), Output shape(25x25) )\n",
    "    * **output shape -> (,25,25,32)**\n",
    "\n",
    "\n",
    "### This model Case: 2D(32x32) input matrix with 3 channels(RGB) -  filter is the collection of kernels\n",
    "#### Conv2D(filters=32, kernel_size=(3,3),input_shape=(32, 32, 3), padding='same', activation='relu',)\n",
    "* Input volume (32x32x3) x[:,:,0],x[:,:,1],x[:,:,2]\n",
    "* Filter(32 Filters), Bias(32 Bias)\n",
    "    * Filter w0(4x4x3)-w0[:,:,0],w0[:,:,1],w0[:,:,2] , Bias b0(1x1x1)-,b0[:,:,0]\n",
    "    * Filter w1(4x4x3)-w1[:,:,0],w1[:,:,1],w1[:,:,2] , Bias b1(1x1x1)-,b1[:,:,0]\n",
    "    * Filter w2(4x4x3)-w2[:,:,0],w2[:,:,1],w2[:,:,2] , Bias b2(1x1x1)-,b2[:,:,0]\n",
    "    * ....\n",
    "    * Filter w31(4x4x3)-w31[:,:,0],w31[:,:,1],w31[:,:,2] , Bias b31(1x1x1)-,b31[:,:,0],b31[:,:,1],b31[:,:,2]\n",
    "* kernel(3,3) matrix of weights with only 9 parameters for CNN slides over the 2D input data(32,32 matrix)\n",
    "with stride =1 and same padding(0 padding: +2 for the first and last cell with 0).\n",
    "    * 32(+2) - 3 + 1 = 32 (Input shape(32x32), Filter shape(3x3), Output shape(32x32) )\n",
    "    * **output shape -> (,32,32,32)**\n",
    "    \n",
    "#### MaxPool2D(pool_size=(2, 2)\n",
    "* pool size(2,2), stride=2 stride over (32,32) -> 32/2 => 16\n",
    "* **output shape -> (,16,16,32)**\n",
    "\n",
    "#### Conv2D(filters=32, kernel_size=(3,3),input_shape=(16, 16, 32), activation='relu',)\n",
    "* Input (,16,16,32), kernel(3,3)with 32 filters, valid padding(no padding), stride=1\n",
    "* 16-3+1 -> 14 \n",
    "* **output shape -> (,14,14,32)**\n",
    "\n",
    "#### MaxPool2D(pool_size=(2, 2)\n",
    "* pool size(2,2), stride=2 stride over (14,14) -> 14/2 => 7\n",
    "* **output shape -> (,7,7,32)**\n",
    "\n",
    "#### Flatten()\n",
    "* 7x7x32 -> **output(,1568)**\n",
    "\n",
    "#### Dense(256, activation='relu')\n",
    "* 256 neurons hidden layer -> **output (,256)**\n",
    "\n",
    "#### Dense(10, activation='softmax')\n",
    "* classifier with 10 classes -> **output (,10)**"
   ]
  },
  {
   "cell_type": "code",
   "execution_count": 36,
   "metadata": {},
   "outputs": [
    {
     "name": "stdout",
     "output_type": "stream",
     "text": [
      "1568\n",
      "12\n"
     ]
    },
    {
     "data": {
      "text/plain": [
       "4608"
      ]
     },
     "execution_count": 36,
     "metadata": {},
     "output_type": "execute_result"
    }
   ],
   "source": [
    "print(7*7*32)\n",
    "print(25//2)\n",
    "12*12*32"
   ]
  },
  {
   "cell_type": "code",
   "execution_count": 37,
   "metadata": {},
   "outputs": [],
   "source": [
    "# model with  padding='same'  kernel = (3,3) \" ['loss', 'accuracy']-> [0.9740324634552002, 0.7018]\"\n",
    "\n",
    "model = Sequential()\n",
    "\n",
    "## FIRST SET OF LAYERS\n",
    "\n",
    "# CONVOLUTIONAL LAYER\n",
    "model.add(Conv2D(filters=32, kernel_size=(3,3),input_shape=(32, 32, 3), padding='same', activation='relu',))\n",
    "# POOLING LAYER\n",
    "model.add(MaxPool2D(pool_size=(2, 2)))\n",
    "\n",
    "## SECOND SET OF LAYERS\n",
    "\n",
    "# CONVOLUTIONAL LAYER: 16-3+1 -> output 14\n",
    "model.add(Conv2D(filters=32, kernel_size=(3,3),input_shape=(32, 32, 3), activation='relu',))\n",
    "# POOLING LAYER\n",
    "model.add(MaxPool2D(pool_size=(2, 2)))\n",
    "\n",
    "# FLATTEN IMAGES FROM 28 by 28 to 764 BEFORE FINAL LAYER\n",
    "model.add(Flatten()) #7*7*32 -> 1568\n",
    "\n",
    "# 256 NEURONS IN DENSE HIDDEN LAYER (YOU CAN CHANGE THIS NUMBER OF NEURONS)\n",
    "model.add(Dense(256, activation='relu'))\n",
    "\n",
    "# LAST LAYER IS THE CLASSIFIER, THUS 10 POSSIBLE CLASSES\n",
    "model.add(Dense(10, activation='softmax'))\n",
    "\n",
    "\n",
    "model.compile(loss='categorical_crossentropy',\n",
    "#               optimizer='rmsprop',\n",
    "              optimizer='adam',              \n",
    "               metrics=['accuracy'])"
   ]
  },
  {
   "cell_type": "code",
   "execution_count": 38,
   "metadata": {},
   "outputs": [
    {
     "name": "stdout",
     "output_type": "stream",
     "text": [
      "Model: \"sequential\"\n",
      "_________________________________________________________________\n",
      "Layer (type)                 Output Shape              Param #   \n",
      "=================================================================\n",
      "conv2d (Conv2D)              (None, 32, 32, 32)        896       \n",
      "_________________________________________________________________\n",
      "max_pooling2d (MaxPooling2D) (None, 16, 16, 32)        0         \n",
      "_________________________________________________________________\n",
      "conv2d_1 (Conv2D)            (None, 14, 14, 32)        9248      \n",
      "_________________________________________________________________\n",
      "max_pooling2d_1 (MaxPooling2 (None, 7, 7, 32)          0         \n",
      "_________________________________________________________________\n",
      "flatten (Flatten)            (None, 1568)              0         \n",
      "_________________________________________________________________\n",
      "dense (Dense)                (None, 256)               401664    \n",
      "_________________________________________________________________\n",
      "dense_1 (Dense)              (None, 10)                2570      \n",
      "=================================================================\n",
      "Total params: 414,378\n",
      "Trainable params: 414,378\n",
      "Non-trainable params: 0\n",
      "_________________________________________________________________\n"
     ]
    }
   ],
   "source": [
    "model.summary()"
   ]
  },
  {
   "cell_type": "code",
   "execution_count": 39,
   "metadata": {},
   "outputs": [],
   "source": [
    "from tensorflow.keras.callbacks import EarlyStopping"
   ]
  },
  {
   "cell_type": "code",
   "execution_count": 40,
   "metadata": {},
   "outputs": [],
   "source": [
    "early_stop = EarlyStopping(monitor='val_loss',patience=3)   #original model: accuracy 0.8257 -> Test model:0.8409\n",
    "# early_stop = EarlyStopping(monitor='val_loss',patience=2)"
   ]
  },
  {
   "cell_type": "code",
   "execution_count": 41,
   "metadata": {},
   "outputs": [
    {
     "name": "stdout",
     "output_type": "stream",
     "text": [
      "Train on 50000 samples, validate on 10000 samples\n",
      "Epoch 1/15\n",
      "50000/50000 [==============================] - 10s 195us/sample - loss: 1.4111 - accuracy: 0.4945 - val_loss: 1.1542 - val_accuracy: 0.5957\n",
      "Epoch 2/15\n",
      "50000/50000 [==============================] - 8s 165us/sample - loss: 1.0569 - accuracy: 0.6280 - val_loss: 0.9819 - val_accuracy: 0.6552\n",
      "Epoch 3/15\n",
      "50000/50000 [==============================] - 8s 165us/sample - loss: 0.9004 - accuracy: 0.6853 - val_loss: 0.9504 - val_accuracy: 0.6697\n",
      "Epoch 4/15\n",
      "50000/50000 [==============================] - 8s 166us/sample - loss: 0.7842 - accuracy: 0.7253 - val_loss: 0.8610 - val_accuracy: 0.6999\n",
      "Epoch 5/15\n",
      "50000/50000 [==============================] - 8s 166us/sample - loss: 0.6821 - accuracy: 0.7610 - val_loss: 0.8928 - val_accuracy: 0.6918\n",
      "Epoch 6/15\n",
      "50000/50000 [==============================] - 8s 151us/sample - loss: 0.5941 - accuracy: 0.7926 - val_loss: 0.9423 - val_accuracy: 0.6881\n",
      "Epoch 7/15\n",
      "50000/50000 [==============================] - 8s 164us/sample - loss: 0.5153 - accuracy: 0.8180 - val_loss: 0.9051 - val_accuracy: 0.7029\n",
      "Executing model_fit1\n",
      "Time Elapsed: 59.84372425079346\n",
      "<tensorflow.python.keras.callbacks.History object at 0x7ff4ec103210>\n"
     ]
    }
   ],
   "source": [
    "# Let's define a speed_test decorator\n",
    "from functools import wraps\n",
    "from time import time\n",
    "\n",
    "def speed_test(fn):\n",
    "\t@wraps(fn)\n",
    "\tdef wrapper(*args, **kwargs):\n",
    "\t\tstart_time = time()\n",
    "\t\tresult = fn(*args, **kwargs)\n",
    "\t\tend_time = time()\n",
    "\t\tprint(f\"Executing {fn.__name__}\")\n",
    "\t\tprint(f\"Time Elapsed: {end_time - start_time}\")\n",
    "\t\treturn result\n",
    "\treturn wrapper\n",
    "\n",
    "@speed_test\n",
    "def model_fit1():\n",
    "\treturn model.fit(x_train,y_cat_train,epochs=15,validation_data=(x_test,y_cat_test),callbacks=[early_stop])\n",
    "\n",
    "print(model_fit1())"
   ]
  },
  {
   "cell_type": "code",
   "execution_count": 42,
   "metadata": {},
   "outputs": [],
   "source": [
    "# model.fit(x_train,y_cat_train,epochs=15,validation_data=(x_test,y_cat_test),callbacks=[early_stop]) #actully use cpu instead of GPU"
   ]
  },
  {
   "cell_type": "code",
   "execution_count": 43,
   "metadata": {},
   "outputs": [],
   "source": [
    "# Careful, don't overwrite our file!\n",
    "# model.save('cifar_10epochs.h5')"
   ]
  },
  {
   "cell_type": "code",
   "execution_count": 44,
   "metadata": {},
   "outputs": [],
   "source": [
    "# losses = pd.DataFrame(model.history.history)\n",
    "metrics = pd.DataFrame(model.history.history)"
   ]
  },
  {
   "cell_type": "code",
   "execution_count": 45,
   "metadata": {},
   "outputs": [
    {
     "data": {
      "text/html": [
       "<div>\n",
       "<style scoped>\n",
       "    .dataframe tbody tr th:only-of-type {\n",
       "        vertical-align: middle;\n",
       "    }\n",
       "\n",
       "    .dataframe tbody tr th {\n",
       "        vertical-align: top;\n",
       "    }\n",
       "\n",
       "    .dataframe thead th {\n",
       "        text-align: right;\n",
       "    }\n",
       "</style>\n",
       "<table border=\"1\" class=\"dataframe\">\n",
       "  <thead>\n",
       "    <tr style=\"text-align: right;\">\n",
       "      <th></th>\n",
       "      <th>loss</th>\n",
       "      <th>accuracy</th>\n",
       "      <th>val_loss</th>\n",
       "      <th>val_accuracy</th>\n",
       "    </tr>\n",
       "  </thead>\n",
       "  <tbody>\n",
       "    <tr>\n",
       "      <th>0</th>\n",
       "      <td>1.411076</td>\n",
       "      <td>0.49454</td>\n",
       "      <td>1.154170</td>\n",
       "      <td>0.5957</td>\n",
       "    </tr>\n",
       "    <tr>\n",
       "      <th>1</th>\n",
       "      <td>1.056898</td>\n",
       "      <td>0.62804</td>\n",
       "      <td>0.981855</td>\n",
       "      <td>0.6552</td>\n",
       "    </tr>\n",
       "    <tr>\n",
       "      <th>2</th>\n",
       "      <td>0.900378</td>\n",
       "      <td>0.68528</td>\n",
       "      <td>0.950411</td>\n",
       "      <td>0.6697</td>\n",
       "    </tr>\n",
       "    <tr>\n",
       "      <th>3</th>\n",
       "      <td>0.784241</td>\n",
       "      <td>0.72530</td>\n",
       "      <td>0.860972</td>\n",
       "      <td>0.6999</td>\n",
       "    </tr>\n",
       "    <tr>\n",
       "      <th>4</th>\n",
       "      <td>0.682114</td>\n",
       "      <td>0.76098</td>\n",
       "      <td>0.892762</td>\n",
       "      <td>0.6918</td>\n",
       "    </tr>\n",
       "    <tr>\n",
       "      <th>5</th>\n",
       "      <td>0.594111</td>\n",
       "      <td>0.79256</td>\n",
       "      <td>0.942326</td>\n",
       "      <td>0.6881</td>\n",
       "    </tr>\n",
       "    <tr>\n",
       "      <th>6</th>\n",
       "      <td>0.515279</td>\n",
       "      <td>0.81798</td>\n",
       "      <td>0.905119</td>\n",
       "      <td>0.7029</td>\n",
       "    </tr>\n",
       "  </tbody>\n",
       "</table>\n",
       "</div>"
      ],
      "text/plain": [
       "       loss  accuracy  val_loss  val_accuracy\n",
       "0  1.411076   0.49454  1.154170        0.5957\n",
       "1  1.056898   0.62804  0.981855        0.6552\n",
       "2  0.900378   0.68528  0.950411        0.6697\n",
       "3  0.784241   0.72530  0.860972        0.6999\n",
       "4  0.682114   0.76098  0.892762        0.6918\n",
       "5  0.594111   0.79256  0.942326        0.6881\n",
       "6  0.515279   0.81798  0.905119        0.7029"
      ]
     },
     "execution_count": 45,
     "metadata": {},
     "output_type": "execute_result"
    }
   ],
   "source": [
    "metrics"
   ]
  },
  {
   "cell_type": "code",
   "execution_count": 46,
   "metadata": {},
   "outputs": [
    {
     "data": {
      "text/plain": [
       "Index(['loss', 'accuracy', 'val_loss', 'val_accuracy'], dtype='object')"
      ]
     },
     "execution_count": 46,
     "metadata": {},
     "output_type": "execute_result"
    }
   ],
   "source": [
    "metrics.columns"
   ]
  },
  {
   "cell_type": "code",
   "execution_count": 47,
   "metadata": {},
   "outputs": [
    {
     "data": {
      "text/plain": [
       "<matplotlib.axes._subplots.AxesSubplot at 0x7ff468295310>"
      ]
     },
     "execution_count": 47,
     "metadata": {},
     "output_type": "execute_result"
    },
    {
     "data": {
      "image/png": "[encoded data removed]",
      "text/plain": [
       "<Figure size 432x288 with 1 Axes>"
      ]
     },
     "metadata": {
      "needs_background": "light"
     },
     "output_type": "display_data"
    }
   ],
   "source": [
    "metrics[['accuracy','val_accuracy']].plot()"
   ]
  },
  {
   "cell_type": "code",
   "execution_count": 48,
   "metadata": {},
   "outputs": [
    {
     "data": {
      "text/plain": [
       "<matplotlib.axes._subplots.AxesSubplot at 0x7ff46824d450>"
      ]
     },
     "execution_count": 48,
     "metadata": {},
     "output_type": "execute_result"
    },
    {
     "data": {
      "image/png": "[encoded data removed]",
      "text/plain": [
       "<Figure size 432x288 with 1 Axes>"
      ]
     },
     "metadata": {
      "needs_background": "light"
     },
     "output_type": "display_data"
    }
   ],
   "source": [
    "metrics[['loss','val_loss']].plot()"
   ]
  },
  {
   "cell_type": "code",
   "execution_count": 49,
   "metadata": {},
   "outputs": [
    {
     "data": {
      "text/plain": [
       "['loss', 'accuracy']"
      ]
     },
     "execution_count": 49,
     "metadata": {},
     "output_type": "execute_result"
    }
   ],
   "source": [
    "model.metrics_names"
   ]
  },
  {
   "cell_type": "code",
   "execution_count": 50,
   "metadata": {},
   "outputs": [
    {
     "name": "stdout",
     "output_type": "stream",
     "text": [
      "['loss', 'accuracy']\n",
      "[0.9051185033798218, 0.7029]\n"
     ]
    }
   ],
   "source": [
    "print(model.metrics_names)\n",
    "print(model.evaluate(x_test,y_cat_test,verbose=0))"
   ]
  },
  {
   "cell_type": "code",
   "execution_count": 51,
   "metadata": {},
   "outputs": [
    {
     "name": "stdout",
     "output_type": "stream",
     "text": [
      "(10000, 1)\n"
     ]
    }
   ],
   "source": [
    "print(y_test.shape)"
   ]
  },
  {
   "cell_type": "code",
   "execution_count": 52,
   "metadata": {},
   "outputs": [
    {
     "name": "stdout",
     "output_type": "stream",
     "text": [
      "(10000,)\n"
     ]
    },
    {
     "data": {
      "text/plain": [
       "array([7, 0, 3, 3, 3, 3, 6, 5, 4, 7])"
      ]
     },
     "execution_count": 52,
     "metadata": {},
     "output_type": "execute_result"
    }
   ],
   "source": [
    "from sklearn.metrics import classification_report,confusion_matrix\n",
    "\n",
    "predictions = model.predict_classes(x_test)\n",
    "print(predictions.shape)\n",
    "predictions[-10:]"
   ]
  },
  {
   "cell_type": "code",
   "execution_count": 53,
   "metadata": {},
   "outputs": [
    {
     "data": {
      "text/plain": [
       "array([[1.50665063e-08, 1.31869680e-11, 1.42183211e-07, 3.83958779e-03,\n",
       "        1.43839879e-05, 5.37966862e-02, 3.92150632e-08, 9.42349136e-01,\n",
       "        9.38320621e-09, 1.90225382e-08],\n",
       "       [9.53319132e-01, 1.14919217e-02, 2.40950249e-06, 2.21069897e-07,\n",
       "        1.18934231e-05, 1.65337824e-05, 2.42682489e-07, 7.90963008e-04,\n",
       "        1.40645876e-04, 3.42260450e-02],\n",
       "       [1.91128966e-05, 3.14513272e-06, 5.83071378e-05, 9.57349896e-01,\n",
       "        1.33552630e-05, 3.92497256e-02, 3.08017503e-03, 2.20501781e-04,\n",
       "        1.85517342e-06, 3.95947427e-06],\n",
       "       [8.56983206e-06, 3.08445550e-07, 2.96427279e-05, 6.11042142e-01,\n",
       "        2.20643255e-04, 3.88283134e-01, 2.99793552e-04, 1.07346626e-04,\n",
       "        2.62168692e-06, 5.75347440e-06],\n",
       "       [6.52930408e-04, 2.49116449e-04, 2.88601732e-03, 5.28794527e-01,\n",
       "        2.82232583e-01, 1.67059317e-01, 1.70164444e-02, 1.08993787e-03,\n",
       "        8.24705967e-06, 1.09426474e-05],\n",
       "       [1.23085396e-04, 6.55432013e-05, 3.83317019e-05, 6.34456515e-01,\n",
       "        7.68817627e-05, 7.40334624e-03, 5.51259203e-04, 1.41671435e-05,\n",
       "        3.57268989e-01, 1.92653920e-06],\n",
       "       [7.57213229e-07, 2.63281197e-09, 3.54829058e-03, 3.60997796e-01,\n",
       "        3.83512792e-03, 2.04999357e-01, 4.26370651e-01, 2.47732998e-04,\n",
       "        5.56598962e-08, 2.62823875e-07],\n",
       "       [2.76254344e-04, 5.88574203e-08, 4.19423938e-01, 9.26330406e-03,\n",
       "        9.04623070e-04, 4.25617546e-01, 1.85959542e-03, 1.42646849e-01,\n",
       "        2.20554784e-06, 5.64184256e-06],\n",
       "       [8.58806446e-03, 2.70055197e-02, 1.74515459e-04, 6.15349156e-04,\n",
       "        9.49537456e-01, 1.31939379e-02, 1.09768798e-05, 1.27932890e-05,\n",
       "        2.63594793e-05, 8.34935287e-04],\n",
       "       [1.80747559e-08, 5.25656105e-06, 1.25190039e-04, 3.60596960e-06,\n",
       "        1.03808916e-03, 5.01843715e-05, 3.63307834e-07, 9.98777211e-01,\n",
       "        1.40290570e-08, 1.37025125e-07]], dtype=float32)"
      ]
     },
     "execution_count": 53,
     "metadata": {},
     "output_type": "execute_result"
    }
   ],
   "source": [
    "#same as above 1\n",
    "pred1 = model.predict(x_test)\n",
    "pred1[-10:]"
   ]
  },
  {
   "cell_type": "code",
   "execution_count": 54,
   "metadata": {},
   "outputs": [
    {
     "data": {
      "text/plain": [
       "[7, 0, 3, 3, 3, 3, 6, 5, 4, 7]"
      ]
     },
     "execution_count": 54,
     "metadata": {},
     "output_type": "execute_result"
    }
   ],
   "source": [
    "#same as above 2\n",
    "[x.argmax() for x in pred1][-10:]"
   ]
  },
  {
   "cell_type": "code",
   "execution_count": 55,
   "metadata": {},
   "outputs": [
    {
     "data": {
      "text/plain": [
       "False"
      ]
     },
     "execution_count": 55,
     "metadata": {},
     "output_type": "execute_result"
    }
   ],
   "source": [
    "pd.DataFrame(y_test).equals(pd.DataFrame(predictions.reshape(10000,1))) #actual label and predicted label is not equal"
   ]
  },
  {
   "cell_type": "markdown",
   "metadata": {},
   "source": [
    "![precision_reacall](precision_recall.png)"
   ]
  },
  {
   "cell_type": "markdown",
   "metadata": {},
   "source": [
    "* precision = tp / (tp + fp) \n",
    "* recall = tp / (tp + fn) "
   ]
  },
  {
   "cell_type": "code",
   "execution_count": 56,
   "metadata": {},
   "outputs": [
    {
     "name": "stdout",
     "output_type": "stream",
     "text": [
      "              precision    recall  f1-score   support\n",
      "\n",
      "           0       0.77      0.75      0.76      1000\n",
      "           1       0.78      0.84      0.81      1000\n",
      "           2       0.54      0.65      0.59      1000\n",
      "           3       0.55      0.50      0.52      1000\n",
      "           4       0.66      0.61      0.63      1000\n",
      "           5       0.61      0.56      0.59      1000\n",
      "           6       0.72      0.80      0.76      1000\n",
      "           7       0.75      0.78      0.77      1000\n",
      "           8       0.85      0.78      0.82      1000\n",
      "           9       0.82      0.75      0.78      1000\n",
      "\n",
      "    accuracy                           0.70     10000\n",
      "   macro avg       0.71      0.70      0.70     10000\n",
      "weighted avg       0.71      0.70      0.70     10000\n",
      "\n"
     ]
    }
   ],
   "source": [
    "print(classification_report(y_test,predictions))"
   ]
  },
  {
   "cell_type": "code",
   "execution_count": 57,
   "metadata": {},
   "outputs": [
    {
     "data": {
      "text/plain": [
       "array([[747,  26,  55,  14,  21,  11,  13,  17,  57,  39],\n",
       "       [ 14, 840,  14,  10,   2,   2,  12,   5,  25,  76],\n",
       "       [ 60,   4, 652,  39,  74,  61,  55,  38,  10,   7],\n",
       "       [ 12,  13, 113, 502,  62, 162,  80,  34,  12,  10],\n",
       "       [ 21,   7, 118,  56, 614,  32,  74,  70,   6,   2],\n",
       "       [ 10,   3,  90, 168,  62, 565,  45,  51,   2,   4],\n",
       "       [  1,  10,  69,  51,  35,  24, 799,   7,   2,   2],\n",
       "       [ 13,   4,  48,  39,  54,  53,   7, 779,   2,   1],\n",
       "       [ 64,  51,  24,  19,  10,   7,   8,   8, 780,  29],\n",
       "       [ 27, 123,  20,  15,   2,  11,  10,  24,  17, 751]])"
      ]
     },
     "execution_count": 57,
     "metadata": {},
     "output_type": "execute_result"
    }
   ],
   "source": [
    "confusion_matrix(y_test,predictions)"
   ]
  },
  {
   "cell_type": "code",
   "execution_count": 58,
   "metadata": {},
   "outputs": [
    {
     "data": {
      "text/plain": [
       "(10, 0)"
      ]
     },
     "execution_count": 58,
     "metadata": {},
     "output_type": "execute_result"
    },
    {
     "data": {
      "image/png": "[encoded data removed]",
      "text/plain": [
       "<Figure size 720x432 with 2 Axes>"
      ]
     },
     "metadata": {
      "needs_background": "light"
     },
     "output_type": "display_data"
    }
   ],
   "source": [
    "import seaborn as sns\n",
    "plt.figure(figsize=(10,6))\n",
    "sns.heatmap(confusion_matrix(y_test,predictions),annot=True, cmap=\"viridis\")\n",
    "plt.ylim(10,0)\n",
    "# https://github.com/matplotlib/matplotlib/issues/14751"
   ]
  },
  {
   "cell_type": "markdown",
   "metadata": {},
   "source": [
    "### model2 : without early stopping"
   ]
  },
  {
   "cell_type": "code",
   "execution_count": 59,
   "metadata": {},
   "outputs": [],
   "source": [
    "#model 2 \n",
    "cnn = tf.keras.Sequential()\n",
    "\n",
    "cnn.add(tf.keras.layers.Conv2D(32, (3,3), activation = 'relu', input_shape = (32,32,3)))\n",
    "cnn.add(tf.keras.layers.Conv2D(32, (3,3), activation = 'relu'))\n",
    "cnn.add(tf.keras.layers.MaxPooling2D(2,2))\n",
    "cnn.add(tf.keras.layers.Dropout(0.3))\n",
    "\n",
    "\n",
    "cnn.add(tf.keras.layers.Conv2D(64, (3,3), activation = 'relu'))\n",
    "cnn.add(tf.keras.layers.Conv2D(64, (3,3), activation = 'relu'))\n",
    "cnn.add(tf.keras.layers.MaxPooling2D(2,2))\n",
    "cnn.add(tf.keras.layers.Dropout(0.3))\n",
    "\n",
    "cnn.add(tf.keras.layers.Flatten())\n",
    "\n",
    "cnn.add(tf.keras.layers.Dense(1024, activation = 'relu'))\n",
    "cnn.add(tf.keras.layers.Dropout(0.3))\n",
    "\n",
    "cnn.add(tf.keras.layers.Dense(1024, activation = 'relu'))\n",
    "\n",
    "cnn.add(tf.keras.layers.Dense(10, activation = 'softmax'))\n"
   ]
  },
  {
   "cell_type": "code",
   "execution_count": 60,
   "metadata": {},
   "outputs": [
    {
     "name": "stdout",
     "output_type": "stream",
     "text": [
      "Model: \"sequential_1\"\n",
      "_________________________________________________________________\n",
      "Layer (type)                 Output Shape              Param #   \n",
      "=================================================================\n",
      "conv2d_2 (Conv2D)            (None, 30, 30, 32)        896       \n",
      "_________________________________________________________________\n",
      "conv2d_3 (Conv2D)            (None, 28, 28, 32)        9248      \n",
      "_________________________________________________________________\n",
      "max_pooling2d_2 (MaxPooling2 (None, 14, 14, 32)        0         \n",
      "_________________________________________________________________\n",
      "dropout (Dropout)            (None, 14, 14, 32)        0         \n",
      "_________________________________________________________________\n",
      "conv2d_4 (Conv2D)            (None, 12, 12, 64)        18496     \n",
      "_________________________________________________________________\n",
      "conv2d_5 (Conv2D)            (None, 10, 10, 64)        36928     \n",
      "_________________________________________________________________\n",
      "max_pooling2d_3 (MaxPooling2 (None, 5, 5, 64)          0         \n",
      "_________________________________________________________________\n",
      "dropout_1 (Dropout)          (None, 5, 5, 64)          0         \n",
      "_________________________________________________________________\n",
      "flatten_1 (Flatten)          (None, 1600)              0         \n",
      "_________________________________________________________________\n",
      "dense_2 (Dense)              (None, 1024)              1639424   \n",
      "_________________________________________________________________\n",
      "dropout_2 (Dropout)          (None, 1024)              0         \n",
      "_________________________________________________________________\n",
      "dense_3 (Dense)              (None, 1024)              1049600   \n",
      "_________________________________________________________________\n",
      "dense_4 (Dense)              (None, 10)                10250     \n",
      "=================================================================\n",
      "Total params: 2,764,842\n",
      "Trainable params: 2,764,842\n",
      "Non-trainable params: 0\n",
      "_________________________________________________________________\n"
     ]
    }
   ],
   "source": [
    "cnn.summary()"
   ]
  },
  {
   "cell_type": "code",
   "execution_count": 61,
   "metadata": {},
   "outputs": [],
   "source": [
    "cnn.compile(optimizer = tf.keras.optimizers.RMSprop(0.0001, decay = 1e-6), loss ='categorical_crossentropy', metrics =['accuracy'])"
   ]
  },
  {
   "cell_type": "code",
   "execution_count": 62,
   "metadata": {},
   "outputs": [
    {
     "name": "stdout",
     "output_type": "stream",
     "text": [
      "Train on 50000 samples\n",
      "Epoch 1/100\n",
      "50000/50000 [==============================] - 4s 77us/sample - loss: 2.0917 - accuracy: 0.2294\n",
      "Epoch 2/100\n",
      "50000/50000 [==============================] - 3s 54us/sample - loss: 1.8636 - accuracy: 0.3276\n",
      "Epoch 3/100\n",
      "50000/50000 [==============================] - 3s 54us/sample - loss: 1.7547 - accuracy: 0.3673\n",
      "Epoch 4/100\n",
      "50000/50000 [==============================] - 3s 54us/sample - loss: 1.6770 - accuracy: 0.3954\n",
      "Epoch 5/100\n",
      "50000/50000 [==============================] - 3s 54us/sample - loss: 1.6055 - accuracy: 0.4225\n",
      "Epoch 6/100\n",
      "50000/50000 [==============================] - 3s 54us/sample - loss: 1.5542 - accuracy: 0.4387\n",
      "Epoch 7/100\n",
      "50000/50000 [==============================] - 3s 54us/sample - loss: 1.5036 - accuracy: 0.4577\n",
      "Epoch 8/100\n",
      "50000/50000 [==============================] - 3s 54us/sample - loss: 1.4672 - accuracy: 0.4711\n",
      "Epoch 9/100\n",
      "50000/50000 [==============================] - 3s 54us/sample - loss: 1.4305 - accuracy: 0.4851\n",
      "Epoch 10/100\n",
      "50000/50000 [==============================] - 3s 54us/sample - loss: 1.4008 - accuracy: 0.4993\n",
      "Epoch 11/100\n",
      "50000/50000 [==============================] - 3s 54us/sample - loss: 1.3754 - accuracy: 0.5070\n",
      "Epoch 12/100\n",
      "50000/50000 [==============================] - 3s 54us/sample - loss: 1.3455 - accuracy: 0.5202\n",
      "Epoch 13/100\n",
      "50000/50000 [==============================] - 3s 54us/sample - loss: 1.3200 - accuracy: 0.5297\n",
      "Epoch 14/100\n",
      "50000/50000 [==============================] - 3s 54us/sample - loss: 1.2949 - accuracy: 0.5395\n",
      "Epoch 15/100\n",
      "50000/50000 [==============================] - 3s 54us/sample - loss: 1.2736 - accuracy: 0.5458\n",
      "Epoch 16/100\n",
      "50000/50000 [==============================] - 3s 54us/sample - loss: 1.2515 - accuracy: 0.5541\n",
      "Epoch 17/100\n",
      "50000/50000 [==============================] - 3s 54us/sample - loss: 1.2336 - accuracy: 0.5614\n",
      "Epoch 18/100\n",
      "50000/50000 [==============================] - 3s 54us/sample - loss: 1.2119 - accuracy: 0.5696\n",
      "Epoch 19/100\n",
      "50000/50000 [==============================] - 3s 54us/sample - loss: 1.1922 - accuracy: 0.5794\n",
      "Epoch 20/100\n",
      "50000/50000 [==============================] - 3s 54us/sample - loss: 1.1763 - accuracy: 0.5844\n",
      "Epoch 21/100\n",
      "50000/50000 [==============================] - 3s 54us/sample - loss: 1.1589 - accuracy: 0.5885\n",
      "Epoch 22/100\n",
      "50000/50000 [==============================] - 3s 54us/sample - loss: 1.1400 - accuracy: 0.5966\n",
      "Epoch 23/100\n",
      "50000/50000 [==============================] - 3s 54us/sample - loss: 1.1295 - accuracy: 0.6026\n",
      "Epoch 24/100\n",
      "50000/50000 [==============================] - 3s 55us/sample - loss: 1.1100 - accuracy: 0.6085\n",
      "Epoch 25/100\n",
      "50000/50000 [==============================] - 3s 54us/sample - loss: 1.0977 - accuracy: 0.6100\n",
      "Epoch 26/100\n",
      "50000/50000 [==============================] - 3s 54us/sample - loss: 1.0849 - accuracy: 0.6179\n",
      "Epoch 27/100\n",
      "50000/50000 [==============================] - 3s 54us/sample - loss: 1.0678 - accuracy: 0.6238\n",
      "Epoch 28/100\n",
      "50000/50000 [==============================] - 3s 54us/sample - loss: 1.0549 - accuracy: 0.6293\n",
      "Epoch 29/100\n",
      "50000/50000 [==============================] - 3s 54us/sample - loss: 1.0395 - accuracy: 0.6342\n",
      "Epoch 30/100\n",
      "50000/50000 [==============================] - 3s 54us/sample - loss: 1.0264 - accuracy: 0.6388\n",
      "Epoch 31/100\n",
      "50000/50000 [==============================] - 3s 54us/sample - loss: 1.0137 - accuracy: 0.6443\n",
      "Epoch 32/100\n",
      "50000/50000 [==============================] - 3s 54us/sample - loss: 0.9944 - accuracy: 0.6526\n",
      "Epoch 33/100\n",
      "50000/50000 [==============================] - 3s 55us/sample - loss: 0.9843 - accuracy: 0.6520\n",
      "Epoch 34/100\n",
      "50000/50000 [==============================] - 3s 55us/sample - loss: 0.9722 - accuracy: 0.6608\n",
      "Epoch 35/100\n",
      "50000/50000 [==============================] - 3s 54us/sample - loss: 0.9671 - accuracy: 0.6607\n",
      "Epoch 36/100\n",
      "50000/50000 [==============================] - 3s 54us/sample - loss: 0.9489 - accuracy: 0.6678\n",
      "Epoch 37/100\n",
      "50000/50000 [==============================] - 3s 54us/sample - loss: 0.9441 - accuracy: 0.6672\n",
      "Epoch 38/100\n",
      "50000/50000 [==============================] - 3s 54us/sample - loss: 0.9285 - accuracy: 0.6742\n",
      "Epoch 39/100\n",
      "50000/50000 [==============================] - 3s 55us/sample - loss: 0.9136 - accuracy: 0.6791\n",
      "Epoch 40/100\n",
      "50000/50000 [==============================] - 3s 54us/sample - loss: 0.9094 - accuracy: 0.6802\n",
      "Epoch 41/100\n",
      "50000/50000 [==============================] - 3s 54us/sample - loss: 0.8941 - accuracy: 0.6862\n",
      "Epoch 42/100\n",
      "50000/50000 [==============================] - 3s 54us/sample - loss: 0.8858 - accuracy: 0.6899\n",
      "Epoch 43/100\n",
      "50000/50000 [==============================] - 3s 54us/sample - loss: 0.8724 - accuracy: 0.6920\n",
      "Epoch 44/100\n",
      "50000/50000 [==============================] - 3s 54us/sample - loss: 0.8659 - accuracy: 0.6974\n",
      "Epoch 45/100\n",
      "50000/50000 [==============================] - 3s 55us/sample - loss: 0.8523 - accuracy: 0.7033\n",
      "Epoch 46/100\n",
      "50000/50000 [==============================] - 3s 55us/sample - loss: 0.8446 - accuracy: 0.7040\n",
      "Epoch 47/100\n",
      "50000/50000 [==============================] - 3s 54us/sample - loss: 0.8328 - accuracy: 0.7078\n",
      "Epoch 48/100\n",
      "50000/50000 [==============================] - 3s 54us/sample - loss: 0.8226 - accuracy: 0.7129\n",
      "Epoch 49/100\n",
      "50000/50000 [==============================] - 3s 54us/sample - loss: 0.8117 - accuracy: 0.7147\n",
      "Epoch 50/100\n",
      "50000/50000 [==============================] - 3s 54us/sample - loss: 0.8019 - accuracy: 0.7200\n",
      "Epoch 51/100\n",
      "50000/50000 [==============================] - 3s 54us/sample - loss: 0.7916 - accuracy: 0.7252\n",
      "Epoch 52/100\n",
      "50000/50000 [==============================] - 3s 54us/sample - loss: 0.7826 - accuracy: 0.7241\n",
      "Epoch 53/100\n",
      "50000/50000 [==============================] - 3s 54us/sample - loss: 0.7732 - accuracy: 0.7308\n",
      "Epoch 54/100\n",
      "50000/50000 [==============================] - 3s 54us/sample - loss: 0.7650 - accuracy: 0.7309\n",
      "Epoch 55/100\n",
      "50000/50000 [==============================] - 3s 54us/sample - loss: 0.7562 - accuracy: 0.7357\n",
      "Epoch 56/100\n",
      "50000/50000 [==============================] - 3s 55us/sample - loss: 0.7462 - accuracy: 0.7394\n",
      "Epoch 57/100\n",
      "50000/50000 [==============================] - 3s 54us/sample - loss: 0.7338 - accuracy: 0.7439\n",
      "Epoch 58/100\n",
      "50000/50000 [==============================] - 3s 54us/sample - loss: 0.7266 - accuracy: 0.7468\n",
      "Epoch 59/100\n",
      "50000/50000 [==============================] - 3s 54us/sample - loss: 0.7211 - accuracy: 0.7448\n",
      "Epoch 60/100\n",
      "50000/50000 [==============================] - 3s 55us/sample - loss: 0.7093 - accuracy: 0.7499\n",
      "Epoch 61/100\n",
      "50000/50000 [==============================] - 3s 54us/sample - loss: 0.7032 - accuracy: 0.7547\n",
      "Epoch 62/100\n",
      "50000/50000 [==============================] - 3s 55us/sample - loss: 0.6908 - accuracy: 0.7590\n",
      "Epoch 63/100\n",
      "50000/50000 [==============================] - 3s 54us/sample - loss: 0.6799 - accuracy: 0.7600\n",
      "Epoch 64/100\n",
      "50000/50000 [==============================] - 3s 55us/sample - loss: 0.6786 - accuracy: 0.7606\n",
      "Epoch 65/100\n",
      "50000/50000 [==============================] - 3s 54us/sample - loss: 0.6649 - accuracy: 0.7689\n",
      "Epoch 66/100\n",
      "50000/50000 [==============================] - 3s 54us/sample - loss: 0.6563 - accuracy: 0.7693\n",
      "Epoch 67/100\n",
      "50000/50000 [==============================] - 3s 55us/sample - loss: 0.6499 - accuracy: 0.7712\n",
      "Epoch 68/100\n",
      "50000/50000 [==============================] - 3s 54us/sample - loss: 0.6426 - accuracy: 0.7739\n",
      "Epoch 69/100\n",
      "50000/50000 [==============================] - 3s 55us/sample - loss: 0.6351 - accuracy: 0.7774\n",
      "Epoch 70/100\n",
      "50000/50000 [==============================] - 3s 54us/sample - loss: 0.6244 - accuracy: 0.7800\n",
      "Epoch 71/100\n",
      "50000/50000 [==============================] - 3s 54us/sample - loss: 0.6242 - accuracy: 0.7796\n",
      "Epoch 72/100\n",
      "50000/50000 [==============================] - 3s 54us/sample - loss: 0.6119 - accuracy: 0.7839\n",
      "Epoch 73/100\n",
      "50000/50000 [==============================] - 3s 54us/sample - loss: 0.6044 - accuracy: 0.7885\n",
      "Epoch 74/100\n",
      "50000/50000 [==============================] - 3s 54us/sample - loss: 0.5975 - accuracy: 0.7910\n",
      "Epoch 75/100\n",
      "50000/50000 [==============================] - 3s 54us/sample - loss: 0.5912 - accuracy: 0.7906\n",
      "Epoch 76/100\n"
     ]
    },
    {
     "name": "stdout",
     "output_type": "stream",
     "text": [
      "50000/50000 [==============================] - 3s 55us/sample - loss: 0.5830 - accuracy: 0.7967\n",
      "Epoch 77/100\n",
      "50000/50000 [==============================] - 3s 55us/sample - loss: 0.5784 - accuracy: 0.7980\n",
      "Epoch 78/100\n",
      "50000/50000 [==============================] - 3s 54us/sample - loss: 0.5682 - accuracy: 0.8005\n",
      "Epoch 79/100\n",
      "50000/50000 [==============================] - 3s 55us/sample - loss: 0.5614 - accuracy: 0.8034\n",
      "Epoch 80/100\n",
      "50000/50000 [==============================] - 3s 55us/sample - loss: 0.5561 - accuracy: 0.8030\n",
      "Epoch 81/100\n",
      "50000/50000 [==============================] - 3s 55us/sample - loss: 0.5466 - accuracy: 0.8065\n",
      "Epoch 82/100\n",
      "50000/50000 [==============================] - 3s 55us/sample - loss: 0.5400 - accuracy: 0.8092\n",
      "Epoch 83/100\n",
      "50000/50000 [==============================] - 3s 55us/sample - loss: 0.5356 - accuracy: 0.8103\n",
      "Epoch 84/100\n",
      "50000/50000 [==============================] - 3s 55us/sample - loss: 0.5317 - accuracy: 0.8130\n",
      "Epoch 85/100\n",
      "50000/50000 [==============================] - 3s 55us/sample - loss: 0.5259 - accuracy: 0.8150\n",
      "Epoch 86/100\n",
      "50000/50000 [==============================] - 3s 55us/sample - loss: 0.5141 - accuracy: 0.8192\n",
      "Epoch 87/100\n",
      "50000/50000 [==============================] - 3s 55us/sample - loss: 0.5088 - accuracy: 0.8201\n",
      "Epoch 88/100\n",
      "50000/50000 [==============================] - 3s 55us/sample - loss: 0.5033 - accuracy: 0.8215\n",
      "Epoch 89/100\n",
      "50000/50000 [==============================] - 3s 55us/sample - loss: 0.4999 - accuracy: 0.8236\n",
      "Epoch 90/100\n",
      "50000/50000 [==============================] - 3s 55us/sample - loss: 0.4919 - accuracy: 0.8273\n",
      "Epoch 91/100\n",
      "50000/50000 [==============================] - 3s 55us/sample - loss: 0.4847 - accuracy: 0.8285\n",
      "Epoch 92/100\n",
      "50000/50000 [==============================] - 3s 55us/sample - loss: 0.4820 - accuracy: 0.8311\n",
      "Epoch 93/100\n",
      "50000/50000 [==============================] - 3s 55us/sample - loss: 0.4718 - accuracy: 0.8329\n",
      "Epoch 94/100\n",
      "50000/50000 [==============================] - 3s 55us/sample - loss: 0.4701 - accuracy: 0.8324\n",
      "Epoch 95/100\n",
      "50000/50000 [==============================] - 3s 55us/sample - loss: 0.4645 - accuracy: 0.8365\n",
      "Epoch 96/100\n",
      "50000/50000 [==============================] - 3s 55us/sample - loss: 0.4576 - accuracy: 0.8393\n",
      "Epoch 97/100\n",
      "50000/50000 [==============================] - 3s 55us/sample - loss: 0.4460 - accuracy: 0.8421\n",
      "Epoch 98/100\n",
      "50000/50000 [==============================] - 3s 55us/sample - loss: 0.4495 - accuracy: 0.8406\n",
      "Epoch 99/100\n",
      "50000/50000 [==============================] - 3s 55us/sample - loss: 0.4429 - accuracy: 0.8437\n",
      "Epoch 100/100\n",
      "50000/50000 [==============================] - 3s 55us/sample - loss: 0.4362 - accuracy: 0.8453\n"
     ]
    },
    {
     "data": {
      "text/plain": [
       "<tensorflow.python.keras.callbacks.History at 0x7ff3fc3898d0>"
      ]
     },
     "execution_count": 62,
     "metadata": {},
     "output_type": "execute_result"
    }
   ],
   "source": [
    "# model.fit(x_train,y_cat_train,epochs=15,validation_data=(x_test,y_cat_test),callbacks=[early_stop])\n",
    "\n",
    "cnn.fit(x_train, y_cat_train, batch_size = 512, epochs=100)"
   ]
  },
  {
   "cell_type": "code",
   "execution_count": 63,
   "metadata": {},
   "outputs": [
    {
     "name": "stdout",
     "output_type": "stream",
     "text": [
      "Test Accuracy: 0.7678999900817871\n"
     ]
    }
   ],
   "source": [
    "evaluation = cnn.evaluate(x_test, y_cat_test, verbose=0)\n",
    "print('Test Accuracy: {}'.format(evaluation[1]))"
   ]
  },
  {
   "cell_type": "code",
   "execution_count": 64,
   "metadata": {},
   "outputs": [
    {
     "ename": "NameError",
     "evalue": "name 'X_test' is not defined",
     "output_type": "error",
     "traceback": [
      "\u001b[0;31m---------------------------------------------------------------------------\u001b[0m",
      "\u001b[0;31mNameError\u001b[0m                                 Traceback (most recent call last)",
      "\u001b[0;32m<ipython-input-64-1d7c91dbb0b1>\u001b[0m in \u001b[0;36m<module>\u001b[0;34m\u001b[0m\n\u001b[0;32m----> 1\u001b[0;31m \u001b[0mpredicted_classes\u001b[0m \u001b[0;34m=\u001b[0m \u001b[0mcnn\u001b[0m\u001b[0;34m.\u001b[0m\u001b[0mpredict_classes\u001b[0m\u001b[0;34m(\u001b[0m\u001b[0mX_test\u001b[0m\u001b[0;34m)\u001b[0m\u001b[0;34m\u001b[0m\u001b[0;34m\u001b[0m\u001b[0m\n\u001b[0m\u001b[1;32m      2\u001b[0m \u001b[0mpredicted_classes\u001b[0m\u001b[0;34m\u001b[0m\u001b[0;34m\u001b[0m\u001b[0m\n",
      "\u001b[0;31mNameError\u001b[0m: name 'X_test' is not defined"
     ]
    }
   ],
   "source": [
    "predicted_classes = cnn.predict_classes(X_test) \n",
    "predicted_classes"
   ]
  },
  {
   "cell_type": "code",
   "execution_count": null,
   "metadata": {},
   "outputs": [],
   "source": [
    "y_test"
   ]
  },
  {
   "cell_type": "code",
   "execution_count": null,
   "metadata": {},
   "outputs": [],
   "source": [
    "L = 7\n",
    "W = 7\n",
    "fig, axes = plt.subplots(L, W, figsize = (12, 12))\n",
    "axes = axes.ravel()\n",
    "\n",
    "for i in np.arange(0, L*W):\n",
    "    axes[i].imshow(X_test[i])\n",
    "    axes[i].set_title('Prediction = {}\\n True = {}'.format(predicted_classes[i], y_test[i]))\n",
    "    axes[i].axis('off')\n",
    "\n",
    "plt.subplots_adjust(wspace = 1)   "
   ]
  },
  {
   "cell_type": "markdown",
   "metadata": {},
   "source": [
    "### model3  :  fit with validation_data=(x_test, y_cat_test)"
   ]
  },
  {
   "cell_type": "code",
   "execution_count": null,
   "metadata": {},
   "outputs": [],
   "source": []
  },
  {
   "cell_type": "code",
   "execution_count": null,
   "metadata": {},
   "outputs": [],
   "source": [
    "#model 2 \n",
    "cnn2 = tf.keras.Sequential()\n",
    "\n",
    "cnn2.add(tf.keras.layers.Conv2D(32, (3,3), activation = 'relu', input_shape = (32,32,3)))\n",
    "cnn2.add(tf.keras.layers.Conv2D(32, (3,3), activation = 'relu'))\n",
    "cnn2.add(tf.keras.layers.MaxPooling2D(2,2))\n",
    "cnn2.add(tf.keras.layers.Dropout(0.3))\n",
    "\n",
    "\n",
    "cnn2.add(tf.keras.layers.Conv2D(64, (3,3), activation = 'relu'))\n",
    "cnn2.add(tf.keras.layers.Conv2D(64, (3,3), activation = 'relu'))\n",
    "cnn2.add(tf.keras.layers.MaxPooling2D(2,2))\n",
    "cnn2.add(tf.keras.layers.Dropout(0.3))\n",
    "\n",
    "cnn2.add(tf.keras.layers.Flatten())\n",
    "\n",
    "cnn2.add(tf.keras.layers.Dense(1024, activation = 'relu'))\n",
    "cnn2.add(tf.keras.layers.Dropout(0.3))\n",
    "\n",
    "cnn2.add(tf.keras.layers.Dense(1024, activation = 'relu'))\n",
    "\n",
    "cnn2.add(tf.keras.layers.Dense(10, activation = 'softmax'))\n"
   ]
  },
  {
   "cell_type": "code",
   "execution_count": null,
   "metadata": {},
   "outputs": [],
   "source": [
    "cnn2.summary()"
   ]
  },
  {
   "cell_type": "code",
   "execution_count": null,
   "metadata": {},
   "outputs": [],
   "source": [
    "cnn2.compile(optimizer = tf.keras.optimizers.RMSprop(0.0001, decay = 1e-6), loss ='categorical_crossentropy', metrics =['accuracy'])"
   ]
  },
  {
   "cell_type": "code",
   "execution_count": null,
   "metadata": {},
   "outputs": [],
   "source": [
    "# model.fit(x_train,y_cat_train,epochs=15,validation_data=(x_test,y_cat_test),callbacks=[early_stop])\n",
    "\n",
    "cnn2.fit(x_train, y_cat_train, validation_data=(x_test,y_cat_test), batch_size = 512, epochs=100)"
   ]
  },
  {
   "cell_type": "code",
   "execution_count": null,
   "metadata": {},
   "outputs": [],
   "source": [
    "evaluation = cnn.evaluate(x_test, y_cat_test, verbose=0)\n",
    "print('Test Accuracy: {}'.format(evaluation[1]))"
   ]
  },
  {
   "cell_type": "code",
   "execution_count": null,
   "metadata": {},
   "outputs": [],
   "source": [
    "predicted_classes = cnn.predict_classes(X_test) \n",
    "predicted_classes"
   ]
  },
  {
   "cell_type": "code",
   "execution_count": null,
   "metadata": {},
   "outputs": [],
   "source": [
    "y_test"
   ]
  },
  {
   "cell_type": "markdown",
   "metadata": {},
   "source": [
    "##### metrics "
   ]
  },
  {
   "cell_type": "code",
   "execution_count": null,
   "metadata": {},
   "outputs": [],
   "source": [
    "metrics = pd.DataFrame(model.history.history)\n",
    "metrics"
   ]
  },
  {
   "cell_type": "code",
   "execution_count": null,
   "metadata": {},
   "outputs": [],
   "source": [
    "metrics.columns"
   ]
  },
  {
   "cell_type": "code",
   "execution_count": null,
   "metadata": {},
   "outputs": [],
   "source": [
    "metrics[['accuracy','val_accuracy']].plot()"
   ]
  },
  {
   "cell_type": "code",
   "execution_count": null,
   "metadata": {},
   "outputs": [],
   "source": [
    "metrics[['loss','val_loss']].plot()"
   ]
  },
  {
   "cell_type": "code",
   "execution_count": null,
   "metadata": {},
   "outputs": [],
   "source": [
    "print(cnn2.metrics_names)\n",
    "print(cnn2.evaluate(x_test,y_cat_test,verbose=0))"
   ]
  },
  {
   "cell_type": "code",
   "execution_count": null,
   "metadata": {},
   "outputs": [],
   "source": [
    "from sklearn.metrics import classification_report,confusion_matrix\n",
    "\n",
    "predictions = model.predict_classes(x_test)\n",
    "print(predictions.shape)\n",
    "predictions[-10:]"
   ]
  },
  {
   "cell_type": "code",
   "execution_count": null,
   "metadata": {},
   "outputs": [],
   "source": [
    "y_test"
   ]
  },
  {
   "cell_type": "code",
   "execution_count": null,
   "metadata": {},
   "outputs": [],
   "source": [
    "print(classification_report(y_test,predictions))"
   ]
  },
  {
   "cell_type": "code",
   "execution_count": null,
   "metadata": {},
   "outputs": [],
   "source": [
    "confusion_matrix(y_test,predictions)"
   ]
  },
  {
   "cell_type": "markdown",
   "metadata": {},
   "source": [
    "# Predicting a given image"
   ]
  },
  {
   "cell_type": "code",
   "execution_count": 53,
   "metadata": {},
   "outputs": [],
   "source": [
    "my_image = x_test[16]"
   ]
  },
  {
   "cell_type": "code",
   "execution_count": 54,
   "metadata": {},
   "outputs": [
    {
     "data": {
      "text/plain": [
       "(32, 32, 3)"
      ]
     },
     "execution_count": 54,
     "metadata": {},
     "output_type": "execute_result"
    }
   ],
   "source": [
    "my_image.shape"
   ]
  },
  {
   "cell_type": "code",
   "execution_count": 55,
   "metadata": {},
   "outputs": [
    {
     "data": {
      "text/plain": [
       "<matplotlib.image.AxesImage at 0x7f7a18624d90>"
      ]
     },
     "execution_count": 55,
     "metadata": {},
     "output_type": "execute_result"
    },
    {
     "data": {
      "image/png": "[encoded data removed]",
      "text/plain": [
       "<Figure size 432x288 with 1 Axes>"
      ]
     },
     "metadata": {
      "needs_background": "light"
     },
     "output_type": "display_data"
    }
   ],
   "source": [
    "plt.imshow(my_image)"
   ]
  },
  {
   "cell_type": "code",
   "execution_count": 56,
   "metadata": {},
   "outputs": [
    {
     "data": {
      "text/plain": [
       "array([5])"
      ]
     },
     "execution_count": 56,
     "metadata": {},
     "output_type": "execute_result"
    }
   ],
   "source": [
    "# SHAPE --> (num_images,width,height,color_channels)\n",
    "model.predict_classes(my_image.reshape(1,32,32,3))"
   ]
  },
  {
   "cell_type": "code",
   "execution_count": 110,
   "metadata": {},
   "outputs": [],
   "source": [
    "# 5 is DOG\n",
    "# https://www.cs.toronto.edu/~kriz/cifar.html"
   ]
  },
  {
   "cell_type": "code",
   "execution_count": null,
   "metadata": {},
   "outputs": [],
   "source": []
  }
 ],
 "metadata": {
  "kernelspec": {
   "display_name": "Python 3",
   "language": "python",
   "name": "python3"
  },
  "language_info": {
   "codemirror_mode": {
    "name": "ipython",
    "version": 3
   },
   "file_extension": ".py",
   "mimetype": "text/x-python",
   "name": "python",
   "nbconvert_exporter": "python",
   "pygments_lexer": "ipython3",
   "version": "3.7.6"
  }
 },
 "nbformat": 4,
 "nbformat_minor": 2
}
