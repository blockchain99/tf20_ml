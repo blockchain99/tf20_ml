{
 "cells": [
  {
   "cell_type": "code",
   "execution_count": 1,
   "metadata": {},
   "outputs": [],
   "source": [
    "import numpy as np\n",
    "import pandas as pd\n",
    "import seaborn as sn\n",
    "import math"
   ]
  },
  {
   "cell_type": "code",
   "execution_count": 2,
   "metadata": {},
   "outputs": [
    {
     "data": {
      "text/plain": [
       "1.3862943611198906"
      ]
     },
     "execution_count": 2,
     "metadata": {},
     "output_type": "execute_result"
    }
   ],
   "source": [
    "-math.log(0.25)"
   ]
  },
  {
   "cell_type": "code",
   "execution_count": 3,
   "metadata": {},
   "outputs": [],
   "source": [
    "# -math.log(-0.25)"
   ]
  },
  {
   "cell_type": "code",
   "execution_count": 4,
   "metadata": {},
   "outputs": [
    {
     "data": {
      "text/plain": [
       "2.302585092994046"
      ]
     },
     "execution_count": 4,
     "metadata": {},
     "output_type": "execute_result"
    }
   ],
   "source": [
    "math.log(10)"
   ]
  },
  {
   "cell_type": "code",
   "execution_count": 5,
   "metadata": {},
   "outputs": [
    {
     "data": {
      "text/plain": [
       "0.6931471805599453"
      ]
     },
     "execution_count": 5,
     "metadata": {},
     "output_type": "execute_result"
    }
   ],
   "source": [
    "math.log(2)"
   ]
  },
  {
   "cell_type": "code",
   "execution_count": 6,
   "metadata": {},
   "outputs": [
    {
     "data": {
      "text/plain": [
       "1.0"
      ]
     },
     "execution_count": 6,
     "metadata": {},
     "output_type": "execute_result"
    }
   ],
   "source": [
    "math.log(math.e) "
   ]
  },
  {
   "cell_type": "code",
   "execution_count": 7,
   "metadata": {},
   "outputs": [
    {
     "data": {
      "text/plain": [
       "4.605170185988092"
      ]
     },
     "execution_count": 7,
     "metadata": {},
     "output_type": "execute_result"
    }
   ],
   "source": [
    "math.log(100)"
   ]
  },
  {
   "cell_type": "code",
   "execution_count": 9,
   "metadata": {},
   "outputs": [
    {
     "data": {
      "text/plain": [
       "6.907755278982137"
      ]
     },
     "execution_count": 9,
     "metadata": {},
     "output_type": "execute_result"
    }
   ],
   "source": [
    "math.log(1000)"
   ]
  },
  {
   "cell_type": "code",
   "execution_count": 10,
   "metadata": {},
   "outputs": [
    {
     "data": {
      "text/plain": [
       "9.210340371976184"
      ]
     },
     "execution_count": 10,
     "metadata": {},
     "output_type": "execute_result"
    }
   ],
   "source": [
    "math.log(10000)"
   ]
  },
  {
   "cell_type": "code",
   "execution_count": 12,
   "metadata": {},
   "outputs": [
    {
     "data": {
      "text/plain": [
       "array([0.        , 0.33333333, 0.66666667, 1.        , 1.33333333,\n",
       "       1.66666667, 2.        , 2.33333333, 2.66666667, 3.        ])"
      ]
     },
     "execution_count": 12,
     "metadata": {},
     "output_type": "execute_result"
    }
   ],
   "source": [
    "np.linspace(0,3,10)"
   ]
  },
  {
   "cell_type": "code",
   "execution_count": 23,
   "metadata": {},
   "outputs": [
    {
     "data": {
      "image/png": "[encoded data removed]",
      "text/plain": [
       "<Figure size 648x648 with 9 Axes>"
      ]
     },
     "metadata": {},
     "output_type": "display_data"
    }
   ],
   "source": [
    "# axes is a numpy array of axes,\n",
    "f, axes = plt.subplots(3, 3, figsize=(9, 9), sharex=True, sharey=True)"
   ]
  },
  {
   "cell_type": "code",
   "execution_count": 27,
   "metadata": {},
   "outputs": [
    {
     "name": "stdout",
     "output_type": "stream",
     "text": [
      "<class 'numpy.ndarray'>\n",
      "(3, 3)\n"
     ]
    },
    {
     "data": {
      "text/plain": [
       "array([[<matplotlib.axes._subplots.AxesSubplot object at 0x7f7f5c92d7d0>,\n",
       "        <matplotlib.axes._subplots.AxesSubplot object at 0x7f7f5c94cb50>,\n",
       "        <matplotlib.axes._subplots.AxesSubplot object at 0x7f7f5c909410>],\n",
       "       [<matplotlib.axes._subplots.AxesSubplot object at 0x7f7f5c8ca410>,\n",
       "        <matplotlib.axes._subplots.AxesSubplot object at 0x7f7f5c880890>,\n",
       "        <matplotlib.axes._subplots.AxesSubplot object at 0x7f7f5c8361d0>],\n",
       "       [<matplotlib.axes._subplots.AxesSubplot object at 0x7f7f5c7f82d0>,\n",
       "        <matplotlib.axes._subplots.AxesSubplot object at 0x7f7f5c7ad750>,\n",
       "        <matplotlib.axes._subplots.AxesSubplot object at 0x7f7f5c7daf90>]],\n",
       "      dtype=object)"
      ]
     },
     "execution_count": 27,
     "metadata": {},
     "output_type": "execute_result"
    }
   ],
   "source": [
    "print(type(axes))\n",
    "print(axes.shape)\n",
    "axes"
   ]
  },
  {
   "cell_type": "code",
   "execution_count": 37,
   "metadata": {},
   "outputs": [
    {
     "name": "stdout",
     "output_type": "stream",
     "text": [
      "AxesSubplot(0.125,0.657941;0.227941x0.222059)\n",
      "AxesSubplot(0.398529,0.657941;0.227941x0.222059)\n",
      "AxesSubplot(0.672059,0.657941;0.227941x0.222059)\n",
      "AxesSubplot(0.125,0.391471;0.227941x0.222059)\n",
      "AxesSubplot(0.398529,0.391471;0.227941x0.222059)\n",
      "AxesSubplot(0.672059,0.391471;0.227941x0.222059)\n",
      "AxesSubplot(0.125,0.125;0.227941x0.222059)\n",
      "AxesSubplot(0.398529,0.125;0.227941x0.222059)\n",
      "AxesSubplot(0.672059,0.125;0.227941x0.222059)\n"
     ]
    }
   ],
   "source": [
    "for x in axes.flat:\n",
    "    print(x)"
   ]
  },
  {
   "cell_type": "markdown",
   "metadata": {},
   "source": [
    "axes.flat is not a function, it's an attribute of the numpy.ndarray: numpy.ndarray.flat : A **1-D iterator** over the array."
   ]
  },
  {
   "cell_type": "code",
   "execution_count": 35,
   "metadata": {},
   "outputs": [
    {
     "name": "stdout",
     "output_type": "stream",
     "text": [
      " array a : type is <class 'numpy.ndarray'> and shape is (3, 2)\n",
      "[[2 3]\n",
      " [4 5]\n",
      " [6 7]]\n",
      "-------------------------------------------------------------\n",
      " array a.flat : type is <class 'numpy.flatiter'> and  length is 6 \n",
      "2\n",
      "3\n",
      "4\n",
      "5\n",
      "6\n",
      "7\n"
     ]
    }
   ],
   "source": [
    "a = np.array([[2,3],\n",
    "              [4,5],\n",
    "              [6,7]])\n",
    "print(f' array a : type is {type(a)} and shape is {a.shape}')\n",
    "print(a)\n",
    "print(\"-------------------------------------------------------------\")\n",
    "print(f' array a.flat : type is {type(a.flat)} and  length is {len(a.flat)} ')\n",
    "for i in a.flat:\n",
    "    print(i)"
   ]
  },
  {
   "cell_type": "code",
   "execution_count": 12,
   "metadata": {},
   "outputs": [
    {
     "data": {
      "text/plain": [
       "array([0.        , 0.33333333, 0.66666667, 1.        , 1.33333333,\n",
       "       1.66666667, 2.        , 2.33333333, 2.66666667, 3.        ])"
      ]
     },
     "execution_count": 12,
     "metadata": {},
     "output_type": "execute_result"
    }
   ],
   "source": [
    "np.linspace(0,3,10)"
   ]
  },
  {
   "cell_type": "code",
   "execution_count": 19,
   "metadata": {},
   "outputs": [
    {
     "name": "stdout",
     "output_type": "stream",
     "text": [
      "(<matplotlib.axes._subplots.AxesSubplot object at 0x7f7f5d89b350>, 0.0)\n",
      "(<matplotlib.axes._subplots.AxesSubplot object at 0x7f7f5ee48ed0>, 0.3333333333333333)\n",
      "(<matplotlib.axes._subplots.AxesSubplot object at 0x7f7f5ef0d210>, 0.6666666666666666)\n",
      "(<matplotlib.axes._subplots.AxesSubplot object at 0x7f7f5da62150>, 1.0)\n",
      "(<matplotlib.axes._subplots.AxesSubplot object at 0x7f7f5da7f5d0>, 1.3333333333333333)\n",
      "(<matplotlib.axes._subplots.AxesSubplot object at 0x7f7f5da1ea50>, 1.6666666666666665)\n",
      "(<matplotlib.axes._subplots.AxesSubplot object at 0x7f7f5da3b390>, 2.0)\n",
      "(<matplotlib.axes._subplots.AxesSubplot object at 0x7f7f5d9e1490>, 2.333333333333333)\n",
      "(<matplotlib.axes._subplots.AxesSubplot object at 0x7f7f5d9f8cd0>, 2.6666666666666665)\n"
     ]
    }
   ],
   "source": [
    "for x in zip(axes.flat, np.linspace(0, 3, 10)):\n",
    "    print(x)"
   ]
  },
  {
   "cell_type": "code",
   "execution_count": 104,
   "metadata": {},
   "outputs": [
    {
     "name": "stdout",
     "output_type": "stream",
     "text": [
      "AxesSubplot(0.0597377,0.689537;0.293421x0.28429) 0.0\n",
      "----------------------------\n",
      "AxesSubplot(0.373158,0.689537;0.293421x0.28429) 0.3333333333333333\n",
      "----------------------------\n",
      "AxesSubplot(0.686579,0.689537;0.293421x0.28429) 0.6666666666666666\n",
      "----------------------------\n",
      "AxesSubplot(0.0597377,0.369815;0.293421x0.28429) 1.0\n",
      "----------------------------\n",
      "AxesSubplot(0.373158,0.369815;0.293421x0.28429) 1.3333333333333333\n",
      "----------------------------\n",
      "AxesSubplot(0.686579,0.369815;0.293421x0.28429) 1.6666666666666665\n",
      "----------------------------\n",
      "AxesSubplot(0.0597377,0.0500926;0.293421x0.28429) 2.0\n",
      "----------------------------\n",
      "AxesSubplot(0.373158,0.0500926;0.293421x0.28429) 2.333333333333333\n",
      "----------------------------\n",
      "AxesSubplot(0.686579,0.0500926;0.293421x0.28429) 2.6666666666666665\n",
      "----------------------------\n"
     ]
    }
   ],
   "source": []
  },
  {
   "cell_type": "code",
   "execution_count": null,
   "metadata": {},
   "outputs": [],
   "source": []
  },
  {
   "cell_type": "code",
   "execution_count": 12,
   "metadata": {},
   "outputs": [
    {
     "data": {
      "text/plain": [
       "array([0.        , 0.33333333, 0.66666667, 1.        , 1.33333333,\n",
       "       1.66666667, 2.        , 2.33333333, 2.66666667, 3.        ])"
      ]
     },
     "execution_count": 12,
     "metadata": {},
     "output_type": "execute_result"
    }
   ],
   "source": [
    "np.linspace(0,3,10)"
   ]
  },
  {
   "cell_type": "markdown",
   "metadata": {},
   "source": [
    "### multivariate_normal(mean, covarinace, size)"
   ]
  },
  {
   "cell_type": "code",
   "execution_count": 81,
   "metadata": {},
   "outputs": [
    {
     "name": "stdout",
     "output_type": "stream",
     "text": [
      "[[-1.42761245 -6.48399595 -8.57975038  1.5504988   5.36167311 -0.21204672\n",
      "  -5.26589565  0.90533776  0.91676581  0.40724403]\n",
      " [51.04058191 47.47994131 49.09148238 48.58121361 48.31535328 45.23981286\n",
      "  52.11834557 47.59771863 50.58268975 51.44439907]]\n"
     ]
    }
   ],
   "source": [
    "# test : multivariate_normal , generate 2 set of normal random matrix with each mean, and 10 elements. \n",
    "# Covariance matrix of the distribution. It must be symmetric and positive-semidefinite for proper sampling.\n",
    "mean = [0, 50] \n",
    "cov = [[5, 0], [0,5]] \n",
    "# cov = [[10, 0], [0, 10]] \n",
    "\n",
    "\n",
    "gfg = np.random.multivariate_normal(mean, cov, 10).T #matrix is covariance\n",
    "  \n",
    "print(gfg) "
   ]
  },
  {
   "cell_type": "code",
   "execution_count": 82,
   "metadata": {},
   "outputs": [
    {
     "name": "stdout",
     "output_type": "stream",
     "text": [
      "(50, 2)\n"
     ]
    },
    {
     "data": {
      "text/plain": [
       "array([[ 9.78647593e-02,  5.02293683e+01],\n",
       "       [ 2.02326094e+00,  5.12073279e+01],\n",
       "       [-7.13677077e-01,  5.17344654e+01],\n",
       "       [ 1.65822873e+00,  4.83033029e+01],\n",
       "       [ 5.56170759e+00,  5.01418238e+01],\n",
       "       [ 2.04508541e+00,  5.00417872e+01],\n",
       "       [ 2.27741993e-01,  4.95731896e+01],\n",
       "       [ 1.64253195e+00,  4.91081877e+01],\n",
       "       [ 1.90839795e+00,  4.96063210e+01],\n",
       "       [ 9.25573938e-03,  4.38109711e+01],\n",
       "       [-8.40683908e-01,  4.93341722e+01],\n",
       "       [ 1.84518364e+00,  5.19650381e+01],\n",
       "       [ 3.48570112e+00,  4.84245360e+01],\n",
       "       [ 2.29270129e+00,  4.79206237e+01],\n",
       "       [-2.77235567e+00,  5.09978107e+01],\n",
       "       [-1.76953241e+00,  4.85420604e+01],\n",
       "       [ 3.20945856e+00,  5.25403061e+01],\n",
       "       [ 4.65136474e+00,  4.92380119e+01],\n",
       "       [-1.39573285e+00,  5.16119091e+01],\n",
       "       [-1.63996836e+00,  5.11043715e+01],\n",
       "       [ 4.10780195e+00,  4.97409238e+01],\n",
       "       [ 2.68615385e+00,  5.18630235e+01],\n",
       "       [-6.14379868e-01,  5.17446755e+01],\n",
       "       [-2.17312893e+00,  4.84804536e+01],\n",
       "       [ 1.08121673e+00,  5.31453028e+01],\n",
       "       [-2.26152036e+00,  5.26450590e+01],\n",
       "       [-1.23595065e+00,  4.83307787e+01],\n",
       "       [ 1.69979585e+00,  5.50252537e+01],\n",
       "       [-2.09042693e+00,  5.06264706e+01],\n",
       "       [-2.25267635e+00,  4.99289069e+01],\n",
       "       [ 3.32618430e+00,  5.09603212e+01],\n",
       "       [-1.54711876e+00,  5.09634781e+01],\n",
       "       [ 3.47336197e+00,  4.96757185e+01],\n",
       "       [-1.69756580e+00,  5.04401118e+01],\n",
       "       [-1.48806342e+00,  5.15835757e+01],\n",
       "       [-1.91766969e+00,  5.12637549e+01],\n",
       "       [-7.20078655e-02,  5.08393420e+01],\n",
       "       [ 3.09384878e+00,  4.92068516e+01],\n",
       "       [ 1.47865494e+00,  4.68859747e+01],\n",
       "       [ 2.48428850e+00,  5.25607870e+01],\n",
       "       [ 1.68404520e+00,  4.90004588e+01],\n",
       "       [-2.73937578e+00,  5.01789953e+01],\n",
       "       [ 1.59993425e+00,  5.27722032e+01],\n",
       "       [-3.23278936e+00,  4.87106008e+01],\n",
       "       [-7.42705341e-01,  5.20887044e+01],\n",
       "       [-2.07623356e+00,  5.22690157e+01],\n",
       "       [-3.10409854e+00,  5.06106064e+01],\n",
       "       [-2.35655008e+00,  4.99402413e+01],\n",
       "       [-8.09775750e-01,  4.91189121e+01],\n",
       "       [ 1.27950341e+00,  5.13333502e+01]])"
      ]
     },
     "execution_count": 82,
     "metadata": {},
     "output_type": "execute_result"
    }
   ],
   "source": [
    "mn = np.random.multivariate_normal(mean, cov, size=50)\n",
    "print(mn.shape)\n",
    "mn"
   ]
  },
  {
   "cell_type": "code",
   "execution_count": 83,
   "metadata": {},
   "outputs": [
    {
     "name": "stdout",
     "output_type": "stream",
     "text": [
      "(2, 50)\n"
     ]
    },
    {
     "data": {
      "text/plain": [
       "array([[ 9.78647593e-02,  2.02326094e+00, -7.13677077e-01,\n",
       "         1.65822873e+00,  5.56170759e+00,  2.04508541e+00,\n",
       "         2.27741993e-01,  1.64253195e+00,  1.90839795e+00,\n",
       "         9.25573938e-03, -8.40683908e-01,  1.84518364e+00,\n",
       "         3.48570112e+00,  2.29270129e+00, -2.77235567e+00,\n",
       "        -1.76953241e+00,  3.20945856e+00,  4.65136474e+00,\n",
       "        -1.39573285e+00, -1.63996836e+00,  4.10780195e+00,\n",
       "         2.68615385e+00, -6.14379868e-01, -2.17312893e+00,\n",
       "         1.08121673e+00, -2.26152036e+00, -1.23595065e+00,\n",
       "         1.69979585e+00, -2.09042693e+00, -2.25267635e+00,\n",
       "         3.32618430e+00, -1.54711876e+00,  3.47336197e+00,\n",
       "        -1.69756580e+00, -1.48806342e+00, -1.91766969e+00,\n",
       "        -7.20078655e-02,  3.09384878e+00,  1.47865494e+00,\n",
       "         2.48428850e+00,  1.68404520e+00, -2.73937578e+00,\n",
       "         1.59993425e+00, -3.23278936e+00, -7.42705341e-01,\n",
       "        -2.07623356e+00, -3.10409854e+00, -2.35655008e+00,\n",
       "        -8.09775750e-01,  1.27950341e+00],\n",
       "       [ 5.02293683e+01,  5.12073279e+01,  5.17344654e+01,\n",
       "         4.83033029e+01,  5.01418238e+01,  5.00417872e+01,\n",
       "         4.95731896e+01,  4.91081877e+01,  4.96063210e+01,\n",
       "         4.38109711e+01,  4.93341722e+01,  5.19650381e+01,\n",
       "         4.84245360e+01,  4.79206237e+01,  5.09978107e+01,\n",
       "         4.85420604e+01,  5.25403061e+01,  4.92380119e+01,\n",
       "         5.16119091e+01,  5.11043715e+01,  4.97409238e+01,\n",
       "         5.18630235e+01,  5.17446755e+01,  4.84804536e+01,\n",
       "         5.31453028e+01,  5.26450590e+01,  4.83307787e+01,\n",
       "         5.50252537e+01,  5.06264706e+01,  4.99289069e+01,\n",
       "         5.09603212e+01,  5.09634781e+01,  4.96757185e+01,\n",
       "         5.04401118e+01,  5.15835757e+01,  5.12637549e+01,\n",
       "         5.08393420e+01,  4.92068516e+01,  4.68859747e+01,\n",
       "         5.25607870e+01,  4.90004588e+01,  5.01789953e+01,\n",
       "         5.27722032e+01,  4.87106008e+01,  5.20887044e+01,\n",
       "         5.22690157e+01,  5.06106064e+01,  4.99402413e+01,\n",
       "         4.91189121e+01,  5.13333502e+01]])"
      ]
     },
     "execution_count": 83,
     "metadata": {},
     "output_type": "execute_result"
    }
   ],
   "source": [
    "print(mn.T.shape)\n",
    "mn.T"
   ]
  },
  {
   "cell_type": "code",
   "execution_count": 84,
   "metadata": {},
   "outputs": [
    {
     "name": "stdout",
     "output_type": "stream",
     "text": [
      "[ 1.49157123 -0.20869817  0.84483515 -0.59917306  0.15506893 -1.3215373\n",
      "  0.39619792 -1.93069295  2.48236027 -0.38246731  0.96008588  0.85206309\n",
      " -0.01109332 -0.99438555 -2.12070702 -0.2026723   1.11284656  0.39288075\n",
      "  0.74322298  0.61661702  1.38104728 -0.93716434 -0.19347991  0.03512854\n",
      "  0.49404487 -1.4625251  -0.12533128 -0.95736707  1.16603699  0.87250985\n",
      "  1.72278748  0.09771616 -2.34502019 -1.64312585 -0.43354763  0.04909853\n",
      "  1.40406016  0.9587213   0.94693223 -1.35270817  1.99985032 -0.84766103\n",
      " -1.06275287  0.07609175 -0.95104919  1.68742777 -0.08154934 -0.56336902\n",
      " -0.13780371  0.513268  ]\n",
      "----------------------------------------------------------------\n",
      "[2.33342612e+00 3.11292346e-01 3.20848570e+00 1.36928493e-04\n",
      " 1.22680612e+00 1.66017554e+00 1.46150243e+00 2.38606823e+00\n",
      " 3.20470344e+00 1.07487453e+00 2.35164519e+00 2.48224545e+00\n",
      " 2.04882180e+00 1.13115880e+00 2.08585173e+00 1.18758656e+00\n",
      " 1.82562670e+00 2.95814028e+00 2.80716959e+00 3.06694892e+00\n",
      " 2.34207961e+00 6.66050710e-01 1.99376188e+00 2.66068669e+00\n",
      " 1.93703648e+00 1.20127803e+00 1.22281180e+00 1.77377132e-01\n",
      " 2.18053304e+00 2.20067137e+00 2.17985048e+00 3.54819683e+00\n",
      " 8.66640524e-02 5.71521729e-01 3.16852048e+00 3.15578963e+00\n",
      " 3.09895751e+00 2.87753625e+00 2.76388496e+00 1.11107880e+00\n",
      " 2.13861642e+00 4.16948909e-01 1.02770780e+00 1.07045885e+00\n",
      " 2.96055899e+00 4.24420648e+00 5.33089799e-01 7.18223933e-01\n",
      " 1.54201428e+00 3.10604435e+00]\n"
     ]
    }
   ],
   "source": [
    "# Plot a basic univariate density: kdeplot(x)\n",
    "import seaborn as sns\n",
    "sns.set(color_codes=True)\n",
    "mean, cov = [0, 2], [(1, .5), (.5, 1)]\n",
    "x, y = np.random.multivariate_normal(mean, cov, size=50).T\n",
    "print(x)\n",
    "print(\"----------------------------------------------------------------\")\n",
    "print(y)"
   ]
  },
  {
   "cell_type": "code",
   "execution_count": 99,
   "metadata": {},
   "outputs": [
    {
     "data": {
      "text/html": [
       "<div>\n",
       "<style scoped>\n",
       "    .dataframe tbody tr th:only-of-type {\n",
       "        vertical-align: middle;\n",
       "    }\n",
       "\n",
       "    .dataframe tbody tr th {\n",
       "        vertical-align: top;\n",
       "    }\n",
       "\n",
       "    .dataframe thead th {\n",
       "        text-align: right;\n",
       "    }\n",
       "</style>\n",
       "<table border=\"1\" class=\"dataframe\">\n",
       "  <thead>\n",
       "    <tr style=\"text-align: right;\">\n",
       "      <th></th>\n",
       "      <th>dogs</th>\n",
       "      <th>cats</th>\n",
       "    </tr>\n",
       "  </thead>\n",
       "  <tbody>\n",
       "    <tr>\n",
       "      <th>0</th>\n",
       "      <td>1</td>\n",
       "      <td>2</td>\n",
       "    </tr>\n",
       "    <tr>\n",
       "      <th>1</th>\n",
       "      <td>0</td>\n",
       "      <td>3</td>\n",
       "    </tr>\n",
       "    <tr>\n",
       "      <th>2</th>\n",
       "      <td>2</td>\n",
       "      <td>0</td>\n",
       "    </tr>\n",
       "    <tr>\n",
       "      <th>3</th>\n",
       "      <td>1</td>\n",
       "      <td>1</td>\n",
       "    </tr>\n",
       "  </tbody>\n",
       "</table>\n",
       "</div>"
      ],
      "text/plain": [
       "   dogs  cats\n",
       "0     1     2\n",
       "1     0     3\n",
       "2     2     0\n",
       "3     1     1"
      ]
     },
     "execution_count": 99,
     "metadata": {},
     "output_type": "execute_result"
    }
   ],
   "source": [
    "#test covariance \n",
    "df = pd.DataFrame([(1, 2), (0, 3), (2, 0), (1, 1)],\n",
    "                  columns=['dogs', 'cats'])\n",
    "df"
   ]
  },
  {
   "cell_type": "markdown",
   "metadata": {},
   "source": [
    "* inline mode ``$...$`` :   $ cov(x,y) = \\frac{\\sum_{i=1}^n {(x_i - \\bar{x}) (y_i - \\bar{y})}}{n}$\n",
    "* ``$$ cov(x,y) = \\frac{\\sum_{i=1}^n {(x_i - \\bar{x}) (y_i - \\bar{y})}}{n}$$``\n",
    "$$ cov(x,y) = \\frac{\\sum_{i=1}^n {(x_i - \\bar{x}) (y_i - \\bar{y})}}{n}$$"
   ]
  },
  {
   "cell_type": "markdown",
   "metadata": {},
   "source": [
    "``$$\\sum_{i=1}^n {(x_i - \\bar{x}) (y_i - \\bar{y})}$$``\n",
    "$$\\sum_{i=1}^n {(x_i - \\bar{x}) (y_i - \\bar{y})}$$"
   ]
  },
  {
   "cell_type": "markdown",
   "metadata": {},
   "source": [
    "#test\n",
    "\n",
    "``$$\\sum_{i=0}^n i^2 = \\frac{(n^2+n)(2n+1)}{6}$$``\n",
    "$$\\sum_{i=0}^n i^2 = \\frac{(n^2+n)(2n+1)}{6}$$"
   ]
  },
  {
   "cell_type": "code",
   "execution_count": 101,
   "metadata": {},
   "outputs": [
    {
     "data": {
      "text/html": [
       "<div>\n",
       "<style scoped>\n",
       "    .dataframe tbody tr th:only-of-type {\n",
       "        vertical-align: middle;\n",
       "    }\n",
       "\n",
       "    .dataframe tbody tr th {\n",
       "        vertical-align: top;\n",
       "    }\n",
       "\n",
       "    .dataframe thead th {\n",
       "        text-align: right;\n",
       "    }\n",
       "</style>\n",
       "<table border=\"1\" class=\"dataframe\">\n",
       "  <thead>\n",
       "    <tr style=\"text-align: right;\">\n",
       "      <th></th>\n",
       "      <th>dogs</th>\n",
       "      <th>cats</th>\n",
       "    </tr>\n",
       "  </thead>\n",
       "  <tbody>\n",
       "    <tr>\n",
       "      <th>dogs</th>\n",
       "      <td>0.666667</td>\n",
       "      <td>-1.000000</td>\n",
       "    </tr>\n",
       "    <tr>\n",
       "      <th>cats</th>\n",
       "      <td>-1.000000</td>\n",
       "      <td>1.666667</td>\n",
       "    </tr>\n",
       "  </tbody>\n",
       "</table>\n",
       "</div>"
      ],
      "text/plain": [
       "          dogs      cats\n",
       "dogs  0.666667 -1.000000\n",
       "cats -1.000000  1.666667"
      ]
     },
     "execution_count": 101,
     "metadata": {},
     "output_type": "execute_result"
    }
   ],
   "source": [
    "df.cov()"
   ]
  },
  {
   "cell_type": "code",
   "execution_count": 12,
   "metadata": {},
   "outputs": [
    {
     "data": {
      "text/plain": [
       "array([0.        , 0.33333333, 0.66666667, 1.        , 1.33333333,\n",
       "       1.66666667, 2.        , 2.33333333, 2.66666667, 3.        ])"
      ]
     },
     "execution_count": 12,
     "metadata": {},
     "output_type": "execute_result"
    }
   ],
   "source": [
    "np.linspace(0,3,10)"
   ]
  },
  {
   "cell_type": "code",
   "execution_count": 85,
   "metadata": {},
   "outputs": [
    {
     "data": {
      "image/png": "[encoded data removed]",
      "text/plain": [
       "<Figure size 432x288 with 1 Axes>"
      ]
     },
     "metadata": {},
     "output_type": "display_data"
    }
   ],
   "source": [
    "ax = sns.kdeplot(y)"
   ]
  },
  {
   "cell_type": "code",
   "execution_count": 86,
   "metadata": {},
   "outputs": [
    {
     "data": {
      "image/png": "[encoded data removed]",
      "text/plain": [
       "<Figure size 432x288 with 1 Axes>"
      ]
     },
     "metadata": {},
     "output_type": "display_data"
    }
   ],
   "source": [
    "ax = sns.kdeplot(x)"
   ]
  },
  {
   "cell_type": "code",
   "execution_count": 87,
   "metadata": {},
   "outputs": [
    {
     "data": {
      "image/png": "[encoded data removed]",
      "text/plain": [
       "<Figure size 432x288 with 1 Axes>"
      ]
     },
     "metadata": {},
     "output_type": "display_data"
    }
   ],
   "source": [
    "ax = sns.kdeplot(x, shade=True, color=\"r\")"
   ]
  },
  {
   "cell_type": "code",
   "execution_count": 88,
   "metadata": {
    "scrolled": true
   },
   "outputs": [
    {
     "data": {
      "image/png": "[encoded data removed]",
      "text/plain": [
       "<Figure size 432x288 with 1 Axes>"
      ]
     },
     "metadata": {},
     "output_type": "display_data"
    }
   ],
   "source": [
    "# Plot a basic multivariate density: sns.kdeplot(x,y)\n",
    "ax = sns.kdeplot(x, y, shade=True)"
   ]
  },
  {
   "cell_type": "markdown",
   "metadata": {},
   "source": [
    "[sns.cubehelix_palette](https://seaborn.pydata.org/generated/seaborn.cubehelix_palette.html)\n",
    "* seaborn.cubehelix_palette(n_colors=6, start=0, rot=0.4, gamma=1.0, hue=0.8, light=0.85, dark=0.15, reverse=False, as_cmap=False)"
   ]
  },
  {
   "cell_type": "markdown",
   "metadata": {},
   "source": [
    "* COLOR is the general term we use to describe every hue, tint, tone or shade we see. White, Black and Gray are often referred to as a color. \n",
    "* A HUE refers to the dominant Color Family of the specific color we're looking at. White, Black and Grey are never referred to as a Hue.\n",
    "* Hue refers to the origin of the color we see. Think of the Hue as one of the six Primary and Secondary colors. In other words, the underlying base color of the mixture you're looking at is either Yellow, Orange, Red, Violet, Blue or Green.\n",
    "![hue](hue.jpg)"
   ]
  },
  {
   "cell_type": "code",
   "execution_count": 110,
   "metadata": {},
   "outputs": [
    {
     "data": {
      "image/png": "[encoded data removed]",
      "text/plain": [
       "<Figure size 432x72 with 1 Axes>"
      ]
     },
     "metadata": {},
     "output_type": "display_data"
    }
   ],
   "source": [
    "import seaborn as sns; sns.set()\n",
    "sns.palplot(sns.cubehelix_palette())"
   ]
  },
  {
   "cell_type": "code",
   "execution_count": 118,
   "metadata": {},
   "outputs": [
    {
     "data": {
      "image/png": "[encoded data removed]",
      "text/plain": [
       "<Figure size 432x72 with 1 Axes>"
      ]
     },
     "metadata": {},
     "output_type": "display_data"
    }
   ],
   "source": [
    "#Rotations around the hue wheel over the range of the palette.\n",
    "# sns.palplot(sns.cubehelix_palette(rot=-.4))\n",
    "sns.palplot(sns.cubehelix_palette(rot=1))"
   ]
  },
  {
   "cell_type": "code",
   "execution_count": 115,
   "metadata": {},
   "outputs": [
    {
     "data": {
      "image/png": "[encoded data removed]",
      "text/plain": [
       "<Figure size 432x72 with 1 Axes>"
      ]
     },
     "metadata": {},
     "output_type": "display_data"
    }
   ],
   "source": [
    "sns.palplot(sns.cubehelix_palette(rot=4))"
   ]
  },
  {
   "cell_type": "code",
   "execution_count": 122,
   "metadata": {},
   "outputs": [
    {
     "data": {
      "image/png": "[encoded data removed]",
      "text/plain": [
       "<Figure size 432x72 with 1 Axes>"
      ]
     },
     "metadata": {},
     "output_type": "display_data"
    }
   ],
   "source": [
    "sns.palplot(sns.cubehelix_palette(rot=30))"
   ]
  },
  {
   "cell_type": "code",
   "execution_count": 135,
   "metadata": {},
   "outputs": [
    {
     "data": {
      "text/plain": [
       "array([0.        , 0.33333333, 0.66666667, 1.        , 1.33333333,\n",
       "       1.66666667, 2.        , 2.33333333, 2.66666667, 3.        ])"
      ]
     },
     "execution_count": 135,
     "metadata": {},
     "output_type": "execute_result"
    }
   ],
   "source": [
    "np.linspace(0, 3, 10)"
   ]
  },
  {
   "cell_type": "code",
   "execution_count": 136,
   "metadata": {},
   "outputs": [
    {
     "data": {
      "image/png": "[encoded data removed]",
      "text/plain": [
       "<Figure size 432x72 with 1 Axes>"
      ]
     },
     "metadata": {},
     "output_type": "display_data"
    }
   ],
   "source": [
    "mypalette = sns.cubehelix_palette(n_colors=6, start=0., rot=0.4, gamma=1.0, hue=0.8, light=0.85, dark=0.15, reverse=False, as_cmap=False)\n",
    "sns.palplot(mypalette)"
   ]
  },
  {
   "cell_type": "code",
   "execution_count": 137,
   "metadata": {},
   "outputs": [
    {
     "data": {
      "image/png": "[encoded data removed]",
      "text/plain": [
       "<Figure size 432x72 with 1 Axes>"
      ]
     },
     "metadata": {},
     "output_type": "display_data"
    }
   ],
   "source": [
    "mypalette = sns.cubehelix_palette(n_colors=6, start=0.33333333, rot=0.4, gamma=1.0, hue=0.8, light=0.85, dark=0.15, reverse=False, as_cmap=False)\n",
    "sns.palplot(mypalette)"
   ]
  },
  {
   "cell_type": "code",
   "execution_count": 142,
   "metadata": {},
   "outputs": [
    {
     "data": {
      "image/png": "[encoded data removed]",
      "text/plain": [
       "<Figure size 432x72 with 1 Axes>"
      ]
     },
     "metadata": {},
     "output_type": "display_data"
    }
   ],
   "source": [
    "mypalette1 = sns.cubehelix_palette(n_colors=6, start=0.66666667, rot=0.4, gamma=1.0, hue=0.8, light=0.85, dark=0.15, reverse=False, as_cmap=False)\n",
    "sns.palplot(mypalette1)"
   ]
  },
  {
   "cell_type": "code",
   "execution_count": 145,
   "metadata": {},
   "outputs": [
    {
     "data": {
      "image/png": "[encoded data removed]",
      "text/plain": [
       "<Figure size 432x72 with 1 Axes>"
      ]
     },
     "metadata": {},
     "output_type": "display_data"
    }
   ],
   "source": [
    "#as_cmap=False \n",
    "mypalette2 = sns.cubehelix_palette(n_colors=6, start=2.33333333, rot=0.4, gamma=1.0, hue=0.8, light=0.85, dark=0.15, reverse=False, as_cmap=False)\n",
    "sns.palplot(mypalette2)"
   ]
  },
  {
   "cell_type": "code",
   "execution_count": 148,
   "metadata": {},
   "outputs": [],
   "source": [
    "#as_cmap=True \n",
    "mypalette3 = sns.cubehelix_palette(n_colors=6, start=2.33333333, rot=0.4, gamma=1.0, hue=0.8, light=0.85, dark=0.15, reverse=False, as_cmap=True)\n"
   ]
  },
  {
   "cell_type": "markdown",
   "metadata": {},
   "source": [
    "Generate a colormap object:"
   ]
  },
  {
   "cell_type": "code",
   "execution_count": 150,
   "metadata": {},
   "outputs": [
    {
     "data": {
      "image/png": "[encoded data removed]",
      "text/plain": [
       "<Figure size 432x288 with 2 Axes>"
      ]
     },
     "metadata": {},
     "output_type": "display_data"
    }
   ],
   "source": [
    "x = np.arange(25).reshape(5, 5)\n",
    "# cmap = sns.cubehelix_palette(as_cmap=True)\n",
    "cmap = mypalette3\n",
    "\n",
    "ax = sns.heatmap(x, cmap=cmap)"
   ]
  },
  {
   "cell_type": "code",
   "execution_count": null,
   "metadata": {},
   "outputs": [],
   "source": [
    "x = np.arange(25).reshape(5, 5)\n",
    "cmap = sns.cubehelix_palette(as_cmap=True)\n",
    "ax = sns.heatmap(x, cmap=cmap)"
   ]
  },
  {
   "cell_type": "code",
   "execution_count": 94,
   "metadata": {},
   "outputs": [
    {
     "data": {
      "image/png": "[encoded data removed]",
      "text/plain": [
       "<Figure size 648x648 with 9 Axes>"
      ]
     },
     "metadata": {},
     "output_type": "display_data"
    }
   ],
   "source": [
    "import numpy as np\n",
    "import seaborn as sns\n",
    "import matplotlib.pyplot as plt\n",
    "\n",
    "sns.set(style=\"dark\") #None, or one of {darkgrid, whitegrid, dark, white, ticks}\n",
    "# sns.set(style=\"white\")\n",
    "\n",
    "rs = np.random.RandomState(50) #similar random.seed\n",
    "sns.cubehelix_palette\n",
    "# Set up the matplotlib figure\n",
    "f, axes = plt.subplots(3, 3, figsize=(9, 9), sharex=True, sharey=True)\n",
    "\n",
    "# Rotate the starting point around the cubehelix hue circle\n",
    "for ax, s in zip(axes.flat, np.linspace(0, 3, 10)):\n",
    "\n",
    "    # Create a cubehelix colormap to use with kdeplot\n",
    "    cmap = sns.cubehelix_palette(start=s, light=1, as_cmap=True)\n",
    "\n",
    "    # Generate and plot a random bivariate dataset\n",
    "    x, y = rs.randn(2, 50)\n",
    "    sns.kdeplot(x, y, cmap=cmap, shade=True, cut=5, ax=ax) #multivariant kdeplot\n",
    "    ax.set(xlim=(-3, 3), ylim=(-3, 3))\n",
    "\n",
    "f.tight_layout()"
   ]
  },
  {
   "cell_type": "code",
   "execution_count": null,
   "metadata": {},
   "outputs": [],
   "source": []
  }
 ],
 "metadata": {
  "kernelspec": {
   "display_name": "Python 3",
   "language": "python",
   "name": "python3"
  },
  "language_info": {
   "codemirror_mode": {
    "name": "ipython",
    "version": 3
   },
   "file_extension": ".py",
   "mimetype": "text/x-python",
   "name": "python",
   "nbconvert_exporter": "python",
   "pygments_lexer": "ipython3",
   "version": "3.7.6"
  }
 },
 "nbformat": 4,
 "nbformat_minor": 2
}
