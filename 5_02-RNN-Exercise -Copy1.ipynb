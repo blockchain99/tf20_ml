{
 "cells": [
  {
   "cell_type": "markdown",
   "metadata": {},
   "source": [
    "___\n",
    "\n",
    "<a href='http://www.pieriandata.com'><img src='../Pierian_Data_Logo.png'/></a>\n",
    "___\n",
    "<center><em>Copyright Pierian Data</em></center>\n",
    "<center><em>For more information, visit us at <a href='http://www.pieriandata.com'>www.pieriandata.com</a></em></center>\n",
    "\n",
    "# RNN Exercise"
   ]
  },
  {
   "cell_type": "markdown",
   "metadata": {},
   "source": [
    "**TASK: IMPORT THE BASIC LIBRARIES YOU THINK YOU WILL USE**"
   ]
  },
  {
   "cell_type": "code",
   "execution_count": 1,
   "metadata": {},
   "outputs": [],
   "source": [
    "%config IPCompleter.greedy=True"
   ]
  },
  {
   "cell_type": "code",
   "execution_count": 2,
   "metadata": {},
   "outputs": [],
   "source": [
    "import numpy as np\n",
    "import pandas as pd\n",
    "\n",
    "%matplotlib inline\n",
    "import matplotlib.pyplot as plt"
   ]
  },
  {
   "cell_type": "markdown",
   "metadata": {},
   "source": [
    "## Data\n",
    "\n",
    "Info about this data set: https://fred.stlouisfed.org/series/IPN31152N\n",
    "\n",
    "\n",
    "Units:  Index 2012=100, Not Seasonally Adjusted\n",
    "\n",
    "Frequency:  Monthly\n",
    "\n",
    "The industrial production (IP) index measures the real output of all relevant establishments located in the United States, regardless of their ownership, but not those located in U.S. territories.\n",
    "\n",
    "NAICS = 31152\n",
    "\n",
    "Source Code: IP.N31152.N\n",
    "\n",
    "Suggested Citation:\n",
    "Board of Governors of the Federal Reserve System (US), Industrial Production: Nondurable Goods: Ice cream and frozen dessert [IPN31152N], retrieved from FRED, Federal Reserve Bank of St. Louis; https://fred.stlouisfed.org/series/IPN31152N, November 16, 2019.\n",
    "\n",
    "# Project Tasks\n",
    "\n",
    "**TASK: Read in the data set \"Frozen_Dessert_Production.csv\" from the Data folder. Figure out how to set the date to a datetime index columns**"
   ]
  },
  {
   "cell_type": "code",
   "execution_count": 3,
   "metadata": {},
   "outputs": [
    {
     "data": {
      "text/html": [
       "<div>\n",
       "<style scoped>\n",
       "    .dataframe tbody tr th:only-of-type {\n",
       "        vertical-align: middle;\n",
       "    }\n",
       "\n",
       "    .dataframe tbody tr th {\n",
       "        vertical-align: top;\n",
       "    }\n",
       "\n",
       "    .dataframe thead th {\n",
       "        text-align: right;\n",
       "    }\n",
       "</style>\n",
       "<table border=\"1\" class=\"dataframe\">\n",
       "  <thead>\n",
       "    <tr style=\"text-align: right;\">\n",
       "      <th></th>\n",
       "      <th>IPN31152N</th>\n",
       "    </tr>\n",
       "    <tr>\n",
       "      <th>DATE</th>\n",
       "      <th></th>\n",
       "    </tr>\n",
       "  </thead>\n",
       "  <tbody>\n",
       "    <tr>\n",
       "      <th>1972-01-01</th>\n",
       "      <td>59.9622</td>\n",
       "    </tr>\n",
       "    <tr>\n",
       "      <th>1972-02-01</th>\n",
       "      <td>67.0605</td>\n",
       "    </tr>\n",
       "    <tr>\n",
       "      <th>1972-03-01</th>\n",
       "      <td>74.2350</td>\n",
       "    </tr>\n",
       "    <tr>\n",
       "      <th>1972-04-01</th>\n",
       "      <td>78.1120</td>\n",
       "    </tr>\n",
       "    <tr>\n",
       "      <th>1972-05-01</th>\n",
       "      <td>84.7636</td>\n",
       "    </tr>\n",
       "    <tr>\n",
       "      <th>...</th>\n",
       "      <td>...</td>\n",
       "    </tr>\n",
       "    <tr>\n",
       "      <th>2019-05-01</th>\n",
       "      <td>114.5613</td>\n",
       "    </tr>\n",
       "    <tr>\n",
       "      <th>2019-06-01</th>\n",
       "      <td>124.9605</td>\n",
       "    </tr>\n",
       "    <tr>\n",
       "      <th>2019-07-01</th>\n",
       "      <td>110.2632</td>\n",
       "    </tr>\n",
       "    <tr>\n",
       "      <th>2019-08-01</th>\n",
       "      <td>102.6085</td>\n",
       "    </tr>\n",
       "    <tr>\n",
       "      <th>2019-09-01</th>\n",
       "      <td>101.5866</td>\n",
       "    </tr>\n",
       "  </tbody>\n",
       "</table>\n",
       "<p>573 rows × 1 columns</p>\n",
       "</div>"
      ],
      "text/plain": [
       "            IPN31152N\n",
       "DATE                 \n",
       "1972-01-01    59.9622\n",
       "1972-02-01    67.0605\n",
       "1972-03-01    74.2350\n",
       "1972-04-01    78.1120\n",
       "1972-05-01    84.7636\n",
       "...               ...\n",
       "2019-05-01   114.5613\n",
       "2019-06-01   124.9605\n",
       "2019-07-01   110.2632\n",
       "2019-08-01   102.6085\n",
       "2019-09-01   101.5866\n",
       "\n",
       "[573 rows x 1 columns]"
      ]
     },
     "execution_count": 3,
     "metadata": {},
     "output_type": "execute_result"
    }
   ],
   "source": [
    "# CODE HERE\n",
    "df = pd.read_csv('../DATA/Frozen_Dessert_Production.csv',index_col='DATE', parse_dates=True)\n",
    "df"
   ]
  },
  {
   "cell_type": "markdown",
   "metadata": {},
   "source": [
    "**Task: Change the column name to Production**"
   ]
  },
  {
   "cell_type": "code",
   "execution_count": 4,
   "metadata": {},
   "outputs": [
    {
     "data": {
      "text/html": [
       "<div>\n",
       "<style scoped>\n",
       "    .dataframe tbody tr th:only-of-type {\n",
       "        vertical-align: middle;\n",
       "    }\n",
       "\n",
       "    .dataframe tbody tr th {\n",
       "        vertical-align: top;\n",
       "    }\n",
       "\n",
       "    .dataframe thead th {\n",
       "        text-align: right;\n",
       "    }\n",
       "</style>\n",
       "<table border=\"1\" class=\"dataframe\">\n",
       "  <thead>\n",
       "    <tr style=\"text-align: right;\">\n",
       "      <th></th>\n",
       "      <th>IPN31152N</th>\n",
       "      <th>Production</th>\n",
       "    </tr>\n",
       "    <tr>\n",
       "      <th>DATE</th>\n",
       "      <th></th>\n",
       "      <th></th>\n",
       "    </tr>\n",
       "  </thead>\n",
       "  <tbody>\n",
       "    <tr>\n",
       "      <th>1972-01-01</th>\n",
       "      <td>59.9622</td>\n",
       "      <td>59.9622</td>\n",
       "    </tr>\n",
       "    <tr>\n",
       "      <th>1972-02-01</th>\n",
       "      <td>67.0605</td>\n",
       "      <td>67.0605</td>\n",
       "    </tr>\n",
       "    <tr>\n",
       "      <th>1972-03-01</th>\n",
       "      <td>74.2350</td>\n",
       "      <td>74.2350</td>\n",
       "    </tr>\n",
       "    <tr>\n",
       "      <th>1972-04-01</th>\n",
       "      <td>78.1120</td>\n",
       "      <td>78.1120</td>\n",
       "    </tr>\n",
       "    <tr>\n",
       "      <th>1972-05-01</th>\n",
       "      <td>84.7636</td>\n",
       "      <td>84.7636</td>\n",
       "    </tr>\n",
       "    <tr>\n",
       "      <th>...</th>\n",
       "      <td>...</td>\n",
       "      <td>...</td>\n",
       "    </tr>\n",
       "    <tr>\n",
       "      <th>2019-05-01</th>\n",
       "      <td>114.5613</td>\n",
       "      <td>114.5613</td>\n",
       "    </tr>\n",
       "    <tr>\n",
       "      <th>2019-06-01</th>\n",
       "      <td>124.9605</td>\n",
       "      <td>124.9605</td>\n",
       "    </tr>\n",
       "    <tr>\n",
       "      <th>2019-07-01</th>\n",
       "      <td>110.2632</td>\n",
       "      <td>110.2632</td>\n",
       "    </tr>\n",
       "    <tr>\n",
       "      <th>2019-08-01</th>\n",
       "      <td>102.6085</td>\n",
       "      <td>102.6085</td>\n",
       "    </tr>\n",
       "    <tr>\n",
       "      <th>2019-09-01</th>\n",
       "      <td>101.5866</td>\n",
       "      <td>101.5866</td>\n",
       "    </tr>\n",
       "  </tbody>\n",
       "</table>\n",
       "<p>573 rows × 2 columns</p>\n",
       "</div>"
      ],
      "text/plain": [
       "            IPN31152N  Production\n",
       "DATE                             \n",
       "1972-01-01    59.9622     59.9622\n",
       "1972-02-01    67.0605     67.0605\n",
       "1972-03-01    74.2350     74.2350\n",
       "1972-04-01    78.1120     78.1120\n",
       "1972-05-01    84.7636     84.7636\n",
       "...               ...         ...\n",
       "2019-05-01   114.5613    114.5613\n",
       "2019-06-01   124.9605    124.9605\n",
       "2019-07-01   110.2632    110.2632\n",
       "2019-08-01   102.6085    102.6085\n",
       "2019-09-01   101.5866    101.5866\n",
       "\n",
       "[573 rows x 2 columns]"
      ]
     },
     "execution_count": 4,
     "metadata": {},
     "output_type": "execute_result"
    }
   ],
   "source": [
    "#bad approach\n",
    "# df.columns('IPN31152N':'Production')\n",
    "df['Production'] = df['IPN31152N']\n",
    "df"
   ]
  },
  {
   "cell_type": "code",
   "execution_count": 5,
   "metadata": {},
   "outputs": [
    {
     "data": {
      "text/html": [
       "<div>\n",
       "<style scoped>\n",
       "    .dataframe tbody tr th:only-of-type {\n",
       "        vertical-align: middle;\n",
       "    }\n",
       "\n",
       "    .dataframe tbody tr th {\n",
       "        vertical-align: top;\n",
       "    }\n",
       "\n",
       "    .dataframe thead th {\n",
       "        text-align: right;\n",
       "    }\n",
       "</style>\n",
       "<table border=\"1\" class=\"dataframe\">\n",
       "  <thead>\n",
       "    <tr style=\"text-align: right;\">\n",
       "      <th></th>\n",
       "      <th>Production</th>\n",
       "    </tr>\n",
       "    <tr>\n",
       "      <th>DATE</th>\n",
       "      <th></th>\n",
       "    </tr>\n",
       "  </thead>\n",
       "  <tbody>\n",
       "    <tr>\n",
       "      <th>1972-01-01</th>\n",
       "      <td>59.9622</td>\n",
       "    </tr>\n",
       "    <tr>\n",
       "      <th>1972-02-01</th>\n",
       "      <td>67.0605</td>\n",
       "    </tr>\n",
       "    <tr>\n",
       "      <th>1972-03-01</th>\n",
       "      <td>74.2350</td>\n",
       "    </tr>\n",
       "    <tr>\n",
       "      <th>1972-04-01</th>\n",
       "      <td>78.1120</td>\n",
       "    </tr>\n",
       "    <tr>\n",
       "      <th>1972-05-01</th>\n",
       "      <td>84.7636</td>\n",
       "    </tr>\n",
       "    <tr>\n",
       "      <th>...</th>\n",
       "      <td>...</td>\n",
       "    </tr>\n",
       "    <tr>\n",
       "      <th>2019-05-01</th>\n",
       "      <td>114.5613</td>\n",
       "    </tr>\n",
       "    <tr>\n",
       "      <th>2019-06-01</th>\n",
       "      <td>124.9605</td>\n",
       "    </tr>\n",
       "    <tr>\n",
       "      <th>2019-07-01</th>\n",
       "      <td>110.2632</td>\n",
       "    </tr>\n",
       "    <tr>\n",
       "      <th>2019-08-01</th>\n",
       "      <td>102.6085</td>\n",
       "    </tr>\n",
       "    <tr>\n",
       "      <th>2019-09-01</th>\n",
       "      <td>101.5866</td>\n",
       "    </tr>\n",
       "  </tbody>\n",
       "</table>\n",
       "<p>573 rows × 1 columns</p>\n",
       "</div>"
      ],
      "text/plain": [
       "            Production\n",
       "DATE                  \n",
       "1972-01-01     59.9622\n",
       "1972-02-01     67.0605\n",
       "1972-03-01     74.2350\n",
       "1972-04-01     78.1120\n",
       "1972-05-01     84.7636\n",
       "...                ...\n",
       "2019-05-01    114.5613\n",
       "2019-06-01    124.9605\n",
       "2019-07-01    110.2632\n",
       "2019-08-01    102.6085\n",
       "2019-09-01    101.5866\n",
       "\n",
       "[573 rows x 1 columns]"
      ]
     },
     "execution_count": 5,
     "metadata": {},
     "output_type": "execute_result"
    }
   ],
   "source": [
    "df = df.drop('IPN31152N', axis=1)\n",
    "df"
   ]
  },
  {
   "cell_type": "code",
   "execution_count": 6,
   "metadata": {},
   "outputs": [
    {
     "data": {
      "text/html": [
       "<div>\n",
       "<style scoped>\n",
       "    .dataframe tbody tr th:only-of-type {\n",
       "        vertical-align: middle;\n",
       "    }\n",
       "\n",
       "    .dataframe tbody tr th {\n",
       "        vertical-align: top;\n",
       "    }\n",
       "\n",
       "    .dataframe thead th {\n",
       "        text-align: right;\n",
       "    }\n",
       "</style>\n",
       "<table border=\"1\" class=\"dataframe\">\n",
       "  <thead>\n",
       "    <tr style=\"text-align: right;\">\n",
       "      <th></th>\n",
       "      <th>Production</th>\n",
       "    </tr>\n",
       "    <tr>\n",
       "      <th>DATE</th>\n",
       "      <th></th>\n",
       "    </tr>\n",
       "  </thead>\n",
       "  <tbody>\n",
       "    <tr>\n",
       "      <th>1972-01-01</th>\n",
       "      <td>59.9622</td>\n",
       "    </tr>\n",
       "    <tr>\n",
       "      <th>1972-02-01</th>\n",
       "      <td>67.0605</td>\n",
       "    </tr>\n",
       "    <tr>\n",
       "      <th>1972-03-01</th>\n",
       "      <td>74.2350</td>\n",
       "    </tr>\n",
       "    <tr>\n",
       "      <th>1972-04-01</th>\n",
       "      <td>78.1120</td>\n",
       "    </tr>\n",
       "    <tr>\n",
       "      <th>1972-05-01</th>\n",
       "      <td>84.7636</td>\n",
       "    </tr>\n",
       "    <tr>\n",
       "      <th>...</th>\n",
       "      <td>...</td>\n",
       "    </tr>\n",
       "    <tr>\n",
       "      <th>2019-05-01</th>\n",
       "      <td>114.5613</td>\n",
       "    </tr>\n",
       "    <tr>\n",
       "      <th>2019-06-01</th>\n",
       "      <td>124.9605</td>\n",
       "    </tr>\n",
       "    <tr>\n",
       "      <th>2019-07-01</th>\n",
       "      <td>110.2632</td>\n",
       "    </tr>\n",
       "    <tr>\n",
       "      <th>2019-08-01</th>\n",
       "      <td>102.6085</td>\n",
       "    </tr>\n",
       "    <tr>\n",
       "      <th>2019-09-01</th>\n",
       "      <td>101.5866</td>\n",
       "    </tr>\n",
       "  </tbody>\n",
       "</table>\n",
       "<p>573 rows × 1 columns</p>\n",
       "</div>"
      ],
      "text/plain": [
       "            Production\n",
       "DATE                  \n",
       "1972-01-01     59.9622\n",
       "1972-02-01     67.0605\n",
       "1972-03-01     74.2350\n",
       "1972-04-01     78.1120\n",
       "1972-05-01     84.7636\n",
       "...                ...\n",
       "2019-05-01    114.5613\n",
       "2019-06-01    124.9605\n",
       "2019-07-01    110.2632\n",
       "2019-08-01    102.6085\n",
       "2019-09-01    101.5866\n",
       "\n",
       "[573 rows x 1 columns]"
      ]
     },
     "execution_count": 6,
     "metadata": {},
     "output_type": "execute_result"
    }
   ],
   "source": [
    "#good approach df.reanme(columns={\"a\":\"b\"})\n",
    "df.rename(columns={'IPN31152N':'Production'},inplace=True) #w/o inplace=True , it works\n",
    "df"
   ]
  },
  {
   "cell_type": "markdown",
   "metadata": {},
   "source": [
    "**TASK: Plot out the time series**"
   ]
  },
  {
   "cell_type": "markdown",
   "metadata": {},
   "source": [
    "[plt.show() Visualization with Matplotlib](https://jakevdp.github.io/PythonDataScienceHandbook/04.00-introduction-to-matplotlib.html)"
   ]
  },
  {
   "cell_type": "code",
   "execution_count": 7,
   "metadata": {},
   "outputs": [
    {
     "data": {
      "text/plain": [
       "<matplotlib.axes._subplots.AxesSubplot at 0x7f90befe9710>"
      ]
     },
     "execution_count": 7,
     "metadata": {},
     "output_type": "execute_result"
    },
    {
     "data": {
      "image/png": "[encoded data removed]",
      "text/plain": [
       "<Figure size 864x576 with 1 Axes>"
      ]
     },
     "metadata": {
      "needs_background": "light"
     },
     "output_type": "display_data"
    }
   ],
   "source": [
    "import seaborn as sns\n",
    "#CODE HERE\n",
    "plt.figure(figsize=(12, 8))\n",
    "# sns.distplot(df['Production'], kde=False)\n",
    "sns.distplot(df['Production'])"
   ]
  },
  {
   "cell_type": "code",
   "execution_count": 8,
   "metadata": {
    "scrolled": true
   },
   "outputs": [
    {
     "data": {
      "text/plain": [
       "Text(0, 0.5, 'Production')"
      ]
     },
     "execution_count": 8,
     "metadata": {},
     "output_type": "execute_result"
    },
    {
     "data": {
      "image/png": "[encoded data removed]",
      "text/plain": [
       "<Figure size 864x576 with 1 Axes>"
      ]
     },
     "metadata": {
      "needs_background": "light"
     },
     "output_type": "display_data"
    }
   ],
   "source": [
    "# plt.figure(figsize=(12, 8))\n",
    "# df.plot(figsize=(12, 8))\n",
    "\n",
    "# df.plot(figsize=(12, 8))\n",
    "\n",
    "# plt.figure(figsize=(12, 8))\n",
    "# plt.plot(df)\n",
    "\n",
    "plt.figure(figsize=(12, 8))\n",
    "plt.plot(df['Production']) #same as above\n",
    "\n",
    "plt.title('DATE-wise Frozen Product')\n",
    "plt.xlabel('Date')\n",
    "plt.ylabel('Production')"
   ]
  },
  {
   "cell_type": "code",
   "execution_count": 9,
   "metadata": {},
   "outputs": [
    {
     "data": {
      "text/html": [
       "<div>\n",
       "<style scoped>\n",
       "    .dataframe tbody tr th:only-of-type {\n",
       "        vertical-align: middle;\n",
       "    }\n",
       "\n",
       "    .dataframe tbody tr th {\n",
       "        vertical-align: top;\n",
       "    }\n",
       "\n",
       "    .dataframe thead th {\n",
       "        text-align: right;\n",
       "    }\n",
       "</style>\n",
       "<table border=\"1\" class=\"dataframe\">\n",
       "  <thead>\n",
       "    <tr style=\"text-align: right;\">\n",
       "      <th></th>\n",
       "      <th>count</th>\n",
       "      <th>mean</th>\n",
       "      <th>std</th>\n",
       "      <th>min</th>\n",
       "      <th>25%</th>\n",
       "      <th>50%</th>\n",
       "      <th>75%</th>\n",
       "      <th>max</th>\n",
       "    </tr>\n",
       "  </thead>\n",
       "  <tbody>\n",
       "    <tr>\n",
       "      <th>Production</th>\n",
       "      <td>573.0</td>\n",
       "      <td>109.895545</td>\n",
       "      <td>27.950571</td>\n",
       "      <td>58.6598</td>\n",
       "      <td>88.9355</td>\n",
       "      <td>107.643</td>\n",
       "      <td>128.2777</td>\n",
       "      <td>196.1737</td>\n",
       "    </tr>\n",
       "  </tbody>\n",
       "</table>\n",
       "</div>"
      ],
      "text/plain": [
       "            count        mean        std      min      25%      50%       75%  \\\n",
       "Production  573.0  109.895545  27.950571  58.6598  88.9355  107.643  128.2777   \n",
       "\n",
       "                 max  \n",
       "Production  196.1737  "
      ]
     },
     "execution_count": 9,
     "metadata": {},
     "output_type": "execute_result"
    }
   ],
   "source": [
    "df.describe().transpose()"
   ]
  },
  {
   "cell_type": "markdown",
   "metadata": {},
   "source": [
    "## Train Test Split"
   ]
  },
  {
   "cell_type": "markdown",
   "metadata": {},
   "source": [
    "**TASK: Figure out the length of the data set**"
   ]
  },
  {
   "cell_type": "code",
   "execution_count": 10,
   "metadata": {},
   "outputs": [
    {
     "data": {
      "text/plain": [
       "573"
      ]
     },
     "execution_count": 10,
     "metadata": {},
     "output_type": "execute_result"
    }
   ],
   "source": [
    "#CODE HERE\n",
    "len(df)"
   ]
  },
  {
   "cell_type": "markdown",
   "metadata": {},
   "source": [
    "**TASK: Split the data into a train/test split where the test set is the last 24 months of data.**"
   ]
  },
  {
   "cell_type": "code",
   "execution_count": 11,
   "metadata": {},
   "outputs": [
    {
     "data": {
      "text/plain": [
       "549"
      ]
     },
     "execution_count": 11,
     "metadata": {},
     "output_type": "execute_result"
    }
   ],
   "source": [
    "#CODE HERE\n",
    "test_size = 24\n",
    "test_ind = len(df) - test_size\n",
    "test_ind"
   ]
  },
  {
   "cell_type": "code",
   "execution_count": 12,
   "metadata": {},
   "outputs": [],
   "source": [
    "train = df[:test_ind]\n",
    "test = df[test_ind:]"
   ]
  },
  {
   "cell_type": "code",
   "execution_count": 13,
   "metadata": {},
   "outputs": [
    {
     "name": "stdout",
     "output_type": "stream",
     "text": [
      "train length :  549\n",
      "test length :  24\n"
     ]
    }
   ],
   "source": [
    "print(\"train length : \",len(train))\n",
    "print(\"test length : \",len(test))"
   ]
  },
  {
   "cell_type": "markdown",
   "metadata": {},
   "source": [
    "## Scale Data"
   ]
  },
  {
   "cell_type": "markdown",
   "metadata": {},
   "source": [
    "**TASK: Use a MinMaxScaler to scale the train and test sets into scaled versions.**"
   ]
  },
  {
   "cell_type": "code",
   "execution_count": 14,
   "metadata": {},
   "outputs": [],
   "source": [
    "# CODE HERE\n",
    "from sklearn.preprocessing import MinMaxScaler"
   ]
  },
  {
   "cell_type": "code",
   "execution_count": 15,
   "metadata": {},
   "outputs": [],
   "source": [
    "scaler = MinMaxScaler()"
   ]
  },
  {
   "cell_type": "code",
   "execution_count": 16,
   "metadata": {},
   "outputs": [
    {
     "data": {
      "text/plain": [
       "MinMaxScaler(copy=True, feature_range=(0, 1))"
      ]
     },
     "execution_count": 16,
     "metadata": {},
     "output_type": "execute_result"
    }
   ],
   "source": [
    "scaler.fit(train)"
   ]
  },
  {
   "cell_type": "code",
   "execution_count": 17,
   "metadata": {},
   "outputs": [
    {
     "data": {
      "text/plain": [
       "array([[0.23134679],\n",
       "       [0.13655347],\n",
       "       [0.12472921],\n",
       "       [0.18015997],\n",
       "       [0.29691617],\n",
       "       [0.35382169],\n",
       "       [0.39102302],\n",
       "       [0.37592272],\n",
       "       [0.47940099],\n",
       "       [0.42586022],\n",
       "       [0.3928192 ],\n",
       "       [0.32470899],\n",
       "       [0.2434103 ],\n",
       "       [0.17289089],\n",
       "       [0.13163033],\n",
       "       [0.20608099],\n",
       "       [0.28689318],\n",
       "       [0.41822681],\n",
       "       [0.40948951],\n",
       "       [0.40651527],\n",
       "       [0.48213817],\n",
       "       [0.37525952],\n",
       "       [0.3195946 ],\n",
       "       [0.31216335]])"
      ]
     },
     "execution_count": 17,
     "metadata": {},
     "output_type": "execute_result"
    }
   ],
   "source": [
    "scaled_train = scaler.transform(train)\n",
    "scaled_test = scaler.transform(test)\n",
    "scaled_test #np.array with 2-d , 24"
   ]
  },
  {
   "cell_type": "markdown",
   "metadata": {},
   "source": [
    "# Time Series Generator\n",
    "\n",
    "**TASK: Create a TimeSeriesGenerator object based off the scaled_train data. The batch length is up to you, but at a minimum it should be at least 18 to capture a full year seasonality.**"
   ]
  },
  {
   "cell_type": "code",
   "execution_count": 18,
   "metadata": {},
   "outputs": [
    {
     "name": "stdout",
     "output_type": "stream",
     "text": [
      "(549, 1)\n",
      "(24, 1)\n"
     ]
    }
   ],
   "source": [
    "print(scaled_train.shape)\n",
    "print(scaled_test.shape)"
   ]
  },
  {
   "cell_type": "code",
   "execution_count": 19,
   "metadata": {},
   "outputs": [],
   "source": [
    "from tensorflow.keras.preprocessing.sequence import TimeseriesGenerator"
   ]
  },
  {
   "cell_type": "code",
   "execution_count": 20,
   "metadata": {},
   "outputs": [],
   "source": [
    "#CODE HERE\n",
    "length = 18 #test length is 24\n",
    "batch_size = 1\n",
    "generator = TimeseriesGenerator(scaled_train, scaled_train, length=length, batch_size=1)#(len:549, len:549,28,1)"
   ]
  },
  {
   "cell_type": "code",
   "execution_count": 21,
   "metadata": {},
   "outputs": [
    {
     "name": "stdout",
     "output_type": "stream",
     "text": [
      "531\n"
     ]
    }
   ],
   "source": [
    "print(len(generator)) #(549-18)/1 = 531\n",
    "X, y = generator[0]"
   ]
  },
  {
   "cell_type": "code",
   "execution_count": 22,
   "metadata": {},
   "outputs": [
    {
     "data": {
      "text/plain": [
       "array([[[0.00947104],\n",
       "        [0.06108982],\n",
       "        [0.11326273],\n",
       "        [0.14145625],\n",
       "        [0.18982663],\n",
       "        [0.30495972],\n",
       "        [0.30154406],\n",
       "        [0.27416065],\n",
       "        [0.19736841],\n",
       "        [0.08532665],\n",
       "        [0.01561588],\n",
       "        [0.        ],\n",
       "        [0.01774221],\n",
       "        [0.09850931],\n",
       "        [0.15590133],\n",
       "        [0.18358944],\n",
       "        [0.20878908],\n",
       "        [0.37150354]]])"
      ]
     },
     "execution_count": 22,
     "metadata": {},
     "output_type": "execute_result"
    }
   ],
   "source": [
    "X #18"
   ]
  },
  {
   "cell_type": "code",
   "execution_count": 23,
   "metadata": {},
   "outputs": [
    {
     "data": {
      "text/plain": [
       "array([[0.3542551]])"
      ]
     },
     "execution_count": 23,
     "metadata": {},
     "output_type": "execute_result"
    }
   ],
   "source": [
    "y"
   ]
  },
  {
   "cell_type": "markdown",
   "metadata": {},
   "source": [
    "### Create the Model\n",
    "\n",
    "**TASK: Create a Keras Sequential Model with as many LSTM units you want and a final Dense Layer.**"
   ]
  },
  {
   "cell_type": "code",
   "execution_count": 24,
   "metadata": {},
   "outputs": [],
   "source": [
    "from tensorflow.keras.models import Sequential\n",
    "from tensorflow.keras.layers import Dense, LSTM"
   ]
  },
  {
   "cell_type": "code",
   "execution_count": 25,
   "metadata": {},
   "outputs": [],
   "source": [
    "n_features = 1"
   ]
  },
  {
   "cell_type": "code",
   "execution_count": 26,
   "metadata": {},
   "outputs": [],
   "source": [
    "model = Sequential()\n",
    "model.add(LSTM(100, activation='relu', input_shape=(length, n_features))) #(18,1)\n",
    "model.add(Dense(1))\n",
    "\n",
    "model.compile(optimizer='adam', loss='mse') #continuous variables"
   ]
  },
  {
   "cell_type": "code",
   "execution_count": 27,
   "metadata": {},
   "outputs": [
    {
     "name": "stdout",
     "output_type": "stream",
     "text": [
      "Model: \"sequential\"\n",
      "_________________________________________________________________\n",
      "Layer (type)                 Output Shape              Param #   \n",
      "=================================================================\n",
      "lstm (LSTM)                  (None, 100)               40800     \n",
      "_________________________________________________________________\n",
      "dense (Dense)                (None, 1)                 101       \n",
      "=================================================================\n",
      "Total params: 40,901\n",
      "Trainable params: 40,901\n",
      "Non-trainable params: 0\n",
      "_________________________________________________________________\n"
     ]
    }
   ],
   "source": [
    "model.summary()"
   ]
  },
  {
   "cell_type": "markdown",
   "metadata": {},
   "source": [
    "**TASK: Create a generator for the scaled test/validation set. NOTE: Double check that your batch length makes sense for the size of the test set as mentioned in the RNN Time Series video.**"
   ]
  },
  {
   "cell_type": "code",
   "execution_count": 28,
   "metadata": {},
   "outputs": [
    {
     "data": {
      "text/plain": [
       "24"
      ]
     },
     "execution_count": 28,
     "metadata": {},
     "output_type": "execute_result"
    }
   ],
   "source": [
    "# CODE HERE\n",
    "len(scaled_test)"
   ]
  },
  {
   "cell_type": "code",
   "execution_count": 29,
   "metadata": {},
   "outputs": [
    {
     "name": "stdout",
     "output_type": "stream",
     "text": [
      "your length chosen for your batches :  18\n"
     ]
    }
   ],
   "source": [
    "print(\"your length chosen for your batches : \",length)"
   ]
  },
  {
   "cell_type": "markdown",
   "metadata": {},
   "source": [
    "**TASK: Create an EarlyStopping callback based on val_loss.**"
   ]
  },
  {
   "cell_type": "code",
   "execution_count": 30,
   "metadata": {},
   "outputs": [],
   "source": [
    "#CODE HERE\n",
    "from tensorflow.keras.callbacks import EarlyStopping"
   ]
  },
  {
   "cell_type": "code",
   "execution_count": 31,
   "metadata": {},
   "outputs": [],
   "source": [
    "early_stop = EarlyStopping(monitor = 'val_loss', patience = 2)"
   ]
  },
  {
   "cell_type": "markdown",
   "metadata": {},
   "source": [
    "**TASK: Fit the model to the generator, let the EarlyStopping dictate the amount of epochs, so feel free to set the parameter high.**"
   ]
  },
  {
   "cell_type": "markdown",
   "metadata": {},
   "source": [
    "##### Create validation generator"
   ]
  },
  {
   "cell_type": "code",
   "execution_count": 32,
   "metadata": {},
   "outputs": [],
   "source": [
    "# CODE HERE\n",
    "validation_generator = TimeseriesGenerator(scaled_test, scaled_test, length=length, batch_size=1) "
   ]
  },
  {
   "cell_type": "code",
   "execution_count": 33,
   "metadata": {},
   "outputs": [
    {
     "data": {
      "text/plain": [
       "6"
      ]
     },
     "execution_count": 33,
     "metadata": {},
     "output_type": "execute_result"
    }
   ],
   "source": [
    "len(validation_generator) #(24-18)/1 = 6, : length of test(24) - length(18)"
   ]
  },
  {
   "cell_type": "code",
   "execution_count": 34,
   "metadata": {},
   "outputs": [],
   "source": [
    "X_vg, y_vg = validation_generator[0]"
   ]
  },
  {
   "cell_type": "code",
   "execution_count": 35,
   "metadata": {},
   "outputs": [
    {
     "name": "stdout",
     "output_type": "stream",
     "text": [
      "(1, 18, 1)\n"
     ]
    },
    {
     "data": {
      "text/plain": [
       "array([[[0.23134679],\n",
       "        [0.13655347],\n",
       "        [0.12472921],\n",
       "        [0.18015997],\n",
       "        [0.29691617],\n",
       "        [0.35382169],\n",
       "        [0.39102302],\n",
       "        [0.37592272],\n",
       "        [0.47940099],\n",
       "        [0.42586022],\n",
       "        [0.3928192 ],\n",
       "        [0.32470899],\n",
       "        [0.2434103 ],\n",
       "        [0.17289089],\n",
       "        [0.13163033],\n",
       "        [0.20608099],\n",
       "        [0.28689318],\n",
       "        [0.41822681]]])"
      ]
     },
     "execution_count": 35,
     "metadata": {},
     "output_type": "execute_result"
    }
   ],
   "source": [
    "print(X_vg.shape)\n",
    "X_vg #18 "
   ]
  },
  {
   "cell_type": "code",
   "execution_count": 36,
   "metadata": {},
   "outputs": [
    {
     "data": {
      "text/plain": [
       "array([[0.40948951]])"
      ]
     },
     "execution_count": 36,
     "metadata": {},
     "output_type": "execute_result"
    }
   ],
   "source": [
    "y_vg"
   ]
  },
  {
   "cell_type": "code",
   "execution_count": 37,
   "metadata": {},
   "outputs": [
    {
     "name": "stdout",
     "output_type": "stream",
     "text": [
      "Epoch 1/20\n",
      "531/531 [==============================] - 26s 50ms/step - loss: 0.0309 - val_loss: 0.0156\n",
      "Epoch 2/20\n",
      "531/531 [==============================] - 27s 50ms/step - loss: 0.0129 - val_loss: 0.0016\n",
      "Epoch 3/20\n",
      "531/531 [==============================] - 27s 50ms/step - loss: 0.0056 - val_loss: 0.0045\n",
      "Epoch 4/20\n",
      "531/531 [==============================] - 27s 51ms/step - loss: 0.0039 - val_loss: 0.0035\n"
     ]
    },
    {
     "data": {
      "text/plain": [
       "<tensorflow.python.keras.callbacks.History at 0x7f905c213490>"
      ]
     },
     "execution_count": 37,
     "metadata": {},
     "output_type": "execute_result"
    }
   ],
   "source": [
    "model.fit_generator(generator, epochs = 20,\n",
    "                   validation_data=validation_generator,\n",
    "                   callbacks=[early_stop])"
   ]
  },
  {
   "cell_type": "markdown",
   "metadata": {},
   "source": [
    "**TASK: Plot the history of the loss that occured during training.**"
   ]
  },
  {
   "cell_type": "code",
   "execution_count": 38,
   "metadata": {},
   "outputs": [
    {
     "data": {
      "text/plain": [
       "<matplotlib.axes._subplots.AxesSubplot at 0x7f905c162c50>"
      ]
     },
     "execution_count": 38,
     "metadata": {},
     "output_type": "execute_result"
    },
    {
     "data": {
      "image/png": "[encoded data removed]",
      "text/plain": [
       "<Figure size 432x288 with 1 Axes>"
      ]
     },
     "metadata": {
      "needs_background": "light"
     },
     "output_type": "display_data"
    }
   ],
   "source": [
    "# CODE HERE\n",
    "loss = pd.DataFrame(model.history.history)\n",
    "loss.plot()"
   ]
  },
  {
   "cell_type": "markdown",
   "metadata": {},
   "source": [
    "## Evaluate on Test Data\n",
    "\n",
    "**TASK: Forecast predictions for your test data range (the last 12 months of the entire dataset). Remember to inverse your scaling transformations. Your final result should be a DataFrame with two columns, the true test values and the predictions.**"
   ]
  },
  {
   "cell_type": "code",
   "execution_count": 41,
   "metadata": {},
   "outputs": [
    {
     "data": {
      "text/plain": [
       "24"
      ]
     },
     "execution_count": 41,
     "metadata": {},
     "output_type": "execute_result"
    }
   ],
   "source": [
    "len(test)"
   ]
  },
  {
   "cell_type": "code",
   "execution_count": 44,
   "metadata": {},
   "outputs": [
    {
     "data": {
      "text/plain": [
       "array([[[0.4766849 ],\n",
       "        [0.45728977],\n",
       "        [0.54050318],\n",
       "        [0.48134479],\n",
       "        [0.45575247],\n",
       "        [0.35906261],\n",
       "        [0.31068714],\n",
       "        [0.20365141],\n",
       "        [0.16432593],\n",
       "        [0.2587782 ],\n",
       "        [0.39071032],\n",
       "        [0.44387077],\n",
       "        [0.4695409 ],\n",
       "        [0.41743926],\n",
       "        [0.46851409],\n",
       "        [0.41889656],\n",
       "        [0.39641011],\n",
       "        [0.28544533]]])"
      ]
     },
     "execution_count": 44,
     "metadata": {},
     "output_type": "execute_result"
    }
   ],
   "source": [
    "first_eval_batch = scaled_train[-length:] #[-18:]\n",
    "my_first_eval_batch = first_eval_batch.reshape(1,length,n_features) #(1,18,1)\n",
    "my_first_eval_batch"
   ]
  },
  {
   "cell_type": "code",
   "execution_count": 45,
   "metadata": {},
   "outputs": [
    {
     "name": "stdout",
     "output_type": "stream",
     "text": [
      "(18, 1)\n",
      "(1, 18, 1)\n",
      "*index 0: current_pred : [0.2697693]\n",
      "----------store the prediction to test_predictions------------\n",
      "*test_predictions : \n",
      " [array([0.2697693], dtype=float32)]\n",
      "---------drop first value & append the prediction----------\n",
      "current_batch :\n",
      " [[[0.45728977]\n",
      "  [0.54050318]\n",
      "  [0.48134479]\n",
      "  [0.45575247]\n",
      "  [0.35906261]\n",
      "  [0.31068714]\n",
      "  [0.20365141]\n",
      "  [0.16432593]\n",
      "  [0.2587782 ]\n",
      "  [0.39071032]\n",
      "  [0.44387077]\n",
      "  [0.4695409 ]\n",
      "  [0.41743926]\n",
      "  [0.46851409]\n",
      "  [0.41889656]\n",
      "  [0.39641011]\n",
      "  [0.28544533]\n",
      "  [0.26976931]]]\n",
      "****************************************\n",
      "*index 1: current_pred : [0.21586047]\n",
      "----------store the prediction to test_predictions------------\n",
      "*test_predictions : \n",
      " [array([0.2697693], dtype=float32), array([0.21586047], dtype=float32)]\n",
      "---------drop first value & append the prediction----------\n",
      "current_batch :\n",
      " [[[0.54050318]\n",
      "  [0.48134479]\n",
      "  [0.45575247]\n",
      "  [0.35906261]\n",
      "  [0.31068714]\n",
      "  [0.20365141]\n",
      "  [0.16432593]\n",
      "  [0.2587782 ]\n",
      "  [0.39071032]\n",
      "  [0.44387077]\n",
      "  [0.4695409 ]\n",
      "  [0.41743926]\n",
      "  [0.46851409]\n",
      "  [0.41889656]\n",
      "  [0.39641011]\n",
      "  [0.28544533]\n",
      "  [0.26976931]\n",
      "  [0.21586047]]]\n",
      "****************************************\n",
      "*index 2: current_pred : [0.19443238]\n",
      "----------store the prediction to test_predictions------------\n",
      "*test_predictions : \n",
      " [array([0.2697693], dtype=float32), array([0.21586047], dtype=float32), array([0.19443238], dtype=float32)]\n",
      "---------drop first value & append the prediction----------\n",
      "current_batch :\n",
      " [[[0.48134479]\n",
      "  [0.45575247]\n",
      "  [0.35906261]\n",
      "  [0.31068714]\n",
      "  [0.20365141]\n",
      "  [0.16432593]\n",
      "  [0.2587782 ]\n",
      "  [0.39071032]\n",
      "  [0.44387077]\n",
      "  [0.4695409 ]\n",
      "  [0.41743926]\n",
      "  [0.46851409]\n",
      "  [0.41889656]\n",
      "  [0.39641011]\n",
      "  [0.28544533]\n",
      "  [0.26976931]\n",
      "  [0.21586047]\n",
      "  [0.19443238]]]\n",
      "****************************************\n",
      "*index 3: current_pred : [0.27248383]\n",
      "----------store the prediction to test_predictions------------\n",
      "*test_predictions : \n",
      " [array([0.2697693], dtype=float32), array([0.21586047], dtype=float32), array([0.19443238], dtype=float32), array([0.27248383], dtype=float32)]\n",
      "---------drop first value & append the prediction----------\n",
      "current_batch :\n",
      " [[[0.45575247]\n",
      "  [0.35906261]\n",
      "  [0.31068714]\n",
      "  [0.20365141]\n",
      "  [0.16432593]\n",
      "  [0.2587782 ]\n",
      "  [0.39071032]\n",
      "  [0.44387077]\n",
      "  [0.4695409 ]\n",
      "  [0.41743926]\n",
      "  [0.46851409]\n",
      "  [0.41889656]\n",
      "  [0.39641011]\n",
      "  [0.28544533]\n",
      "  [0.26976931]\n",
      "  [0.21586047]\n",
      "  [0.19443238]\n",
      "  [0.27248383]]]\n",
      "****************************************\n",
      "*index 4: current_pred : [0.37693977]\n",
      "----------store the prediction to test_predictions------------\n",
      "*test_predictions : \n",
      " [array([0.2697693], dtype=float32), array([0.21586047], dtype=float32), array([0.19443238], dtype=float32), array([0.27248383], dtype=float32), array([0.37693977], dtype=float32)]\n",
      "---------drop first value & append the prediction----------\n",
      "current_batch :\n",
      " [[[0.35906261]\n",
      "  [0.31068714]\n",
      "  [0.20365141]\n",
      "  [0.16432593]\n",
      "  [0.2587782 ]\n",
      "  [0.39071032]\n",
      "  [0.44387077]\n",
      "  [0.4695409 ]\n",
      "  [0.41743926]\n",
      "  [0.46851409]\n",
      "  [0.41889656]\n",
      "  [0.39641011]\n",
      "  [0.28544533]\n",
      "  [0.26976931]\n",
      "  [0.21586047]\n",
      "  [0.19443238]\n",
      "  [0.27248383]\n",
      "  [0.37693977]]]\n",
      "****************************************\n",
      "*index 5: current_pred : [0.44928372]\n",
      "----------store the prediction to test_predictions------------\n",
      "*test_predictions : \n",
      " [array([0.2697693], dtype=float32), array([0.21586047], dtype=float32), array([0.19443238], dtype=float32), array([0.27248383], dtype=float32), array([0.37693977], dtype=float32), array([0.44928372], dtype=float32)]\n",
      "---------drop first value & append the prediction----------\n",
      "current_batch :\n",
      " [[[0.31068714]\n",
      "  [0.20365141]\n",
      "  [0.16432593]\n",
      "  [0.2587782 ]\n",
      "  [0.39071032]\n",
      "  [0.44387077]\n",
      "  [0.4695409 ]\n",
      "  [0.41743926]\n",
      "  [0.46851409]\n",
      "  [0.41889656]\n",
      "  [0.39641011]\n",
      "  [0.28544533]\n",
      "  [0.26976931]\n",
      "  [0.21586047]\n",
      "  [0.19443238]\n",
      "  [0.27248383]\n",
      "  [0.37693977]\n",
      "  [0.44928372]]]\n",
      "****************************************\n",
      "*index 6: current_pred : [0.4924894]\n",
      "----------store the prediction to test_predictions------------\n",
      "*test_predictions : \n",
      " [array([0.2697693], dtype=float32), array([0.21586047], dtype=float32), array([0.19443238], dtype=float32), array([0.27248383], dtype=float32), array([0.37693977], dtype=float32), array([0.44928372], dtype=float32), array([0.4924894], dtype=float32)]\n",
      "---------drop first value & append the prediction----------\n",
      "current_batch :\n",
      " [[[0.20365141]\n",
      "  [0.16432593]\n",
      "  [0.2587782 ]\n",
      "  [0.39071032]\n",
      "  [0.44387077]\n",
      "  [0.4695409 ]\n",
      "  [0.41743926]\n",
      "  [0.46851409]\n",
      "  [0.41889656]\n",
      "  [0.39641011]\n",
      "  [0.28544533]\n",
      "  [0.26976931]\n",
      "  [0.21586047]\n",
      "  [0.19443238]\n",
      "  [0.27248383]\n",
      "  [0.37693977]\n",
      "  [0.44928372]\n",
      "  [0.4924894 ]]]\n",
      "****************************************\n",
      "*index 7: current_pred : [0.51900333]\n",
      "----------store the prediction to test_predictions------------\n",
      "*test_predictions : \n",
      " [array([0.2697693], dtype=float32), array([0.21586047], dtype=float32), array([0.19443238], dtype=float32), array([0.27248383], dtype=float32), array([0.37693977], dtype=float32), array([0.44928372], dtype=float32), array([0.4924894], dtype=float32), array([0.51900333], dtype=float32)]\n",
      "---------drop first value & append the prediction----------\n",
      "current_batch :\n",
      " [[[0.16432593]\n",
      "  [0.2587782 ]\n",
      "  [0.39071032]\n",
      "  [0.44387077]\n",
      "  [0.4695409 ]\n",
      "  [0.41743926]\n",
      "  [0.46851409]\n",
      "  [0.41889656]\n",
      "  [0.39641011]\n",
      "  [0.28544533]\n",
      "  [0.26976931]\n",
      "  [0.21586047]\n",
      "  [0.19443238]\n",
      "  [0.27248383]\n",
      "  [0.37693977]\n",
      "  [0.44928372]\n",
      "  [0.4924894 ]\n",
      "  [0.51900333]]]\n",
      "****************************************\n",
      "*index 8: current_pred : [0.51250696]\n",
      "----------store the prediction to test_predictions------------\n",
      "*test_predictions : \n",
      " [array([0.2697693], dtype=float32), array([0.21586047], dtype=float32), array([0.19443238], dtype=float32), array([0.27248383], dtype=float32), array([0.37693977], dtype=float32), array([0.44928372], dtype=float32), array([0.4924894], dtype=float32), array([0.51900333], dtype=float32), array([0.51250696], dtype=float32)]\n",
      "---------drop first value & append the prediction----------\n",
      "current_batch :\n",
      " [[[0.2587782 ]\n",
      "  [0.39071032]\n",
      "  [0.44387077]\n",
      "  [0.4695409 ]\n",
      "  [0.41743926]\n",
      "  [0.46851409]\n",
      "  [0.41889656]\n",
      "  [0.39641011]\n",
      "  [0.28544533]\n",
      "  [0.26976931]\n",
      "  [0.21586047]\n",
      "  [0.19443238]\n",
      "  [0.27248383]\n",
      "  [0.37693977]\n",
      "  [0.44928372]\n",
      "  [0.4924894 ]\n",
      "  [0.51900333]\n",
      "  [0.51250696]]]\n",
      "****************************************\n",
      "*index 9: current_pred : [0.47213644]\n",
      "----------store the prediction to test_predictions------------\n",
      "*test_predictions : \n",
      " [array([0.2697693], dtype=float32), array([0.21586047], dtype=float32), array([0.19443238], dtype=float32), array([0.27248383], dtype=float32), array([0.37693977], dtype=float32), array([0.44928372], dtype=float32), array([0.4924894], dtype=float32), array([0.51900333], dtype=float32), array([0.51250696], dtype=float32), array([0.47213644], dtype=float32)]\n",
      "---------drop first value & append the prediction----------\n",
      "current_batch :\n",
      " [[[0.39071032]\n",
      "  [0.44387077]\n",
      "  [0.4695409 ]\n",
      "  [0.41743926]\n",
      "  [0.46851409]\n",
      "  [0.41889656]\n",
      "  [0.39641011]\n",
      "  [0.28544533]\n",
      "  [0.26976931]\n",
      "  [0.21586047]\n",
      "  [0.19443238]\n",
      "  [0.27248383]\n",
      "  [0.37693977]\n",
      "  [0.44928372]\n",
      "  [0.4924894 ]\n",
      "  [0.51900333]\n",
      "  [0.51250696]\n",
      "  [0.47213644]]]\n",
      "****************************************\n",
      "*index 10: current_pred : [0.40548408]\n",
      "----------store the prediction to test_predictions------------\n",
      "*test_predictions : \n",
      " [array([0.2697693], dtype=float32), array([0.21586047], dtype=float32), array([0.19443238], dtype=float32), array([0.27248383], dtype=float32), array([0.37693977], dtype=float32), array([0.44928372], dtype=float32), array([0.4924894], dtype=float32), array([0.51900333], dtype=float32), array([0.51250696], dtype=float32), array([0.47213644], dtype=float32), array([0.40548408], dtype=float32)]\n",
      "---------drop first value & append the prediction----------\n",
      "current_batch :\n",
      " [[[0.44387077]\n",
      "  [0.4695409 ]\n",
      "  [0.41743926]\n",
      "  [0.46851409]\n",
      "  [0.41889656]\n",
      "  [0.39641011]\n",
      "  [0.28544533]\n",
      "  [0.26976931]\n",
      "  [0.21586047]\n",
      "  [0.19443238]\n",
      "  [0.27248383]\n",
      "  [0.37693977]\n",
      "  [0.44928372]\n",
      "  [0.4924894 ]\n",
      "  [0.51900333]\n",
      "  [0.51250696]\n",
      "  [0.47213644]\n",
      "  [0.40548408]]]\n",
      "****************************************\n",
      "*index 11: current_pred : [0.33252078]\n",
      "----------store the prediction to test_predictions------------\n",
      "*test_predictions : \n",
      " [array([0.2697693], dtype=float32), array([0.21586047], dtype=float32), array([0.19443238], dtype=float32), array([0.27248383], dtype=float32), array([0.37693977], dtype=float32), array([0.44928372], dtype=float32), array([0.4924894], dtype=float32), array([0.51900333], dtype=float32), array([0.51250696], dtype=float32), array([0.47213644], dtype=float32), array([0.40548408], dtype=float32), array([0.33252078], dtype=float32)]\n",
      "---------drop first value & append the prediction----------\n",
      "current_batch :\n",
      " [[[0.4695409 ]\n",
      "  [0.41743926]\n",
      "  [0.46851409]\n",
      "  [0.41889656]\n",
      "  [0.39641011]\n",
      "  [0.28544533]\n",
      "  [0.26976931]\n",
      "  [0.21586047]\n",
      "  [0.19443238]\n",
      "  [0.27248383]\n",
      "  [0.37693977]\n",
      "  [0.44928372]\n",
      "  [0.4924894 ]\n",
      "  [0.51900333]\n",
      "  [0.51250696]\n",
      "  [0.47213644]\n",
      "  [0.40548408]\n",
      "  [0.33252078]]]\n",
      "****************************************\n"
     ]
    },
    {
     "name": "stdout",
     "output_type": "stream",
     "text": [
      "*index 12: current_pred : [0.26611418]\n",
      "----------store the prediction to test_predictions------------\n",
      "*test_predictions : \n",
      " [array([0.2697693], dtype=float32), array([0.21586047], dtype=float32), array([0.19443238], dtype=float32), array([0.27248383], dtype=float32), array([0.37693977], dtype=float32), array([0.44928372], dtype=float32), array([0.4924894], dtype=float32), array([0.51900333], dtype=float32), array([0.51250696], dtype=float32), array([0.47213644], dtype=float32), array([0.40548408], dtype=float32), array([0.33252078], dtype=float32), array([0.26611418], dtype=float32)]\n",
      "---------drop first value & append the prediction----------\n",
      "current_batch :\n",
      " [[[0.41743926]\n",
      "  [0.46851409]\n",
      "  [0.41889656]\n",
      "  [0.39641011]\n",
      "  [0.28544533]\n",
      "  [0.26976931]\n",
      "  [0.21586047]\n",
      "  [0.19443238]\n",
      "  [0.27248383]\n",
      "  [0.37693977]\n",
      "  [0.44928372]\n",
      "  [0.4924894 ]\n",
      "  [0.51900333]\n",
      "  [0.51250696]\n",
      "  [0.47213644]\n",
      "  [0.40548408]\n",
      "  [0.33252078]\n",
      "  [0.26611418]]]\n",
      "****************************************\n",
      "*index 13: current_pred : [0.21760939]\n",
      "----------store the prediction to test_predictions------------\n",
      "*test_predictions : \n",
      " [array([0.2697693], dtype=float32), array([0.21586047], dtype=float32), array([0.19443238], dtype=float32), array([0.27248383], dtype=float32), array([0.37693977], dtype=float32), array([0.44928372], dtype=float32), array([0.4924894], dtype=float32), array([0.51900333], dtype=float32), array([0.51250696], dtype=float32), array([0.47213644], dtype=float32), array([0.40548408], dtype=float32), array([0.33252078], dtype=float32), array([0.26611418], dtype=float32), array([0.21760939], dtype=float32)]\n",
      "---------drop first value & append the prediction----------\n",
      "current_batch :\n",
      " [[[0.46851409]\n",
      "  [0.41889656]\n",
      "  [0.39641011]\n",
      "  [0.28544533]\n",
      "  [0.26976931]\n",
      "  [0.21586047]\n",
      "  [0.19443238]\n",
      "  [0.27248383]\n",
      "  [0.37693977]\n",
      "  [0.44928372]\n",
      "  [0.4924894 ]\n",
      "  [0.51900333]\n",
      "  [0.51250696]\n",
      "  [0.47213644]\n",
      "  [0.40548408]\n",
      "  [0.33252078]\n",
      "  [0.26611418]\n",
      "  [0.21760939]]]\n",
      "****************************************\n",
      "*index 14: current_pred : [0.23511823]\n",
      "----------store the prediction to test_predictions------------\n",
      "*test_predictions : \n",
      " [array([0.2697693], dtype=float32), array([0.21586047], dtype=float32), array([0.19443238], dtype=float32), array([0.27248383], dtype=float32), array([0.37693977], dtype=float32), array([0.44928372], dtype=float32), array([0.4924894], dtype=float32), array([0.51900333], dtype=float32), array([0.51250696], dtype=float32), array([0.47213644], dtype=float32), array([0.40548408], dtype=float32), array([0.33252078], dtype=float32), array([0.26611418], dtype=float32), array([0.21760939], dtype=float32), array([0.23511823], dtype=float32)]\n",
      "---------drop first value & append the prediction----------\n",
      "current_batch :\n",
      " [[[0.41889656]\n",
      "  [0.39641011]\n",
      "  [0.28544533]\n",
      "  [0.26976931]\n",
      "  [0.21586047]\n",
      "  [0.19443238]\n",
      "  [0.27248383]\n",
      "  [0.37693977]\n",
      "  [0.44928372]\n",
      "  [0.4924894 ]\n",
      "  [0.51900333]\n",
      "  [0.51250696]\n",
      "  [0.47213644]\n",
      "  [0.40548408]\n",
      "  [0.33252078]\n",
      "  [0.26611418]\n",
      "  [0.21760939]\n",
      "  [0.23511823]]]\n",
      "****************************************\n",
      "*index 15: current_pred : [0.34075785]\n",
      "----------store the prediction to test_predictions------------\n",
      "*test_predictions : \n",
      " [array([0.2697693], dtype=float32), array([0.21586047], dtype=float32), array([0.19443238], dtype=float32), array([0.27248383], dtype=float32), array([0.37693977], dtype=float32), array([0.44928372], dtype=float32), array([0.4924894], dtype=float32), array([0.51900333], dtype=float32), array([0.51250696], dtype=float32), array([0.47213644], dtype=float32), array([0.40548408], dtype=float32), array([0.33252078], dtype=float32), array([0.26611418], dtype=float32), array([0.21760939], dtype=float32), array([0.23511823], dtype=float32), array([0.34075785], dtype=float32)]\n",
      "---------drop first value & append the prediction----------\n",
      "current_batch :\n",
      " [[[0.39641011]\n",
      "  [0.28544533]\n",
      "  [0.26976931]\n",
      "  [0.21586047]\n",
      "  [0.19443238]\n",
      "  [0.27248383]\n",
      "  [0.37693977]\n",
      "  [0.44928372]\n",
      "  [0.4924894 ]\n",
      "  [0.51900333]\n",
      "  [0.51250696]\n",
      "  [0.47213644]\n",
      "  [0.40548408]\n",
      "  [0.33252078]\n",
      "  [0.26611418]\n",
      "  [0.21760939]\n",
      "  [0.23511823]\n",
      "  [0.34075785]]]\n",
      "****************************************\n",
      "*index 16: current_pred : [0.4447301]\n",
      "----------store the prediction to test_predictions------------\n",
      "*test_predictions : \n",
      " [array([0.2697693], dtype=float32), array([0.21586047], dtype=float32), array([0.19443238], dtype=float32), array([0.27248383], dtype=float32), array([0.37693977], dtype=float32), array([0.44928372], dtype=float32), array([0.4924894], dtype=float32), array([0.51900333], dtype=float32), array([0.51250696], dtype=float32), array([0.47213644], dtype=float32), array([0.40548408], dtype=float32), array([0.33252078], dtype=float32), array([0.26611418], dtype=float32), array([0.21760939], dtype=float32), array([0.23511823], dtype=float32), array([0.34075785], dtype=float32), array([0.4447301], dtype=float32)]\n",
      "---------drop first value & append the prediction----------\n",
      "current_batch :\n",
      " [[[0.28544533]\n",
      "  [0.26976931]\n",
      "  [0.21586047]\n",
      "  [0.19443238]\n",
      "  [0.27248383]\n",
      "  [0.37693977]\n",
      "  [0.44928372]\n",
      "  [0.4924894 ]\n",
      "  [0.51900333]\n",
      "  [0.51250696]\n",
      "  [0.47213644]\n",
      "  [0.40548408]\n",
      "  [0.33252078]\n",
      "  [0.26611418]\n",
      "  [0.21760939]\n",
      "  [0.23511823]\n",
      "  [0.34075785]\n",
      "  [0.4447301 ]]]\n",
      "****************************************\n",
      "*index 17: current_pred : [0.52127486]\n",
      "----------store the prediction to test_predictions------------\n",
      "*test_predictions : \n",
      " [array([0.2697693], dtype=float32), array([0.21586047], dtype=float32), array([0.19443238], dtype=float32), array([0.27248383], dtype=float32), array([0.37693977], dtype=float32), array([0.44928372], dtype=float32), array([0.4924894], dtype=float32), array([0.51900333], dtype=float32), array([0.51250696], dtype=float32), array([0.47213644], dtype=float32), array([0.40548408], dtype=float32), array([0.33252078], dtype=float32), array([0.26611418], dtype=float32), array([0.21760939], dtype=float32), array([0.23511823], dtype=float32), array([0.34075785], dtype=float32), array([0.4447301], dtype=float32), array([0.52127486], dtype=float32)]\n",
      "---------drop first value & append the prediction----------\n",
      "current_batch :\n",
      " [[[0.26976931]\n",
      "  [0.21586047]\n",
      "  [0.19443238]\n",
      "  [0.27248383]\n",
      "  [0.37693977]\n",
      "  [0.44928372]\n",
      "  [0.4924894 ]\n",
      "  [0.51900333]\n",
      "  [0.51250696]\n",
      "  [0.47213644]\n",
      "  [0.40548408]\n",
      "  [0.33252078]\n",
      "  [0.26611418]\n",
      "  [0.21760939]\n",
      "  [0.23511823]\n",
      "  [0.34075785]\n",
      "  [0.4447301 ]\n",
      "  [0.52127486]]]\n",
      "****************************************\n",
      "*index 18: current_pred : [0.5654563]\n",
      "----------store the prediction to test_predictions------------\n",
      "*test_predictions : \n",
      " [array([0.2697693], dtype=float32), array([0.21586047], dtype=float32), array([0.19443238], dtype=float32), array([0.27248383], dtype=float32), array([0.37693977], dtype=float32), array([0.44928372], dtype=float32), array([0.4924894], dtype=float32), array([0.51900333], dtype=float32), array([0.51250696], dtype=float32), array([0.47213644], dtype=float32), array([0.40548408], dtype=float32), array([0.33252078], dtype=float32), array([0.26611418], dtype=float32), array([0.21760939], dtype=float32), array([0.23511823], dtype=float32), array([0.34075785], dtype=float32), array([0.4447301], dtype=float32), array([0.52127486], dtype=float32), array([0.5654563], dtype=float32)]\n",
      "---------drop first value & append the prediction----------\n",
      "current_batch :\n",
      " [[[0.21586047]\n",
      "  [0.19443238]\n",
      "  [0.27248383]\n",
      "  [0.37693977]\n",
      "  [0.44928372]\n",
      "  [0.4924894 ]\n",
      "  [0.51900333]\n",
      "  [0.51250696]\n",
      "  [0.47213644]\n",
      "  [0.40548408]\n",
      "  [0.33252078]\n",
      "  [0.26611418]\n",
      "  [0.21760939]\n",
      "  [0.23511823]\n",
      "  [0.34075785]\n",
      "  [0.4447301 ]\n",
      "  [0.52127486]\n",
      "  [0.56545627]]]\n",
      "****************************************\n",
      "*index 19: current_pred : [0.5872664]\n",
      "----------store the prediction to test_predictions------------\n",
      "*test_predictions : \n",
      " [array([0.2697693], dtype=float32), array([0.21586047], dtype=float32), array([0.19443238], dtype=float32), array([0.27248383], dtype=float32), array([0.37693977], dtype=float32), array([0.44928372], dtype=float32), array([0.4924894], dtype=float32), array([0.51900333], dtype=float32), array([0.51250696], dtype=float32), array([0.47213644], dtype=float32), array([0.40548408], dtype=float32), array([0.33252078], dtype=float32), array([0.26611418], dtype=float32), array([0.21760939], dtype=float32), array([0.23511823], dtype=float32), array([0.34075785], dtype=float32), array([0.4447301], dtype=float32), array([0.52127486], dtype=float32), array([0.5654563], dtype=float32), array([0.5872664], dtype=float32)]\n",
      "---------drop first value & append the prediction----------\n",
      "current_batch :\n",
      " [[[0.19443238]\n",
      "  [0.27248383]\n",
      "  [0.37693977]\n",
      "  [0.44928372]\n",
      "  [0.4924894 ]\n",
      "  [0.51900333]\n",
      "  [0.51250696]\n",
      "  [0.47213644]\n",
      "  [0.40548408]\n",
      "  [0.33252078]\n",
      "  [0.26611418]\n",
      "  [0.21760939]\n",
      "  [0.23511823]\n",
      "  [0.34075785]\n",
      "  [0.4447301 ]\n",
      "  [0.52127486]\n",
      "  [0.56545627]\n",
      "  [0.58726639]]]\n",
      "****************************************\n",
      "*index 20: current_pred : [0.57501286]\n",
      "----------store the prediction to test_predictions------------\n",
      "*test_predictions : \n",
      " [array([0.2697693], dtype=float32), array([0.21586047], dtype=float32), array([0.19443238], dtype=float32), array([0.27248383], dtype=float32), array([0.37693977], dtype=float32), array([0.44928372], dtype=float32), array([0.4924894], dtype=float32), array([0.51900333], dtype=float32), array([0.51250696], dtype=float32), array([0.47213644], dtype=float32), array([0.40548408], dtype=float32), array([0.33252078], dtype=float32), array([0.26611418], dtype=float32), array([0.21760939], dtype=float32), array([0.23511823], dtype=float32), array([0.34075785], dtype=float32), array([0.4447301], dtype=float32), array([0.52127486], dtype=float32), array([0.5654563], dtype=float32), array([0.5872664], dtype=float32), array([0.57501286], dtype=float32)]\n",
      "---------drop first value & append the prediction----------\n",
      "current_batch :\n",
      " [[[0.27248383]\n",
      "  [0.37693977]\n",
      "  [0.44928372]\n",
      "  [0.4924894 ]\n",
      "  [0.51900333]\n",
      "  [0.51250696]\n",
      "  [0.47213644]\n",
      "  [0.40548408]\n",
      "  [0.33252078]\n",
      "  [0.26611418]\n",
      "  [0.21760939]\n",
      "  [0.23511823]\n",
      "  [0.34075785]\n",
      "  [0.4447301 ]\n",
      "  [0.52127486]\n",
      "  [0.56545627]\n",
      "  [0.58726639]\n",
      "  [0.57501286]]]\n",
      "****************************************\n"
     ]
    },
    {
     "name": "stdout",
     "output_type": "stream",
     "text": [
      "*index 21: current_pred : [0.5222795]\n",
      "----------store the prediction to test_predictions------------\n",
      "*test_predictions : \n",
      " [array([0.2697693], dtype=float32), array([0.21586047], dtype=float32), array([0.19443238], dtype=float32), array([0.27248383], dtype=float32), array([0.37693977], dtype=float32), array([0.44928372], dtype=float32), array([0.4924894], dtype=float32), array([0.51900333], dtype=float32), array([0.51250696], dtype=float32), array([0.47213644], dtype=float32), array([0.40548408], dtype=float32), array([0.33252078], dtype=float32), array([0.26611418], dtype=float32), array([0.21760939], dtype=float32), array([0.23511823], dtype=float32), array([0.34075785], dtype=float32), array([0.4447301], dtype=float32), array([0.52127486], dtype=float32), array([0.5654563], dtype=float32), array([0.5872664], dtype=float32), array([0.57501286], dtype=float32), array([0.5222795], dtype=float32)]\n",
      "---------drop first value & append the prediction----------\n",
      "current_batch :\n",
      " [[[0.37693977]\n",
      "  [0.44928372]\n",
      "  [0.4924894 ]\n",
      "  [0.51900333]\n",
      "  [0.51250696]\n",
      "  [0.47213644]\n",
      "  [0.40548408]\n",
      "  [0.33252078]\n",
      "  [0.26611418]\n",
      "  [0.21760939]\n",
      "  [0.23511823]\n",
      "  [0.34075785]\n",
      "  [0.4447301 ]\n",
      "  [0.52127486]\n",
      "  [0.56545627]\n",
      "  [0.58726639]\n",
      "  [0.57501286]\n",
      "  [0.5222795 ]]]\n",
      "****************************************\n",
      "*index 22: current_pred : [0.4450407]\n",
      "----------store the prediction to test_predictions------------\n",
      "*test_predictions : \n",
      " [array([0.2697693], dtype=float32), array([0.21586047], dtype=float32), array([0.19443238], dtype=float32), array([0.27248383], dtype=float32), array([0.37693977], dtype=float32), array([0.44928372], dtype=float32), array([0.4924894], dtype=float32), array([0.51900333], dtype=float32), array([0.51250696], dtype=float32), array([0.47213644], dtype=float32), array([0.40548408], dtype=float32), array([0.33252078], dtype=float32), array([0.26611418], dtype=float32), array([0.21760939], dtype=float32), array([0.23511823], dtype=float32), array([0.34075785], dtype=float32), array([0.4447301], dtype=float32), array([0.52127486], dtype=float32), array([0.5654563], dtype=float32), array([0.5872664], dtype=float32), array([0.57501286], dtype=float32), array([0.5222795], dtype=float32), array([0.4450407], dtype=float32)]\n",
      "---------drop first value & append the prediction----------\n",
      "current_batch :\n",
      " [[[0.44928372]\n",
      "  [0.4924894 ]\n",
      "  [0.51900333]\n",
      "  [0.51250696]\n",
      "  [0.47213644]\n",
      "  [0.40548408]\n",
      "  [0.33252078]\n",
      "  [0.26611418]\n",
      "  [0.21760939]\n",
      "  [0.23511823]\n",
      "  [0.34075785]\n",
      "  [0.4447301 ]\n",
      "  [0.52127486]\n",
      "  [0.56545627]\n",
      "  [0.58726639]\n",
      "  [0.57501286]\n",
      "  [0.5222795 ]\n",
      "  [0.4450407 ]]]\n",
      "****************************************\n",
      "*index 23: current_pred : [0.36394268]\n",
      "----------store the prediction to test_predictions------------\n",
      "*test_predictions : \n",
      " [array([0.2697693], dtype=float32), array([0.21586047], dtype=float32), array([0.19443238], dtype=float32), array([0.27248383], dtype=float32), array([0.37693977], dtype=float32), array([0.44928372], dtype=float32), array([0.4924894], dtype=float32), array([0.51900333], dtype=float32), array([0.51250696], dtype=float32), array([0.47213644], dtype=float32), array([0.40548408], dtype=float32), array([0.33252078], dtype=float32), array([0.26611418], dtype=float32), array([0.21760939], dtype=float32), array([0.23511823], dtype=float32), array([0.34075785], dtype=float32), array([0.4447301], dtype=float32), array([0.52127486], dtype=float32), array([0.5654563], dtype=float32), array([0.5872664], dtype=float32), array([0.57501286], dtype=float32), array([0.5222795], dtype=float32), array([0.4450407], dtype=float32), array([0.36394268], dtype=float32)]\n",
      "---------drop first value & append the prediction----------\n",
      "current_batch :\n",
      " [[[0.4924894 ]\n",
      "  [0.51900333]\n",
      "  [0.51250696]\n",
      "  [0.47213644]\n",
      "  [0.40548408]\n",
      "  [0.33252078]\n",
      "  [0.26611418]\n",
      "  [0.21760939]\n",
      "  [0.23511823]\n",
      "  [0.34075785]\n",
      "  [0.4447301 ]\n",
      "  [0.52127486]\n",
      "  [0.56545627]\n",
      "  [0.58726639]\n",
      "  [0.57501286]\n",
      "  [0.5222795 ]\n",
      "  [0.4450407 ]\n",
      "  [0.36394268]]]\n",
      "****************************************\n"
     ]
    }
   ],
   "source": [
    "# To forecast predictions for your test data range (the last 12 months of the entire dataset), First,\n",
    "# one prediction by current_batch(1,18,1) <-first_eval_batch(18,1) <- scaled_train[index -18 to end] : #18 \n",
    "#Then add it test_predictions, list. \n",
    "\n",
    "test_predictions =[]\n",
    "\n",
    "first_eval_batch = scaled_train[-length:] #[-18:]\n",
    "print(first_eval_batch.shape)\n",
    "current_batch = first_eval_batch.reshape(1,length,n_features) #(1,18,1)\n",
    "print(current_batch.shape)\n",
    "\n",
    "for i in range(len(test)): #24 \n",
    "    \n",
    "    # get prediction 1 time stamp ahead ([0] is for grabbing just the number instead of [array])\n",
    "    # model.predict(current_batch)[0], 1-d array(1,)[0.25642183] <-\n",
    "    # <- model.predict(current_batch),2d (1,1)[[0.25642183]]\n",
    "    current_pred = model.predict(current_batch)[0]\n",
    "    print(f\"*index {i}: current_pred : {model.predict(current_batch)[0]}\")\n",
    "    print('----------store the prediction to test_predictions------------')\n",
    "    # store prediction \n",
    "    test_predictions.append(current_pred) #list consist 18 np.array(1,)\n",
    "    print(f\"*test_predictions : \\n\",test_predictions)\n",
    "    print(\"---------drop first value & append the prediction----------\")\n",
    "    # update batch to now include prediction and drop first value\n",
    "    current_batch = np.append(current_batch[:,1:,:],[[current_pred]],axis=1) #[[[0.25642183]]], 3-d(1,1,1)\n",
    "    print(\"current_batch :\\n\", current_batch) #18\n",
    "    print(\"****************************************\")\n",
    "    "
   ]
  },
  {
   "cell_type": "code",
   "execution_count": null,
   "metadata": {},
   "outputs": [],
   "source": [
    "##Test !\n",
    "current_batch #nd.array 18 -> first element is removed, then append new element(current_pred) to test_predictions."
   ]
  },
  {
   "cell_type": "code",
   "execution_count": null,
   "metadata": {},
   "outputs": [],
   "source": [
    "current_batch[:,1:,:]"
   ]
  },
  {
   "cell_type": "code",
   "execution_count": null,
   "metadata": {},
   "outputs": [],
   "source": [
    "model.predict(current_batch)"
   ]
  },
  {
   "cell_type": "code",
   "execution_count": null,
   "metadata": {},
   "outputs": [],
   "source": [
    "model.predict(current_batch)[0] #current_pred -> test_predictions.append(current_pred)"
   ]
  },
  {
   "cell_type": "markdown",
   "metadata": {},
   "source": [
    "#### Inverse Transformation and Compare"
   ]
  },
  {
   "cell_type": "code",
   "execution_count": 159,
   "metadata": {},
   "outputs": [
    {
     "data": {
      "text/plain": [
       "[array([0.25642183], dtype=float32),\n",
       " array([0.20720203], dtype=float32),\n",
       " array([0.21742652], dtype=float32),\n",
       " array([0.29645026], dtype=float32),\n",
       " array([0.38803077], dtype=float32),\n",
       " array([0.45087326], dtype=float32),\n",
       " array([0.49877727], dtype=float32),\n",
       " array([0.5275402], dtype=float32),\n",
       " array([0.5291007], dtype=float32),\n",
       " array([0.49378258], dtype=float32),\n",
       " array([0.43755633], dtype=float32),\n",
       " array([0.36426324], dtype=float32),\n",
       " array([0.28672916], dtype=float32),\n",
       " array([0.23425336], dtype=float32),\n",
       " array([0.24910472], dtype=float32),\n",
       " array([0.34249038], dtype=float32),\n",
       " array([0.43369865], dtype=float32),\n",
       " array([0.50074756], dtype=float32),\n",
       " array([0.5520378], dtype=float32),\n",
       " array([0.5897617], dtype=float32),\n",
       " array([0.59524924], dtype=float32),\n",
       " array([0.56330234], dtype=float32),\n",
       " array([0.5023972], dtype=float32),\n",
       " array([0.42289233], dtype=float32)]"
      ]
     },
     "execution_count": 159,
     "metadata": {},
     "output_type": "execute_result"
    }
   ],
   "source": [
    "test_predictions #24 "
   ]
  },
  {
   "cell_type": "code",
   "execution_count": 156,
   "metadata": {},
   "outputs": [
    {
     "name": "stdout",
     "output_type": "stream",
     "text": [
      "(24, 1)\n"
     ]
    },
    {
     "data": {
      "text/plain": [
       "array([[ 93.92136647],\n",
       "       [ 87.15295954],\n",
       "       [ 88.55896922],\n",
       "       [ 99.42583104],\n",
       "       [112.01942415],\n",
       "       [120.6611398 ],\n",
       "       [127.24860767],\n",
       "       [131.20391126],\n",
       "       [131.41850297],\n",
       "       [126.56176831],\n",
       "       [118.82987691],\n",
       "       [108.75105828],\n",
       "       [ 98.08904462],\n",
       "       [ 90.87289337],\n",
       "       [ 92.91516201],\n",
       "       [105.75698718],\n",
       "       [118.29939336],\n",
       "       [127.51955009],\n",
       "       [134.57266746],\n",
       "       [139.76022792],\n",
       "       [140.51484386],\n",
       "       [136.12170139],\n",
       "       [127.74639552],\n",
       "       [116.81337386]])"
      ]
     },
     "execution_count": 156,
     "metadata": {},
     "output_type": "execute_result"
    }
   ],
   "source": [
    "true_predictions = scaler.inverse_transform(test_predictions)\n",
    "print(true_predictions.shape)\n",
    "true_predictions"
   ]
  },
  {
   "cell_type": "code",
   "execution_count": 162,
   "metadata": {},
   "outputs": [
    {
     "data": {
      "text/html": [
       "<div>\n",
       "<style scoped>\n",
       "    .dataframe tbody tr th:only-of-type {\n",
       "        vertical-align: middle;\n",
       "    }\n",
       "\n",
       "    .dataframe tbody tr th {\n",
       "        vertical-align: top;\n",
       "    }\n",
       "\n",
       "    .dataframe thead th {\n",
       "        text-align: right;\n",
       "    }\n",
       "</style>\n",
       "<table border=\"1\" class=\"dataframe\">\n",
       "  <thead>\n",
       "    <tr style=\"text-align: right;\">\n",
       "      <th></th>\n",
       "      <th>Production</th>\n",
       "    </tr>\n",
       "    <tr>\n",
       "      <th>DATE</th>\n",
       "      <th></th>\n",
       "    </tr>\n",
       "  </thead>\n",
       "  <tbody>\n",
       "    <tr>\n",
       "      <th>2017-10-01</th>\n",
       "      <td>90.4732</td>\n",
       "    </tr>\n",
       "    <tr>\n",
       "      <th>2017-11-01</th>\n",
       "      <td>77.4378</td>\n",
       "    </tr>\n",
       "    <tr>\n",
       "      <th>2017-12-01</th>\n",
       "      <td>75.8118</td>\n",
       "    </tr>\n",
       "    <tr>\n",
       "      <th>2018-01-01</th>\n",
       "      <td>83.4343</td>\n",
       "    </tr>\n",
       "    <tr>\n",
       "      <th>2018-02-01</th>\n",
       "      <td>99.4899</td>\n",
       "    </tr>\n",
       "    <tr>\n",
       "      <th>2018-03-01</th>\n",
       "      <td>107.3152</td>\n",
       "    </tr>\n",
       "    <tr>\n",
       "      <th>2018-04-01</th>\n",
       "      <td>112.4309</td>\n",
       "    </tr>\n",
       "    <tr>\n",
       "      <th>2018-05-01</th>\n",
       "      <td>110.3544</td>\n",
       "    </tr>\n",
       "    <tr>\n",
       "      <th>2018-06-01</th>\n",
       "      <td>124.5841</td>\n",
       "    </tr>\n",
       "    <tr>\n",
       "      <th>2018-07-01</th>\n",
       "      <td>117.2215</td>\n",
       "    </tr>\n",
       "    <tr>\n",
       "      <th>2018-08-01</th>\n",
       "      <td>112.6779</td>\n",
       "    </tr>\n",
       "    <tr>\n",
       "      <th>2018-09-01</th>\n",
       "      <td>103.3118</td>\n",
       "    </tr>\n",
       "    <tr>\n",
       "      <th>2018-10-01</th>\n",
       "      <td>92.1321</td>\n",
       "    </tr>\n",
       "    <tr>\n",
       "      <th>2018-11-01</th>\n",
       "      <td>82.4347</td>\n",
       "    </tr>\n",
       "    <tr>\n",
       "      <th>2018-12-01</th>\n",
       "      <td>76.7608</td>\n",
       "    </tr>\n",
       "    <tr>\n",
       "      <th>2019-01-01</th>\n",
       "      <td>86.9988</td>\n",
       "    </tr>\n",
       "    <tr>\n",
       "      <th>2019-02-01</th>\n",
       "      <td>98.1116</td>\n",
       "    </tr>\n",
       "    <tr>\n",
       "      <th>2019-03-01</th>\n",
       "      <td>116.1718</td>\n",
       "    </tr>\n",
       "    <tr>\n",
       "      <th>2019-04-01</th>\n",
       "      <td>114.9703</td>\n",
       "    </tr>\n",
       "    <tr>\n",
       "      <th>2019-05-01</th>\n",
       "      <td>114.5613</td>\n",
       "    </tr>\n",
       "    <tr>\n",
       "      <th>2019-06-01</th>\n",
       "      <td>124.9605</td>\n",
       "    </tr>\n",
       "    <tr>\n",
       "      <th>2019-07-01</th>\n",
       "      <td>110.2632</td>\n",
       "    </tr>\n",
       "    <tr>\n",
       "      <th>2019-08-01</th>\n",
       "      <td>102.6085</td>\n",
       "    </tr>\n",
       "    <tr>\n",
       "      <th>2019-09-01</th>\n",
       "      <td>101.5866</td>\n",
       "    </tr>\n",
       "  </tbody>\n",
       "</table>\n",
       "</div>"
      ],
      "text/plain": [
       "            Production\n",
       "DATE                  \n",
       "2017-10-01     90.4732\n",
       "2017-11-01     77.4378\n",
       "2017-12-01     75.8118\n",
       "2018-01-01     83.4343\n",
       "2018-02-01     99.4899\n",
       "2018-03-01    107.3152\n",
       "2018-04-01    112.4309\n",
       "2018-05-01    110.3544\n",
       "2018-06-01    124.5841\n",
       "2018-07-01    117.2215\n",
       "2018-08-01    112.6779\n",
       "2018-09-01    103.3118\n",
       "2018-10-01     92.1321\n",
       "2018-11-01     82.4347\n",
       "2018-12-01     76.7608\n",
       "2019-01-01     86.9988\n",
       "2019-02-01     98.1116\n",
       "2019-03-01    116.1718\n",
       "2019-04-01    114.9703\n",
       "2019-05-01    114.5613\n",
       "2019-06-01    124.9605\n",
       "2019-07-01    110.2632\n",
       "2019-08-01    102.6085\n",
       "2019-09-01    101.5866"
      ]
     },
     "execution_count": 162,
     "metadata": {},
     "output_type": "execute_result"
    }
   ],
   "source": [
    "test"
   ]
  },
  {
   "cell_type": "code",
   "execution_count": 163,
   "metadata": {},
   "outputs": [
    {
     "name": "stderr",
     "output_type": "stream",
     "text": [
      "/home/ys/.local/lib/python3.6/site-packages/ipykernel_launcher.py:1: SettingWithCopyWarning: \n",
      "A value is trying to be set on a copy of a slice from a DataFrame.\n",
      "Try using .loc[row_indexer,col_indexer] = value instead\n",
      "\n",
      "See the caveats in the documentation: http://pandas.pydata.org/pandas-docs/stable/user_guide/indexing.html#returning-a-view-versus-a-copy\n",
      "  \"\"\"Entry point for launching an IPython kernel.\n"
     ]
    }
   ],
   "source": [
    "test['Predictions'] = true_predictions"
   ]
  },
  {
   "cell_type": "code",
   "execution_count": 164,
   "metadata": {},
   "outputs": [
    {
     "data": {
      "text/html": [
       "<div>\n",
       "<style scoped>\n",
       "    .dataframe tbody tr th:only-of-type {\n",
       "        vertical-align: middle;\n",
       "    }\n",
       "\n",
       "    .dataframe tbody tr th {\n",
       "        vertical-align: top;\n",
       "    }\n",
       "\n",
       "    .dataframe thead th {\n",
       "        text-align: right;\n",
       "    }\n",
       "</style>\n",
       "<table border=\"1\" class=\"dataframe\">\n",
       "  <thead>\n",
       "    <tr style=\"text-align: right;\">\n",
       "      <th></th>\n",
       "      <th>Production</th>\n",
       "      <th>Predictions</th>\n",
       "    </tr>\n",
       "    <tr>\n",
       "      <th>DATE</th>\n",
       "      <th></th>\n",
       "      <th></th>\n",
       "    </tr>\n",
       "  </thead>\n",
       "  <tbody>\n",
       "    <tr>\n",
       "      <th>2017-10-01</th>\n",
       "      <td>90.4732</td>\n",
       "      <td>93.921366</td>\n",
       "    </tr>\n",
       "    <tr>\n",
       "      <th>2017-11-01</th>\n",
       "      <td>77.4378</td>\n",
       "      <td>87.152960</td>\n",
       "    </tr>\n",
       "    <tr>\n",
       "      <th>2017-12-01</th>\n",
       "      <td>75.8118</td>\n",
       "      <td>88.558969</td>\n",
       "    </tr>\n",
       "    <tr>\n",
       "      <th>2018-01-01</th>\n",
       "      <td>83.4343</td>\n",
       "      <td>99.425831</td>\n",
       "    </tr>\n",
       "    <tr>\n",
       "      <th>2018-02-01</th>\n",
       "      <td>99.4899</td>\n",
       "      <td>112.019424</td>\n",
       "    </tr>\n",
       "    <tr>\n",
       "      <th>2018-03-01</th>\n",
       "      <td>107.3152</td>\n",
       "      <td>120.661140</td>\n",
       "    </tr>\n",
       "    <tr>\n",
       "      <th>2018-04-01</th>\n",
       "      <td>112.4309</td>\n",
       "      <td>127.248608</td>\n",
       "    </tr>\n",
       "    <tr>\n",
       "      <th>2018-05-01</th>\n",
       "      <td>110.3544</td>\n",
       "      <td>131.203911</td>\n",
       "    </tr>\n",
       "    <tr>\n",
       "      <th>2018-06-01</th>\n",
       "      <td>124.5841</td>\n",
       "      <td>131.418503</td>\n",
       "    </tr>\n",
       "    <tr>\n",
       "      <th>2018-07-01</th>\n",
       "      <td>117.2215</td>\n",
       "      <td>126.561768</td>\n",
       "    </tr>\n",
       "    <tr>\n",
       "      <th>2018-08-01</th>\n",
       "      <td>112.6779</td>\n",
       "      <td>118.829877</td>\n",
       "    </tr>\n",
       "    <tr>\n",
       "      <th>2018-09-01</th>\n",
       "      <td>103.3118</td>\n",
       "      <td>108.751058</td>\n",
       "    </tr>\n",
       "    <tr>\n",
       "      <th>2018-10-01</th>\n",
       "      <td>92.1321</td>\n",
       "      <td>98.089045</td>\n",
       "    </tr>\n",
       "    <tr>\n",
       "      <th>2018-11-01</th>\n",
       "      <td>82.4347</td>\n",
       "      <td>90.872893</td>\n",
       "    </tr>\n",
       "    <tr>\n",
       "      <th>2018-12-01</th>\n",
       "      <td>76.7608</td>\n",
       "      <td>92.915162</td>\n",
       "    </tr>\n",
       "    <tr>\n",
       "      <th>2019-01-01</th>\n",
       "      <td>86.9988</td>\n",
       "      <td>105.756987</td>\n",
       "    </tr>\n",
       "    <tr>\n",
       "      <th>2019-02-01</th>\n",
       "      <td>98.1116</td>\n",
       "      <td>118.299393</td>\n",
       "    </tr>\n",
       "    <tr>\n",
       "      <th>2019-03-01</th>\n",
       "      <td>116.1718</td>\n",
       "      <td>127.519550</td>\n",
       "    </tr>\n",
       "    <tr>\n",
       "      <th>2019-04-01</th>\n",
       "      <td>114.9703</td>\n",
       "      <td>134.572667</td>\n",
       "    </tr>\n",
       "    <tr>\n",
       "      <th>2019-05-01</th>\n",
       "      <td>114.5613</td>\n",
       "      <td>139.760228</td>\n",
       "    </tr>\n",
       "    <tr>\n",
       "      <th>2019-06-01</th>\n",
       "      <td>124.9605</td>\n",
       "      <td>140.514844</td>\n",
       "    </tr>\n",
       "    <tr>\n",
       "      <th>2019-07-01</th>\n",
       "      <td>110.2632</td>\n",
       "      <td>136.121701</td>\n",
       "    </tr>\n",
       "    <tr>\n",
       "      <th>2019-08-01</th>\n",
       "      <td>102.6085</td>\n",
       "      <td>127.746396</td>\n",
       "    </tr>\n",
       "    <tr>\n",
       "      <th>2019-09-01</th>\n",
       "      <td>101.5866</td>\n",
       "      <td>116.813374</td>\n",
       "    </tr>\n",
       "  </tbody>\n",
       "</table>\n",
       "</div>"
      ],
      "text/plain": [
       "            Production  Predictions\n",
       "DATE                               \n",
       "2017-10-01     90.4732    93.921366\n",
       "2017-11-01     77.4378    87.152960\n",
       "2017-12-01     75.8118    88.558969\n",
       "2018-01-01     83.4343    99.425831\n",
       "2018-02-01     99.4899   112.019424\n",
       "2018-03-01    107.3152   120.661140\n",
       "2018-04-01    112.4309   127.248608\n",
       "2018-05-01    110.3544   131.203911\n",
       "2018-06-01    124.5841   131.418503\n",
       "2018-07-01    117.2215   126.561768\n",
       "2018-08-01    112.6779   118.829877\n",
       "2018-09-01    103.3118   108.751058\n",
       "2018-10-01     92.1321    98.089045\n",
       "2018-11-01     82.4347    90.872893\n",
       "2018-12-01     76.7608    92.915162\n",
       "2019-01-01     86.9988   105.756987\n",
       "2019-02-01     98.1116   118.299393\n",
       "2019-03-01    116.1718   127.519550\n",
       "2019-04-01    114.9703   134.572667\n",
       "2019-05-01    114.5613   139.760228\n",
       "2019-06-01    124.9605   140.514844\n",
       "2019-07-01    110.2632   136.121701\n",
       "2019-08-01    102.6085   127.746396\n",
       "2019-09-01    101.5866   116.813374"
      ]
     },
     "execution_count": 164,
     "metadata": {},
     "output_type": "execute_result"
    }
   ],
   "source": [
    "test"
   ]
  },
  {
   "cell_type": "markdown",
   "metadata": {},
   "source": [
    "**TASK: Plot your predictions versus the True test values. (Your plot may look different than ours).**"
   ]
  },
  {
   "cell_type": "code",
   "execution_count": 165,
   "metadata": {},
   "outputs": [
    {
     "data": {
      "text/plain": [
       "[<matplotlib.lines.Line2D at 0x7f0115990160>,\n",
       " <matplotlib.lines.Line2D at 0x7efd687bb1d0>]"
      ]
     },
     "execution_count": 165,
     "metadata": {},
     "output_type": "execute_result"
    },
    {
     "data": {
      "image/png": "[encoded data removed]",
      "text/plain": [
       "<Figure size 432x288 with 1 Axes>"
      ]
     },
     "metadata": {
      "needs_background": "light"
     },
     "output_type": "display_data"
    }
   ],
   "source": [
    "# CODE HERE\n",
    "plt.plot(test)"
   ]
  },
  {
   "cell_type": "markdown",
   "metadata": {},
   "source": [
    "**TASK: Calculate your RMSE.**"
   ]
  },
  {
   "cell_type": "code",
   "execution_count": 189,
   "metadata": {},
   "outputs": [
    {
     "data": {
      "text/plain": [
       "15.498241705908418"
      ]
     },
     "execution_count": 189,
     "metadata": {},
     "output_type": "execute_result"
    }
   ],
   "source": [
    "from sklearn.metrics import mean_squared_error\n",
    "np.sqrt(mean_squared_error(test['Production'], test['Predictions']))"
   ]
  },
  {
   "cell_type": "code",
   "execution_count": null,
   "metadata": {},
   "outputs": [],
   "source": []
  },
  {
   "cell_type": "markdown",
   "metadata": {},
   "source": [
    "### Retrain and Forecasting"
   ]
  },
  {
   "cell_type": "code",
   "execution_count": 166,
   "metadata": {},
   "outputs": [],
   "source": [
    "full_scaler = MinMaxScaler()\n",
    "scaled_full_data = full_scaler.fit_transform(df)#instead of train, test, Just use whole df dataset"
   ]
  },
  {
   "cell_type": "code",
   "execution_count": null,
   "metadata": {},
   "outputs": [],
   "source": [
    "length = 18 # Length of the output sequences (in number of timesteps)\n",
    "generator = TimeseriesGenerator(scaled_full_data, scaled_full_data, length=length, batch_size=1) "
   ]
  },
  {
   "cell_type": "code",
   "execution_count": 167,
   "metadata": {},
   "outputs": [
    {
     "name": "stdout",
     "output_type": "stream",
     "text": [
      "Epoch 1/8\n",
      "531/531 [==============================] - 30s 57ms/step - loss: 0.0226\n",
      "Epoch 2/8\n",
      "531/531 [==============================] - 29s 55ms/step - loss: 0.0063\n",
      "Epoch 3/8\n",
      "531/531 [==============================] - 28s 53ms/step - loss: 0.0039\n",
      "Epoch 4/8\n",
      "531/531 [==============================] - 30s 56ms/step - loss: 0.0036\n",
      "Epoch 5/8\n",
      "531/531 [==============================] - 29s 54ms/step - loss: 0.0035\n",
      "Epoch 6/8\n",
      "531/531 [==============================] - 29s 55ms/step - loss: 0.0031\n",
      "Epoch 7/8\n",
      "531/531 [==============================] - 29s 55ms/step - loss: 0.0033\n",
      "Epoch 8/8\n",
      "531/531 [==============================] - 29s 55ms/step - loss: 0.0032\n"
     ]
    },
    {
     "data": {
      "text/plain": [
       "<tensorflow.python.keras.callbacks.History at 0x7efd6869edd8>"
      ]
     },
     "execution_count": 167,
     "metadata": {},
     "output_type": "execute_result"
    }
   ],
   "source": [
    "model = Sequential()\n",
    "model.add(LSTM(100, activation='relu', input_shape=(length, n_features))) #n_features = 1\n",
    "model.add(Dense(1))\n",
    "model.compile(optimizer='adam', loss='mse')\n",
    "\n",
    "# fit model\n",
    "model.fit_generator(generator,epochs=8)"
   ]
  },
  {
   "cell_type": "code",
   "execution_count": 170,
   "metadata": {},
   "outputs": [],
   "source": [
    "forecast = []\n",
    "# Replace periods with whatever forecast length you want\n",
    "periods = 18\n",
    "\n",
    "first_eval_batch = scaled_full_data[-length:]\n",
    "current_batch = first_eval_batch.reshape((1, length, n_features)) #pass 1 item per batch, which required at LSTM\n",
    "\n",
    "for i in range(periods):\n",
    "    \n",
    "    # get prediction 1 time stamp ahead ([0] is for grabbing just the number instead of [array])\n",
    "    current_pred = model.predict(current_batch)[0]\n",
    "    \n",
    "    # store prediction\n",
    "    forecast.append(current_pred) \n",
    "    \n",
    "    # update batch to now include prediction and drop first value\n",
    "    current_batch = np.append(current_batch[:,1:,:],[[current_pred]],axis=1)"
   ]
  },
  {
   "cell_type": "code",
   "execution_count": 173,
   "metadata": {},
   "outputs": [
    {
     "name": "stdout",
     "output_type": "stream",
     "text": [
      "np.array :  (18, 1)\n"
     ]
    },
    {
     "data": {
      "text/plain": [
       "array([[ 90.44723649],\n",
       "       [ 85.91629706],\n",
       "       [ 90.0936204 ],\n",
       "       [100.91467422],\n",
       "       [112.16517783],\n",
       "       [120.68337272],\n",
       "       [126.14910488],\n",
       "       [128.35170462],\n",
       "       [126.1993943 ],\n",
       "       [119.94659638],\n",
       "       [110.13245807],\n",
       "       [ 99.06946914],\n",
       "       [ 90.6792252 ],\n",
       "       [ 90.68119645],\n",
       "       [100.41319796],\n",
       "       [113.31839617],\n",
       "       [124.21322228],\n",
       "       [131.94886357]])"
      ]
     },
     "execution_count": 173,
     "metadata": {},
     "output_type": "execute_result"
    }
   ],
   "source": [
    "forecast = scaler.inverse_transform(forecast)\n",
    "print(\"np.array : \",forecast.shape)\n",
    "forecast"
   ]
  },
  {
   "cell_type": "markdown",
   "metadata": {},
   "source": [
    "#### Creating new timestamp index with pandas."
   ]
  },
  {
   "cell_type": "code",
   "execution_count": 174,
   "metadata": {},
   "outputs": [
    {
     "data": {
      "text/html": [
       "<div>\n",
       "<style scoped>\n",
       "    .dataframe tbody tr th:only-of-type {\n",
       "        vertical-align: middle;\n",
       "    }\n",
       "\n",
       "    .dataframe tbody tr th {\n",
       "        vertical-align: top;\n",
       "    }\n",
       "\n",
       "    .dataframe thead th {\n",
       "        text-align: right;\n",
       "    }\n",
       "</style>\n",
       "<table border=\"1\" class=\"dataframe\">\n",
       "  <thead>\n",
       "    <tr style=\"text-align: right;\">\n",
       "      <th></th>\n",
       "      <th>Production</th>\n",
       "    </tr>\n",
       "    <tr>\n",
       "      <th>DATE</th>\n",
       "      <th></th>\n",
       "    </tr>\n",
       "  </thead>\n",
       "  <tbody>\n",
       "    <tr>\n",
       "      <th>1972-01-01</th>\n",
       "      <td>59.9622</td>\n",
       "    </tr>\n",
       "    <tr>\n",
       "      <th>1972-02-01</th>\n",
       "      <td>67.0605</td>\n",
       "    </tr>\n",
       "    <tr>\n",
       "      <th>1972-03-01</th>\n",
       "      <td>74.2350</td>\n",
       "    </tr>\n",
       "    <tr>\n",
       "      <th>1972-04-01</th>\n",
       "      <td>78.1120</td>\n",
       "    </tr>\n",
       "    <tr>\n",
       "      <th>1972-05-01</th>\n",
       "      <td>84.7636</td>\n",
       "    </tr>\n",
       "    <tr>\n",
       "      <th>...</th>\n",
       "      <td>...</td>\n",
       "    </tr>\n",
       "    <tr>\n",
       "      <th>2019-05-01</th>\n",
       "      <td>114.5613</td>\n",
       "    </tr>\n",
       "    <tr>\n",
       "      <th>2019-06-01</th>\n",
       "      <td>124.9605</td>\n",
       "    </tr>\n",
       "    <tr>\n",
       "      <th>2019-07-01</th>\n",
       "      <td>110.2632</td>\n",
       "    </tr>\n",
       "    <tr>\n",
       "      <th>2019-08-01</th>\n",
       "      <td>102.6085</td>\n",
       "    </tr>\n",
       "    <tr>\n",
       "      <th>2019-09-01</th>\n",
       "      <td>101.5866</td>\n",
       "    </tr>\n",
       "  </tbody>\n",
       "</table>\n",
       "<p>573 rows × 1 columns</p>\n",
       "</div>"
      ],
      "text/plain": [
       "            Production\n",
       "DATE                  \n",
       "1972-01-01     59.9622\n",
       "1972-02-01     67.0605\n",
       "1972-03-01     74.2350\n",
       "1972-04-01     78.1120\n",
       "1972-05-01     84.7636\n",
       "...                ...\n",
       "2019-05-01    114.5613\n",
       "2019-06-01    124.9605\n",
       "2019-07-01    110.2632\n",
       "2019-08-01    102.6085\n",
       "2019-09-01    101.5866\n",
       "\n",
       "[573 rows x 1 columns]"
      ]
     },
     "execution_count": 174,
     "metadata": {},
     "output_type": "execute_result"
    }
   ],
   "source": [
    "df"
   ]
  },
  {
   "cell_type": "code",
   "execution_count": 177,
   "metadata": {},
   "outputs": [
    {
     "name": "stdout",
     "output_type": "stream",
     "text": [
      "Help on function date_range in module pandas.core.indexes.datetimes:\n",
      "\n",
      "date_range(start=None, end=None, periods=None, freq=None, tz=None, normalize=False, name=None, closed=None, **kwargs)\n",
      "    Return a fixed frequency DatetimeIndex.\n",
      "    \n",
      "    Parameters\n",
      "    ----------\n",
      "    start : str or datetime-like, optional\n",
      "        Left bound for generating dates.\n",
      "    end : str or datetime-like, optional\n",
      "        Right bound for generating dates.\n",
      "    periods : integer, optional\n",
      "        Number of periods to generate.\n",
      "    freq : str or DateOffset, default 'D'\n",
      "        Frequency strings can have multiples, e.g. '5H'. See\n",
      "        :ref:`here <timeseries.offset_aliases>` for a list of\n",
      "        frequency aliases.\n",
      "    tz : str or tzinfo, optional\n",
      "        Time zone name for returning localized DatetimeIndex, for example\n",
      "        'Asia/Hong_Kong'. By default, the resulting DatetimeIndex is\n",
      "        timezone-naive.\n",
      "    normalize : bool, default False\n",
      "        Normalize start/end dates to midnight before generating date range.\n",
      "    name : str, default None\n",
      "        Name of the resulting DatetimeIndex.\n",
      "    closed : {None, 'left', 'right'}, optional\n",
      "        Make the interval closed with respect to the given frequency to\n",
      "        the 'left', 'right', or both sides (None, the default).\n",
      "    **kwargs\n",
      "        For compatibility. Has no effect on the result.\n",
      "    \n",
      "    Returns\n",
      "    -------\n",
      "    rng : DatetimeIndex\n",
      "    \n",
      "    See Also\n",
      "    --------\n",
      "    DatetimeIndex : An immutable container for datetimes.\n",
      "    timedelta_range : Return a fixed frequency TimedeltaIndex.\n",
      "    period_range : Return a fixed frequency PeriodIndex.\n",
      "    interval_range : Return a fixed frequency IntervalIndex.\n",
      "    \n",
      "    Notes\n",
      "    -----\n",
      "    Of the four parameters ``start``, ``end``, ``periods``, and ``freq``,\n",
      "    exactly three must be specified. If ``freq`` is omitted, the resulting\n",
      "    ``DatetimeIndex`` will have ``periods`` linearly spaced elements between\n",
      "    ``start`` and ``end`` (closed on both sides).\n",
      "    \n",
      "    To learn more about the frequency strings, please see `this link\n",
      "    <http://pandas.pydata.org/pandas-docs/stable/user_guide/timeseries.html#offset-aliases>`__.\n",
      "    \n",
      "    Examples\n",
      "    --------\n",
      "    **Specifying the values**\n",
      "    \n",
      "    The next four examples generate the same `DatetimeIndex`, but vary\n",
      "    the combination of `start`, `end` and `periods`.\n",
      "    \n",
      "    Specify `start` and `end`, with the default daily frequency.\n",
      "    \n",
      "    >>> pd.date_range(start='1/1/2018', end='1/08/2018')\n",
      "    DatetimeIndex(['2018-01-01', '2018-01-02', '2018-01-03', '2018-01-04',\n",
      "                   '2018-01-05', '2018-01-06', '2018-01-07', '2018-01-08'],\n",
      "                  dtype='datetime64[ns]', freq='D')\n",
      "    \n",
      "    Specify `start` and `periods`, the number of periods (days).\n",
      "    \n",
      "    >>> pd.date_range(start='1/1/2018', periods=8)\n",
      "    DatetimeIndex(['2018-01-01', '2018-01-02', '2018-01-03', '2018-01-04',\n",
      "                   '2018-01-05', '2018-01-06', '2018-01-07', '2018-01-08'],\n",
      "                  dtype='datetime64[ns]', freq='D')\n",
      "    \n",
      "    Specify `end` and `periods`, the number of periods (days).\n",
      "    \n",
      "    >>> pd.date_range(end='1/1/2018', periods=8)\n",
      "    DatetimeIndex(['2017-12-25', '2017-12-26', '2017-12-27', '2017-12-28',\n",
      "                   '2017-12-29', '2017-12-30', '2017-12-31', '2018-01-01'],\n",
      "                  dtype='datetime64[ns]', freq='D')\n",
      "    \n",
      "    Specify `start`, `end`, and `periods`; the frequency is generated\n",
      "    automatically (linearly spaced).\n",
      "    \n",
      "    >>> pd.date_range(start='2018-04-24', end='2018-04-27', periods=3)\n",
      "    DatetimeIndex(['2018-04-24 00:00:00', '2018-04-25 12:00:00',\n",
      "                   '2018-04-27 00:00:00'],\n",
      "                  dtype='datetime64[ns]', freq=None)\n",
      "    \n",
      "    **Other Parameters**\n",
      "    \n",
      "    Changed the `freq` (frequency) to ``'M'`` (month end frequency).\n",
      "    \n",
      "    >>> pd.date_range(start='1/1/2018', periods=5, freq='M')\n",
      "    DatetimeIndex(['2018-01-31', '2018-02-28', '2018-03-31', '2018-04-30',\n",
      "                   '2018-05-31'],\n",
      "                  dtype='datetime64[ns]', freq='M')\n",
      "    \n",
      "    Multiples are allowed\n",
      "    \n",
      "    >>> pd.date_range(start='1/1/2018', periods=5, freq='3M')\n",
      "    DatetimeIndex(['2018-01-31', '2018-04-30', '2018-07-31', '2018-10-31',\n",
      "                   '2019-01-31'],\n",
      "                  dtype='datetime64[ns]', freq='3M')\n",
      "    \n",
      "    `freq` can also be specified as an Offset object.\n",
      "    \n",
      "    >>> pd.date_range(start='1/1/2018', periods=5, freq=pd.offsets.MonthEnd(3))\n",
      "    DatetimeIndex(['2018-01-31', '2018-04-30', '2018-07-31', '2018-10-31',\n",
      "                   '2019-01-31'],\n",
      "                  dtype='datetime64[ns]', freq='3M')\n",
      "    \n",
      "    Specify `tz` to set the timezone.\n",
      "    \n",
      "    >>> pd.date_range(start='1/1/2018', periods=5, tz='Asia/Tokyo')\n",
      "    DatetimeIndex(['2018-01-01 00:00:00+09:00', '2018-01-02 00:00:00+09:00',\n",
      "                   '2018-01-03 00:00:00+09:00', '2018-01-04 00:00:00+09:00',\n",
      "                   '2018-01-05 00:00:00+09:00'],\n",
      "                  dtype='datetime64[ns, Asia/Tokyo]', freq='D')\n",
      "    \n",
      "    `closed` controls whether to include `start` and `end` that are on the\n",
      "    boundary. The default includes boundary points on either end.\n",
      "    \n",
      "    >>> pd.date_range(start='2017-01-01', end='2017-01-04', closed=None)\n",
      "    DatetimeIndex(['2017-01-01', '2017-01-02', '2017-01-03', '2017-01-04'],\n",
      "                  dtype='datetime64[ns]', freq='D')\n",
      "    \n",
      "    Use ``closed='left'`` to exclude `end` if it falls on the boundary.\n",
      "    \n",
      "    >>> pd.date_range(start='2017-01-01', end='2017-01-04', closed='left')\n",
      "    DatetimeIndex(['2017-01-01', '2017-01-02', '2017-01-03'],\n",
      "                  dtype='datetime64[ns]', freq='D')\n",
      "    \n",
      "    Use ``closed='right'`` to exclude `start` if it falls on the boundary.\n",
      "    \n",
      "    >>> pd.date_range(start='2017-01-01', end='2017-01-04', closed='right')\n",
      "    DatetimeIndex(['2017-01-02', '2017-01-03', '2017-01-04'],\n",
      "                  dtype='datetime64[ns]', freq='D')\n",
      "\n"
     ]
    }
   ],
   "source": [
    "help(pd.date_range)"
   ]
  },
  {
   "cell_type": "code",
   "execution_count": 178,
   "metadata": {},
   "outputs": [],
   "source": [
    "forecast_index = pd.date_range(start='2019-10-01', periods=periods, freq='M')\n",
    "# forecast_index = pd.date_range(start='2019-10-01', periods=periods, freq='MS')"
   ]
  },
  {
   "cell_type": "code",
   "execution_count": 179,
   "metadata": {},
   "outputs": [
    {
     "data": {
      "text/html": [
       "<div>\n",
       "<style scoped>\n",
       "    .dataframe tbody tr th:only-of-type {\n",
       "        vertical-align: middle;\n",
       "    }\n",
       "\n",
       "    .dataframe tbody tr th {\n",
       "        vertical-align: top;\n",
       "    }\n",
       "\n",
       "    .dataframe thead th {\n",
       "        text-align: right;\n",
       "    }\n",
       "</style>\n",
       "<table border=\"1\" class=\"dataframe\">\n",
       "  <thead>\n",
       "    <tr style=\"text-align: right;\">\n",
       "      <th></th>\n",
       "      <th>Forecast</th>\n",
       "    </tr>\n",
       "  </thead>\n",
       "  <tbody>\n",
       "    <tr>\n",
       "      <th>2019-10-31</th>\n",
       "      <td>90.447236</td>\n",
       "    </tr>\n",
       "    <tr>\n",
       "      <th>2019-11-30</th>\n",
       "      <td>85.916297</td>\n",
       "    </tr>\n",
       "    <tr>\n",
       "      <th>2019-12-31</th>\n",
       "      <td>90.093620</td>\n",
       "    </tr>\n",
       "    <tr>\n",
       "      <th>2020-01-31</th>\n",
       "      <td>100.914674</td>\n",
       "    </tr>\n",
       "    <tr>\n",
       "      <th>2020-02-29</th>\n",
       "      <td>112.165178</td>\n",
       "    </tr>\n",
       "    <tr>\n",
       "      <th>2020-03-31</th>\n",
       "      <td>120.683373</td>\n",
       "    </tr>\n",
       "    <tr>\n",
       "      <th>2020-04-30</th>\n",
       "      <td>126.149105</td>\n",
       "    </tr>\n",
       "    <tr>\n",
       "      <th>2020-05-31</th>\n",
       "      <td>128.351705</td>\n",
       "    </tr>\n",
       "    <tr>\n",
       "      <th>2020-06-30</th>\n",
       "      <td>126.199394</td>\n",
       "    </tr>\n",
       "    <tr>\n",
       "      <th>2020-07-31</th>\n",
       "      <td>119.946596</td>\n",
       "    </tr>\n",
       "    <tr>\n",
       "      <th>2020-08-31</th>\n",
       "      <td>110.132458</td>\n",
       "    </tr>\n",
       "    <tr>\n",
       "      <th>2020-09-30</th>\n",
       "      <td>99.069469</td>\n",
       "    </tr>\n",
       "    <tr>\n",
       "      <th>2020-10-31</th>\n",
       "      <td>90.679225</td>\n",
       "    </tr>\n",
       "    <tr>\n",
       "      <th>2020-11-30</th>\n",
       "      <td>90.681196</td>\n",
       "    </tr>\n",
       "    <tr>\n",
       "      <th>2020-12-31</th>\n",
       "      <td>100.413198</td>\n",
       "    </tr>\n",
       "    <tr>\n",
       "      <th>2021-01-31</th>\n",
       "      <td>113.318396</td>\n",
       "    </tr>\n",
       "    <tr>\n",
       "      <th>2021-02-28</th>\n",
       "      <td>124.213222</td>\n",
       "    </tr>\n",
       "    <tr>\n",
       "      <th>2021-03-31</th>\n",
       "      <td>131.948864</td>\n",
       "    </tr>\n",
       "  </tbody>\n",
       "</table>\n",
       "</div>"
      ],
      "text/plain": [
       "              Forecast\n",
       "2019-10-31   90.447236\n",
       "2019-11-30   85.916297\n",
       "2019-12-31   90.093620\n",
       "2020-01-31  100.914674\n",
       "2020-02-29  112.165178\n",
       "2020-03-31  120.683373\n",
       "2020-04-30  126.149105\n",
       "2020-05-31  128.351705\n",
       "2020-06-30  126.199394\n",
       "2020-07-31  119.946596\n",
       "2020-08-31  110.132458\n",
       "2020-09-30   99.069469\n",
       "2020-10-31   90.679225\n",
       "2020-11-30   90.681196\n",
       "2020-12-31  100.413198\n",
       "2021-01-31  113.318396\n",
       "2021-02-28  124.213222\n",
       "2021-03-31  131.948864"
      ]
     },
     "execution_count": 179,
     "metadata": {},
     "output_type": "execute_result"
    }
   ],
   "source": [
    "#forecast is np.array\n",
    "forecast_df = pd.DataFrame(data=forecast, index=forecast_index, columns=['Forecast'])\n",
    "forecast_df"
   ]
  },
  {
   "cell_type": "code",
   "execution_count": 183,
   "metadata": {},
   "outputs": [
    {
     "data": {
      "text/plain": [
       "<matplotlib.axes._subplots.AxesSubplot at 0x7efd5bfe7860>"
      ]
     },
     "execution_count": 183,
     "metadata": {},
     "output_type": "execute_result"
    },
    {
     "data": {
      "image/png": "[encoded data removed]",
      "text/plain": [
       "<Figure size 864x576 with 1 Axes>"
      ]
     },
     "metadata": {
      "needs_background": "light"
     },
     "output_type": "display_data"
    },
    {
     "data": {
      "image/png": "[encoded data removed]",
      "text/plain": [
       "<Figure size 864x576 with 1 Axes>"
      ]
     },
     "metadata": {
      "needs_background": "light"
     },
     "output_type": "display_data"
    }
   ],
   "source": [
    "df.plot(figsize=(12, 8))\n",
    "forecast_df.plot(figsize=(12, 8))"
   ]
  },
  {
   "cell_type": "markdown",
   "metadata": {},
   "source": [
    "#### Joining pandas plots"
   ]
  },
  {
   "cell_type": "code",
   "execution_count": 184,
   "metadata": {},
   "outputs": [
    {
     "data": {
      "text/plain": [
       "<matplotlib.axes._subplots.AxesSubplot at 0x7efd58d4f080>"
      ]
     },
     "execution_count": 184,
     "metadata": {},
     "output_type": "execute_result"
    },
    {
     "data": {
      "image/png": "[encoded data removed]",
      "text/plain": [
       "<Figure size 864x576 with 1 Axes>"
      ]
     },
     "metadata": {
      "needs_background": "light"
     },
     "output_type": "display_data"
    }
   ],
   "source": [
    "ax = df.plot(figsize=(12, 8))\n",
    "\n",
    "plt.plot(figsize=(12, 8))\n",
    "forecast_df.plot(ax=ax)"
   ]
  },
  {
   "cell_type": "code",
   "execution_count": 187,
   "metadata": {},
   "outputs": [
    {
     "data": {
      "text/plain": [
       "(573, 614)"
      ]
     },
     "execution_count": 187,
     "metadata": {},
     "output_type": "execute_result"
    },
    {
     "data": {
      "image/png": "[encoded data removed]",
      "text/plain": [
       "<Figure size 864x576 with 1 Axes>"
      ]
     },
     "metadata": {
      "needs_background": "light"
     },
     "output_type": "display_data"
    }
   ],
   "source": [
    "ax = df.plot(figsize=(12, 8))\n",
    "\n",
    "plt.plot(figsize=(12, 8))\n",
    "forecast_df.plot(ax=ax)\n",
    "plt.xlim('2017-10-31','2021-03-31')"
   ]
  },
  {
   "cell_type": "code",
   "execution_count": null,
   "metadata": {},
   "outputs": [],
   "source": []
  }
 ],
 "metadata": {
  "kernelspec": {
   "display_name": "Python 3",
   "language": "python",
   "name": "python3"
  },
  "language_info": {
   "codemirror_mode": {
    "name": "ipython",
    "version": 3
   },
   "file_extension": ".py",
   "mimetype": "text/x-python",
   "name": "python",
   "nbconvert_exporter": "python",
   "pygments_lexer": "ipython3",
   "version": "3.7.6"
  }
 },
 "nbformat": 4,
 "nbformat_minor": 2
}
