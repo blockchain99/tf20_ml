{
 "cells": [
  {
   "cell_type": "markdown",
   "metadata": {},
   "source": [
    "[Python_DataScience_Handbook](https://jakevdp.github.io/PythonDataScienceHandbook/index.html)"
   ]
  },
  {
   "cell_type": "markdown",
   "metadata": {},
   "source": [
    "Table of Contents\n",
    "Preface\n",
    "1. IPython: Beyond Normal Python\n",
    "Help and Documentation in IPython\n",
    "Keyboard Shortcuts in the IPython Shell\n",
    "IPython Magic Commands\n",
    "Input and Output History\n",
    "IPython and Shell Commands\n",
    "Errors and Debugging\n",
    "Profiling and Timing Code\n",
    "More IPython Resources\n",
    "2. Introduction to NumPy\n",
    "Understanding Data Types in Python\n",
    "The Basics of NumPy Arrays\n",
    "Computation on NumPy Arrays: Universal Functions\n",
    "Aggregations: Min, Max, and Everything In Between\n",
    "Computation on Arrays: Broadcasting\n",
    "Comparisons, Masks, and Boolean Logic\n",
    "Fancy Indexing\n",
    "Sorting Arrays\n",
    "Structured Data: NumPy's Structured Arrays\n",
    "3. Data Manipulation with Pandas\n",
    "Introducing Pandas Objects\n",
    "Data Indexing and Selection\n",
    "Operating on Data in Pandas\n",
    "Handling Missing Data\n",
    "Hierarchical Indexing\n",
    "Combining Datasets: Concat and Append\n",
    "Combining Datasets: Merge and Join\n",
    "Aggregation and Grouping\n",
    "Pivot Tables\n",
    "Vectorized String Operations\n",
    "Working with Time Series\n",
    "High-Performance Pandas: eval() and query()\n",
    "Further Resources\n",
    "4. Visualization with Matplotlib\n",
    "Simple Line Plots\n",
    "Simple Scatter Plots\n",
    "Visualizing Errors\n",
    "Density and Contour Plots\n",
    "Histograms, Binnings, and Density\n",
    "Customizing Plot Legends\n",
    "Customizing Colorbars\n",
    "Multiple Subplots\n",
    "Text and Annotation\n",
    "Customizing Ticks\n",
    "Customizing Matplotlib: Configurations and Stylesheets\n",
    "Three-Dimensional Plotting in Matplotlib\n",
    "Geographic Data with Basemap\n",
    "Visualization with Seaborn\n",
    "Further Resources\n",
    "5. Machine Learning\n",
    "What Is Machine Learning?\n",
    "Introducing Scikit-Learn\n",
    "Hyperparameters and Model Validation\n",
    "Feature Engineering\n",
    "In Depth: Naive Bayes Classification\n",
    "In Depth: Linear Regression\n",
    "In-Depth: Support Vector Machines\n",
    "In-Depth: Decision Trees and Random Forests\n",
    "In Depth: Principal Component Analysis\n",
    "In-Depth: Manifold Learning\n",
    "In Depth: k-Means Clustering\n",
    "In Depth: Gaussian Mixture Models\n",
    "In-Depth: Kernel Density Estimation\n",
    "Application: A Face Detection Pipeline\n",
    "Further Machine Learning Resources\n",
    "Appendix: Figure Code"
   ]
  },
  {
   "cell_type": "code",
   "execution_count": null,
   "metadata": {},
   "outputs": [],
   "source": []
  }
 ],
 "metadata": {
  "kernelspec": {
   "display_name": "Python 3",
   "language": "python",
   "name": "python3"
  },
  "language_info": {
   "codemirror_mode": {
    "name": "ipython",
    "version": 3
   },
   "file_extension": ".py",
   "mimetype": "text/x-python",
   "name": "python",
   "nbconvert_exporter": "python",
   "pygments_lexer": "ipython3",
   "version": "3.7.5"
  }
 },
 "nbformat": 4,
 "nbformat_minor": 2
}
