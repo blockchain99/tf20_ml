{
 "cells": [
  {
   "cell_type": "code",
   "execution_count": 1,
   "metadata": {},
   "outputs": [],
   "source": [
    "%config IPCompleter.greedy=True"
   ]
  },
  {
   "cell_type": "markdown",
   "metadata": {},
   "source": [
    "[jupyter notebook guide](https://www.analyticsvidhya.com/blog/2018/05/starters-guide-jupyter-notebook/)"
   ]
  },
  {
   "cell_type": "markdown",
   "metadata": {},
   "source": [
    "___\n",
    "\n",
    "<a href='http://www.pieriandata.com'><img src='../Pierian_Data_Logo.png'/></a>\n",
    "___\n",
    "<center><em>Copyright Pierian Data</em></center>\n",
    "<center><em>For more information, visit us at <a href='http://www.pieriandata.com'>www.pieriandata.com</a></em></center>\n",
    "\n",
    "# RNN Example for Sine Wave"
   ]
  },
  {
   "cell_type": "code",
   "execution_count": 2,
   "metadata": {},
   "outputs": [],
   "source": [
    "import pandas as pd\n",
    "import numpy as np\n",
    "%matplotlib inline\n",
    "import matplotlib.pyplot as plt"
   ]
  },
  {
   "cell_type": "code",
   "execution_count": 3,
   "metadata": {},
   "outputs": [
    {
     "name": "stdout",
     "output_type": "stream",
     "text": [
      "Num GPUs Available:  2\n"
     ]
    }
   ],
   "source": [
    "from __future__ import absolute_import, division, print_function, unicode_literals\n",
    "\n",
    "import tensorflow as tf\n",
    "print(\"Num GPUs Available: \", len(tf.config.experimental.list_physical_devices('GPU')))"
   ]
  },
  {
   "cell_type": "code",
   "execution_count": 4,
   "metadata": {},
   "outputs": [
    {
     "name": "stdout",
     "output_type": "stream",
     "text": [
      "2 Physical GPUs, 2 Logical GPUs\n"
     ]
    }
   ],
   "source": [
    "# To turn on memory growth for a specific GPU, use the following code \n",
    "# prior to allocating any tensors or executing any ops.gpus = tf.config.experimental.list_physical_devices('GPU')\n",
    "\n",
    "gpus = tf.config.experimental.list_physical_devices('GPU')\n",
    "if gpus:\n",
    "  try:\n",
    "    # Currently, memory growth needs to be the same across GPUs\n",
    "    for gpu in gpus:\n",
    "      tf.config.experimental.set_memory_growth(gpu, True)\n",
    "    logical_gpus = tf.config.experimental.list_logical_devices('GPU')\n",
    "    print(len(gpus), \"Physical GPUs,\", len(logical_gpus), \"Logical GPUs\")\n",
    "  except RuntimeError as e:\n",
    "    # Memory growth must be set before GPUs have been initialized\n",
    "    print(e)"
   ]
  },
  {
   "cell_type": "markdown",
   "metadata": {},
   "source": [
    "## Data\n",
    "\n",
    "Let's use Numpy to create a simple sine wave."
   ]
  },
  {
   "cell_type": "code",
   "execution_count": 5,
   "metadata": {},
   "outputs": [
    {
     "data": {
      "text/plain": [
       "array([10., 11., 12., 13., 14., 15.])"
      ]
     },
     "execution_count": 5,
     "metadata": {},
     "output_type": "execute_result"
    }
   ],
   "source": [
    "np.linspace(10,15,6) #from 10 to 15(including) evenly divide(dividing area is 6-1 = 5) with 6 dividing numbers "
   ]
  },
  {
   "cell_type": "code",
   "execution_count": 6,
   "metadata": {},
   "outputs": [],
   "source": [
    "x = np.linspace(0,50,501) # from 0 to 50 -> 500(501-1) areas with 501 divinding number(last number is 50)\n",
    "y = np.sin(x)"
   ]
  },
  {
   "cell_type": "code",
   "execution_count": 7,
   "metadata": {},
   "outputs": [
    {
     "data": {
      "text/plain": [
       "array([ 0. ,  0.1,  0.2,  0.3,  0.4,  0.5,  0.6,  0.7,  0.8,  0.9,  1. ,\n",
       "        1.1,  1.2,  1.3,  1.4,  1.5,  1.6,  1.7,  1.8,  1.9,  2. ,  2.1,\n",
       "        2.2,  2.3,  2.4,  2.5,  2.6,  2.7,  2.8,  2.9,  3. ,  3.1,  3.2,\n",
       "        3.3,  3.4,  3.5,  3.6,  3.7,  3.8,  3.9,  4. ,  4.1,  4.2,  4.3,\n",
       "        4.4,  4.5,  4.6,  4.7,  4.8,  4.9,  5. ,  5.1,  5.2,  5.3,  5.4,\n",
       "        5.5,  5.6,  5.7,  5.8,  5.9,  6. ,  6.1,  6.2,  6.3,  6.4,  6.5,\n",
       "        6.6,  6.7,  6.8,  6.9,  7. ,  7.1,  7.2,  7.3,  7.4,  7.5,  7.6,\n",
       "        7.7,  7.8,  7.9,  8. ,  8.1,  8.2,  8.3,  8.4,  8.5,  8.6,  8.7,\n",
       "        8.8,  8.9,  9. ,  9.1,  9.2,  9.3,  9.4,  9.5,  9.6,  9.7,  9.8,\n",
       "        9.9, 10. , 10.1, 10.2, 10.3, 10.4, 10.5, 10.6, 10.7, 10.8, 10.9,\n",
       "       11. , 11.1, 11.2, 11.3, 11.4, 11.5, 11.6, 11.7, 11.8, 11.9, 12. ,\n",
       "       12.1, 12.2, 12.3, 12.4, 12.5, 12.6, 12.7, 12.8, 12.9, 13. , 13.1,\n",
       "       13.2, 13.3, 13.4, 13.5, 13.6, 13.7, 13.8, 13.9, 14. , 14.1, 14.2,\n",
       "       14.3, 14.4, 14.5, 14.6, 14.7, 14.8, 14.9, 15. , 15.1, 15.2, 15.3,\n",
       "       15.4, 15.5, 15.6, 15.7, 15.8, 15.9, 16. , 16.1, 16.2, 16.3, 16.4,\n",
       "       16.5, 16.6, 16.7, 16.8, 16.9, 17. , 17.1, 17.2, 17.3, 17.4, 17.5,\n",
       "       17.6, 17.7, 17.8, 17.9, 18. , 18.1, 18.2, 18.3, 18.4, 18.5, 18.6,\n",
       "       18.7, 18.8, 18.9, 19. , 19.1, 19.2, 19.3, 19.4, 19.5, 19.6, 19.7,\n",
       "       19.8, 19.9, 20. , 20.1, 20.2, 20.3, 20.4, 20.5, 20.6, 20.7, 20.8,\n",
       "       20.9, 21. , 21.1, 21.2, 21.3, 21.4, 21.5, 21.6, 21.7, 21.8, 21.9,\n",
       "       22. , 22.1, 22.2, 22.3, 22.4, 22.5, 22.6, 22.7, 22.8, 22.9, 23. ,\n",
       "       23.1, 23.2, 23.3, 23.4, 23.5, 23.6, 23.7, 23.8, 23.9, 24. , 24.1,\n",
       "       24.2, 24.3, 24.4, 24.5, 24.6, 24.7, 24.8, 24.9, 25. , 25.1, 25.2,\n",
       "       25.3, 25.4, 25.5, 25.6, 25.7, 25.8, 25.9, 26. , 26.1, 26.2, 26.3,\n",
       "       26.4, 26.5, 26.6, 26.7, 26.8, 26.9, 27. , 27.1, 27.2, 27.3, 27.4,\n",
       "       27.5, 27.6, 27.7, 27.8, 27.9, 28. , 28.1, 28.2, 28.3, 28.4, 28.5,\n",
       "       28.6, 28.7, 28.8, 28.9, 29. , 29.1, 29.2, 29.3, 29.4, 29.5, 29.6,\n",
       "       29.7, 29.8, 29.9, 30. , 30.1, 30.2, 30.3, 30.4, 30.5, 30.6, 30.7,\n",
       "       30.8, 30.9, 31. , 31.1, 31.2, 31.3, 31.4, 31.5, 31.6, 31.7, 31.8,\n",
       "       31.9, 32. , 32.1, 32.2, 32.3, 32.4, 32.5, 32.6, 32.7, 32.8, 32.9,\n",
       "       33. , 33.1, 33.2, 33.3, 33.4, 33.5, 33.6, 33.7, 33.8, 33.9, 34. ,\n",
       "       34.1, 34.2, 34.3, 34.4, 34.5, 34.6, 34.7, 34.8, 34.9, 35. , 35.1,\n",
       "       35.2, 35.3, 35.4, 35.5, 35.6, 35.7, 35.8, 35.9, 36. , 36.1, 36.2,\n",
       "       36.3, 36.4, 36.5, 36.6, 36.7, 36.8, 36.9, 37. , 37.1, 37.2, 37.3,\n",
       "       37.4, 37.5, 37.6, 37.7, 37.8, 37.9, 38. , 38.1, 38.2, 38.3, 38.4,\n",
       "       38.5, 38.6, 38.7, 38.8, 38.9, 39. , 39.1, 39.2, 39.3, 39.4, 39.5,\n",
       "       39.6, 39.7, 39.8, 39.9, 40. , 40.1, 40.2, 40.3, 40.4, 40.5, 40.6,\n",
       "       40.7, 40.8, 40.9, 41. , 41.1, 41.2, 41.3, 41.4, 41.5, 41.6, 41.7,\n",
       "       41.8, 41.9, 42. , 42.1, 42.2, 42.3, 42.4, 42.5, 42.6, 42.7, 42.8,\n",
       "       42.9, 43. , 43.1, 43.2, 43.3, 43.4, 43.5, 43.6, 43.7, 43.8, 43.9,\n",
       "       44. , 44.1, 44.2, 44.3, 44.4, 44.5, 44.6, 44.7, 44.8, 44.9, 45. ,\n",
       "       45.1, 45.2, 45.3, 45.4, 45.5, 45.6, 45.7, 45.8, 45.9, 46. , 46.1,\n",
       "       46.2, 46.3, 46.4, 46.5, 46.6, 46.7, 46.8, 46.9, 47. , 47.1, 47.2,\n",
       "       47.3, 47.4, 47.5, 47.6, 47.7, 47.8, 47.9, 48. , 48.1, 48.2, 48.3,\n",
       "       48.4, 48.5, 48.6, 48.7, 48.8, 48.9, 49. , 49.1, 49.2, 49.3, 49.4,\n",
       "       49.5, 49.6, 49.7, 49.8, 49.9, 50. ])"
      ]
     },
     "execution_count": 7,
     "metadata": {},
     "output_type": "execute_result"
    }
   ],
   "source": [
    "x"
   ]
  },
  {
   "cell_type": "code",
   "execution_count": 8,
   "metadata": {},
   "outputs": [
    {
     "data": {
      "text/plain": [
       "array([ 0.00000000e+00,  9.98334166e-02,  1.98669331e-01,  2.95520207e-01,\n",
       "        3.89418342e-01,  4.79425539e-01,  5.64642473e-01,  6.44217687e-01,\n",
       "        7.17356091e-01,  7.83326910e-01,  8.41470985e-01,  8.91207360e-01,\n",
       "        9.32039086e-01,  9.63558185e-01,  9.85449730e-01,  9.97494987e-01,\n",
       "        9.99573603e-01,  9.91664810e-01,  9.73847631e-01,  9.46300088e-01,\n",
       "        9.09297427e-01,  8.63209367e-01,  8.08496404e-01,  7.45705212e-01,\n",
       "        6.75463181e-01,  5.98472144e-01,  5.15501372e-01,  4.27379880e-01,\n",
       "        3.34988150e-01,  2.39249329e-01,  1.41120008e-01,  4.15806624e-02,\n",
       "       -5.83741434e-02, -1.57745694e-01, -2.55541102e-01, -3.50783228e-01,\n",
       "       -4.42520443e-01, -5.29836141e-01, -6.11857891e-01, -6.87766159e-01,\n",
       "       -7.56802495e-01, -8.18277111e-01, -8.71575772e-01, -9.16165937e-01,\n",
       "       -9.51602074e-01, -9.77530118e-01, -9.93691004e-01, -9.99923258e-01,\n",
       "       -9.96164609e-01, -9.82452613e-01, -9.58924275e-01, -9.25814682e-01,\n",
       "       -8.83454656e-01, -8.32267442e-01, -7.72764488e-01, -7.05540326e-01,\n",
       "       -6.31266638e-01, -5.50685543e-01, -4.64602179e-01, -3.73876665e-01,\n",
       "       -2.79415498e-01, -1.82162504e-01, -8.30894028e-02,  1.68139005e-02,\n",
       "        1.16549205e-01,  2.15119988e-01,  3.11541364e-01,  4.04849921e-01,\n",
       "        4.94113351e-01,  5.78439764e-01,  6.56986599e-01,  7.28969040e-01,\n",
       "        7.93667864e-01,  8.50436621e-01,  8.98708096e-01,  9.37999977e-01,\n",
       "        9.67919672e-01,  9.88168234e-01,  9.98543345e-01,  9.98941342e-01,\n",
       "        9.89358247e-01,  9.69889811e-01,  9.40730557e-01,  9.02171834e-01,\n",
       "        8.54598908e-01,  7.98487113e-01,  7.34397098e-01,  6.62969230e-01,\n",
       "        5.84917193e-01,  5.01020856e-01,  4.12118485e-01,  3.19098362e-01,\n",
       "        2.22889914e-01,  1.24454424e-01,  2.47754255e-02, -7.51511205e-02,\n",
       "       -1.74326781e-01, -2.71760626e-01, -3.66479129e-01, -4.57535894e-01,\n",
       "       -5.44021111e-01, -6.25070649e-01, -6.99874688e-01, -7.67685810e-01,\n",
       "       -8.27826469e-01, -8.79695760e-01, -9.22775422e-01, -9.56635016e-01,\n",
       "       -9.80936230e-01, -9.95436253e-01, -9.99990207e-01, -9.94552588e-01,\n",
       "       -9.79177729e-01, -9.54019250e-01, -9.19328526e-01, -8.75452175e-01,\n",
       "       -8.22828595e-01, -7.61983584e-01, -6.93525085e-01, -6.18137112e-01,\n",
       "       -5.36572918e-01, -4.49647465e-01, -3.58229282e-01, -2.63231791e-01,\n",
       "       -1.65604175e-01, -6.63218974e-02,  3.36230472e-02,  1.33232041e-01,\n",
       "        2.31509825e-01,  3.27474439e-01,  4.20167037e-01,  5.08661464e-01,\n",
       "        5.92073515e-01,  6.69569762e-01,  7.40375890e-01,  8.03784427e-01,\n",
       "        8.59161815e-01,  9.05954742e-01,  9.43695669e-01,  9.72007501e-01,\n",
       "        9.90607356e-01,  9.99309389e-01,  9.98026653e-01,  9.86771964e-01,\n",
       "        9.65657777e-01,  9.34895056e-01,  8.94791172e-01,  8.45746831e-01,\n",
       "        7.88252067e-01,  7.22881350e-01,  6.50287840e-01,  5.71196870e-01,\n",
       "        4.86398689e-01,  3.96740573e-01,  3.03118357e-01,  2.06467482e-01,\n",
       "        1.07753652e-01,  7.96318379e-03, -9.19068502e-02, -1.90858581e-01,\n",
       "       -2.87903317e-01, -3.82071417e-01, -4.72421986e-01, -5.58052271e-01,\n",
       "       -6.38106682e-01, -7.11785342e-01, -7.78352079e-01, -8.37141778e-01,\n",
       "       -8.87567034e-01, -9.29124013e-01, -9.61397492e-01, -9.84065005e-01,\n",
       "       -9.96900066e-01, -9.99774431e-01, -9.92659380e-01, -9.75626005e-01,\n",
       "       -9.48844498e-01, -9.12582450e-01, -8.67202179e-01, -8.13157112e-01,\n",
       "       -7.50987247e-01, -6.81313766e-01, -6.04832822e-01, -5.22308590e-01,\n",
       "       -4.34565622e-01, -3.42480618e-01, -2.46973662e-01, -1.48999026e-01,\n",
       "       -4.95356409e-02,  5.04226878e-02,  1.49877210e-01,  2.47834208e-01,\n",
       "        3.43314929e-01,  4.35365360e-01,  5.23065765e-01,  6.05539870e-01,\n",
       "        6.81963620e-01,  7.51573415e-01,  8.13673738e-01,  8.67644101e-01,\n",
       "        9.12945251e-01,  9.49124554e-01,  9.75820518e-01,  9.92766406e-01,\n",
       "        9.99792900e-01,  9.96829794e-01,  9.83906695e-01,  9.61152725e-01,\n",
       "        9.28795234e-01,  8.87157529e-01,  8.36655639e-01,  7.77794162e-01,\n",
       "        7.11161223e-01,  6.37422596e-01,  5.57315054e-01,  4.71639003e-01,\n",
       "        3.81250492e-01,  2.87052651e-01,  1.89986676e-01,  9.10224162e-02,\n",
       "       -8.85130929e-03, -1.08636595e-01, -2.07336421e-01, -3.03964609e-01,\n",
       "       -3.97555683e-01, -4.87174512e-01, -5.71925655e-01, -6.50962306e-01,\n",
       "       -7.23494756e-01, -7.88798286e-01, -8.46220404e-01, -8.95187368e-01,\n",
       "       -9.35209915e-01, -9.65888154e-01, -9.86915558e-01, -9.98082028e-01,\n",
       "       -9.99275992e-01, -9.90485521e-01, -9.71798446e-01, -9.43401482e-01,\n",
       "       -9.05578362e-01, -8.58707003e-01, -8.03255727e-01, -7.39778585e-01,\n",
       "       -6.68909820e-01, -5.91357530e-01, -5.07896590e-01, -4.19360916e-01,\n",
       "       -3.26635126e-01, -2.30645706e-01, -1.32351750e-01, -3.27353793e-02,\n",
       "        6.72080725e-02,  1.66480004e-01,  2.64088521e-01,  3.59058354e-01,\n",
       "        4.50440594e-01,  5.37322181e-01,  6.18835022e-01,  6.94164668e-01,\n",
       "        7.62558450e-01,  8.23333001e-01,  8.75881080e-01,  9.19677645e-01,\n",
       "        9.54285094e-01,  9.79357643e-01,  9.94644774e-01,  9.99993743e-01,\n",
       "        9.95351105e-01,  9.80763248e-01,  9.56375928e-01,  9.22432817e-01,\n",
       "        8.79273062e-01,  8.27327901e-01,  7.67116353e-01,  6.99240032e-01,\n",
       "        6.24377135e-01,  5.43275669e-01,  4.56745972e-01,  3.65652620e-01,\n",
       "        2.70905788e-01,  1.73452155e-01,  7.42654456e-02, -2.56632999e-02,\n",
       "       -1.25335626e-01, -2.23755640e-01, -3.19939962e-01, -4.12927549e-01,\n",
       "       -5.01789301e-01, -5.85637340e-01, -6.63633884e-01, -7.34999618e-01,\n",
       "       -7.99021479e-01, -8.55059781e-01, -9.02554608e-01, -9.41031408e-01,\n",
       "       -9.70105734e-01, -9.89487083e-01, -9.98981805e-01, -9.98495031e-01,\n",
       "       -9.88031624e-01, -9.67696132e-01, -9.37691740e-01, -8.98318243e-01,\n",
       "       -8.49969046e-01, -7.93127239e-01, -7.28360768e-01, -6.56316756e-01,\n",
       "       -5.77715044e-01, -4.93340995e-01, -4.04037645e-01, -3.10697285e-01,\n",
       "       -2.14252540e-01, -1.15667055e-01, -1.59258626e-02,  8.39744557e-02,\n",
       "        1.83035729e-01,  2.80268170e-01,  3.74700264e-01,  4.65388476e-01,\n",
       "        5.51426681e-01,  6.31955213e-01,  7.06169457e-01,  7.73327890e-01,\n",
       "        8.32759485e-01,  8.83870424e-01,  9.26150021e-01,  9.59175833e-01,\n",
       "        9.82617877e-01,  9.96241929e-01,  9.99911860e-01,  9.93591003e-01,\n",
       "        9.77342512e-01,  9.51328739e-01,  9.15809603e-01,  8.71140000e-01,\n",
       "        8.17766255e-01,  7.56221659e-01,  6.87121146e-01,  6.11155146e-01,\n",
       "        5.29082686e-01,  4.41723807e-01,  3.49951369e-01,  2.54682333e-01,\n",
       "        1.56868595e-01,  5.74874781e-02, -4.24680347e-02, -1.41999221e-01,\n",
       "       -2.40111598e-01, -3.35824859e-01, -4.28182669e-01, -5.16262220e-01,\n",
       "       -5.99183449e-01, -6.76117835e-01, -7.46296676e-01, -8.09018766e-01,\n",
       "       -8.63657409e-01, -9.09666672e-01, -9.46586846e-01, -9.74049038e-01,\n",
       "       -9.91778853e-01, -9.99599143e-01, -9.97431767e-01, -9.85298384e-01,\n",
       "       -9.63320224e-01, -9.31716888e-01, -8.90804144e-01, -8.40990780e-01,\n",
       "       -7.82774514e-01, -7.16737023e-01, -6.43538133e-01, -5.63909223e-01,\n",
       "       -4.78645919e-01, -3.88600142e-01, -2.94671602e-01, -1.97798800e-01,\n",
       "       -9.89496576e-02,  8.88156806e-04,  1.00717097e-01,  1.99539705e-01,\n",
       "        2.96368579e-01,  3.90236235e-01,  4.80204780e-01,  5.65375278e-01,\n",
       "        6.44896733e-01,  7.17974593e-01,  7.83878688e-01,  8.41950526e-01,\n",
       "        8.91609873e-01,  9.32360549e-01,  9.63795386e-01,  9.85600299e-01,\n",
       "        9.97557419e-01,  9.99547275e-01,  9.91549985e-01,  9.73645456e-01,\n",
       "        9.46012583e-01,  9.08927465e-01,  8.62760644e-01,  8.07973404e-01,\n",
       "        7.45113160e-01,  6.74807993e-01,  5.97760367e-01,  5.14740117e-01,\n",
       "        4.26576754e-01,  3.34151177e-01,  2.38386872e-01,  1.40240684e-01,\n",
       "        4.06932573e-02, -5.92607627e-02, -1.58622669e-01, -2.56399670e-01,\n",
       "       -3.51614810e-01, -4.43316731e-01, -5.30589178e-01, -6.12560153e-01,\n",
       "       -6.88410630e-01, -7.57382735e-01, -8.18787322e-01, -8.72010857e-01,\n",
       "       -9.16521548e-01, -9.51874658e-01, -9.77716952e-01, -9.93790221e-01,\n",
       "       -9.99933866e-01, -9.96086503e-01, -9.82286573e-01, -9.58671960e-01,\n",
       "       -9.25478614e-01, -8.83038191e-01, -8.31774743e-01, -7.72200476e-01,\n",
       "       -7.04910637e-01, -6.30577565e-01, -5.49943970e-01, -4.63815516e-01,\n",
       "       -3.73052771e-01, -2.78562606e-01, -1.81289136e-01, -8.22042844e-02,\n",
       "        1.77019251e-02,  1.17431263e-01,  2.15987266e-01,  3.12385196e-01,\n",
       "        4.05661877e-01,  4.94885318e-01,  5.79164028e-01,  6.57655923e-01,\n",
       "        7.29576737e-01,  7.94207862e-01,  8.50903525e-01,  8.99097240e-01,\n",
       "        9.38307473e-01,  9.68142448e-01,  9.88304064e-01,  9.98590872e-01,\n",
       "        9.98900091e-01,  9.89228630e-01,  9.69673123e-01,  9.40428963e-01,\n",
       "        9.01788348e-01,  8.54137361e-01,  7.97952117e-01,  7.33793998e-01,\n",
       "        6.62304053e-01,  5.84196584e-01,  5.00252017e-01,  4.11309096e-01,\n",
       "        3.18256511e-01,  2.22024012e-01,  1.23573123e-01,  2.38875315e-02,\n",
       "       -7.60367361e-02, -1.75201270e-01, -2.72615250e-01, -3.67305349e-01,\n",
       "       -4.58325454e-01, -5.44766123e-01, -6.25763669e-01, -7.00508791e-01,\n",
       "       -7.68254661e-01, -8.28324385e-01, -8.80117764e-01, -9.23117298e-01,\n",
       "       -9.56893350e-01, -9.81108439e-01, -9.95520616e-01, -9.99985881e-01,\n",
       "       -9.94459618e-01, -9.78997043e-01, -9.53752653e-01, -9.18978681e-01,\n",
       "       -8.75022579e-01, -8.22323540e-01, -7.61408116e-01, -6.92884954e-01,\n",
       "       -6.17438715e-01, -5.35823232e-01, -4.48853980e-01, -3.57399928e-01,\n",
       "       -2.62374854e-01])"
      ]
     },
     "execution_count": 8,
     "metadata": {},
     "output_type": "execute_result"
    }
   ],
   "source": [
    "y"
   ]
  },
  {
   "cell_type": "code",
   "execution_count": 9,
   "metadata": {},
   "outputs": [
    {
     "data": {
      "text/plain": [
       "[<matplotlib.lines.Line2D at 0x7f2488055710>]"
      ]
     },
     "execution_count": 9,
     "metadata": {},
     "output_type": "execute_result"
    },
    {
     "data": {
      "image/png": "[encoded data removed]",
      "text/plain": [
       "<Figure size 432x288 with 1 Axes>"
      ]
     },
     "metadata": {
      "needs_background": "light"
     },
     "output_type": "display_data"
    }
   ],
   "source": [
    "plt.plot(x,y)"
   ]
  },
  {
   "cell_type": "markdown",
   "metadata": {},
   "source": [
    "Let's turn this into a DataFrame"
   ]
  },
  {
   "cell_type": "code",
   "execution_count": 10,
   "metadata": {},
   "outputs": [],
   "source": [
    "df = pd.DataFrame(data=y,index=x,columns=['Sine'])"
   ]
  },
  {
   "cell_type": "code",
   "execution_count": 11,
   "metadata": {},
   "outputs": [
    {
     "data": {
      "text/html": [
       "<div>\n",
       "<style scoped>\n",
       "    .dataframe tbody tr th:only-of-type {\n",
       "        vertical-align: middle;\n",
       "    }\n",
       "\n",
       "    .dataframe tbody tr th {\n",
       "        vertical-align: top;\n",
       "    }\n",
       "\n",
       "    .dataframe thead th {\n",
       "        text-align: right;\n",
       "    }\n",
       "</style>\n",
       "<table border=\"1\" class=\"dataframe\">\n",
       "  <thead>\n",
       "    <tr style=\"text-align: right;\">\n",
       "      <th></th>\n",
       "      <th>Sine</th>\n",
       "    </tr>\n",
       "  </thead>\n",
       "  <tbody>\n",
       "    <tr>\n",
       "      <th>0.0</th>\n",
       "      <td>0.000000</td>\n",
       "    </tr>\n",
       "    <tr>\n",
       "      <th>0.1</th>\n",
       "      <td>0.099833</td>\n",
       "    </tr>\n",
       "    <tr>\n",
       "      <th>0.2</th>\n",
       "      <td>0.198669</td>\n",
       "    </tr>\n",
       "    <tr>\n",
       "      <th>0.3</th>\n",
       "      <td>0.295520</td>\n",
       "    </tr>\n",
       "    <tr>\n",
       "      <th>0.4</th>\n",
       "      <td>0.389418</td>\n",
       "    </tr>\n",
       "    <tr>\n",
       "      <th>...</th>\n",
       "      <td>...</td>\n",
       "    </tr>\n",
       "    <tr>\n",
       "      <th>49.6</th>\n",
       "      <td>-0.617439</td>\n",
       "    </tr>\n",
       "    <tr>\n",
       "      <th>49.7</th>\n",
       "      <td>-0.535823</td>\n",
       "    </tr>\n",
       "    <tr>\n",
       "      <th>49.8</th>\n",
       "      <td>-0.448854</td>\n",
       "    </tr>\n",
       "    <tr>\n",
       "      <th>49.9</th>\n",
       "      <td>-0.357400</td>\n",
       "    </tr>\n",
       "    <tr>\n",
       "      <th>50.0</th>\n",
       "      <td>-0.262375</td>\n",
       "    </tr>\n",
       "  </tbody>\n",
       "</table>\n",
       "<p>501 rows × 1 columns</p>\n",
       "</div>"
      ],
      "text/plain": [
       "          Sine\n",
       "0.0   0.000000\n",
       "0.1   0.099833\n",
       "0.2   0.198669\n",
       "0.3   0.295520\n",
       "0.4   0.389418\n",
       "...        ...\n",
       "49.6 -0.617439\n",
       "49.7 -0.535823\n",
       "49.8 -0.448854\n",
       "49.9 -0.357400\n",
       "50.0 -0.262375\n",
       "\n",
       "[501 rows x 1 columns]"
      ]
     },
     "execution_count": 11,
     "metadata": {},
     "output_type": "execute_result"
    }
   ],
   "source": [
    "df"
   ]
  },
  {
   "cell_type": "markdown",
   "metadata": {},
   "source": [
    "## Train Test Split\n",
    "\n",
    "Note! This is very different from our usual test/train split methodology!"
   ]
  },
  {
   "cell_type": "code",
   "execution_count": 12,
   "metadata": {},
   "outputs": [
    {
     "data": {
      "text/plain": [
       "501"
      ]
     },
     "execution_count": 12,
     "metadata": {},
     "output_type": "execute_result"
    }
   ],
   "source": [
    "len(df)"
   ]
  },
  {
   "cell_type": "code",
   "execution_count": 13,
   "metadata": {},
   "outputs": [],
   "source": [
    "test_percent = 0.1"
   ]
  },
  {
   "cell_type": "code",
   "execution_count": 14,
   "metadata": {},
   "outputs": [
    {
     "data": {
      "text/plain": [
       "50.1"
      ]
     },
     "execution_count": 14,
     "metadata": {},
     "output_type": "execute_result"
    }
   ],
   "source": [
    "len(df)*test_percent"
   ]
  },
  {
   "cell_type": "code",
   "execution_count": 15,
   "metadata": {},
   "outputs": [
    {
     "data": {
      "text/plain": [
       "50.0"
      ]
     },
     "execution_count": 15,
     "metadata": {},
     "output_type": "execute_result"
    }
   ],
   "source": [
    "test_point = np.round(len(df)*test_percent)\n",
    "test_point"
   ]
  },
  {
   "cell_type": "code",
   "execution_count": 16,
   "metadata": {},
   "outputs": [],
   "source": [
    "test_ind = int(len(df) - test_point)"
   ]
  },
  {
   "cell_type": "code",
   "execution_count": 17,
   "metadata": {},
   "outputs": [
    {
     "data": {
      "text/plain": [
       "451"
      ]
     },
     "execution_count": 17,
     "metadata": {},
     "output_type": "execute_result"
    }
   ],
   "source": [
    "test_ind"
   ]
  },
  {
   "cell_type": "code",
   "execution_count": 18,
   "metadata": {},
   "outputs": [],
   "source": [
    "train = df.iloc[:test_ind] #[:451]\n",
    "test = df.iloc[test_ind:] #[451:]"
   ]
  },
  {
   "cell_type": "code",
   "execution_count": 19,
   "metadata": {},
   "outputs": [
    {
     "name": "stdout",
     "output_type": "stream",
     "text": [
      "451\n"
     ]
    },
    {
     "data": {
      "text/html": [
       "<div>\n",
       "<style scoped>\n",
       "    .dataframe tbody tr th:only-of-type {\n",
       "        vertical-align: middle;\n",
       "    }\n",
       "\n",
       "    .dataframe tbody tr th {\n",
       "        vertical-align: top;\n",
       "    }\n",
       "\n",
       "    .dataframe thead th {\n",
       "        text-align: right;\n",
       "    }\n",
       "</style>\n",
       "<table border=\"1\" class=\"dataframe\">\n",
       "  <thead>\n",
       "    <tr style=\"text-align: right;\">\n",
       "      <th></th>\n",
       "      <th>Sine</th>\n",
       "    </tr>\n",
       "  </thead>\n",
       "  <tbody>\n",
       "    <tr>\n",
       "      <th>0.0</th>\n",
       "      <td>0.000000</td>\n",
       "    </tr>\n",
       "    <tr>\n",
       "      <th>0.1</th>\n",
       "      <td>0.099833</td>\n",
       "    </tr>\n",
       "    <tr>\n",
       "      <th>0.2</th>\n",
       "      <td>0.198669</td>\n",
       "    </tr>\n",
       "    <tr>\n",
       "      <th>0.3</th>\n",
       "      <td>0.295520</td>\n",
       "    </tr>\n",
       "    <tr>\n",
       "      <th>0.4</th>\n",
       "      <td>0.389418</td>\n",
       "    </tr>\n",
       "    <tr>\n",
       "      <th>...</th>\n",
       "      <td>...</td>\n",
       "    </tr>\n",
       "    <tr>\n",
       "      <th>44.6</th>\n",
       "      <td>0.579164</td>\n",
       "    </tr>\n",
       "    <tr>\n",
       "      <th>44.7</th>\n",
       "      <td>0.657656</td>\n",
       "    </tr>\n",
       "    <tr>\n",
       "      <th>44.8</th>\n",
       "      <td>0.729577</td>\n",
       "    </tr>\n",
       "    <tr>\n",
       "      <th>44.9</th>\n",
       "      <td>0.794208</td>\n",
       "    </tr>\n",
       "    <tr>\n",
       "      <th>45.0</th>\n",
       "      <td>0.850904</td>\n",
       "    </tr>\n",
       "  </tbody>\n",
       "</table>\n",
       "<p>451 rows × 1 columns</p>\n",
       "</div>"
      ],
      "text/plain": [
       "          Sine\n",
       "0.0   0.000000\n",
       "0.1   0.099833\n",
       "0.2   0.198669\n",
       "0.3   0.295520\n",
       "0.4   0.389418\n",
       "...        ...\n",
       "44.6  0.579164\n",
       "44.7  0.657656\n",
       "44.8  0.729577\n",
       "44.9  0.794208\n",
       "45.0  0.850904\n",
       "\n",
       "[451 rows x 1 columns]"
      ]
     },
     "execution_count": 19,
     "metadata": {},
     "output_type": "execute_result"
    }
   ],
   "source": [
    "print(len(train))\n",
    "train"
   ]
  },
  {
   "cell_type": "code",
   "execution_count": 20,
   "metadata": {},
   "outputs": [
    {
     "name": "stdout",
     "output_type": "stream",
     "text": [
      "50\n"
     ]
    },
    {
     "data": {
      "text/html": [
       "<div>\n",
       "<style scoped>\n",
       "    .dataframe tbody tr th:only-of-type {\n",
       "        vertical-align: middle;\n",
       "    }\n",
       "\n",
       "    .dataframe tbody tr th {\n",
       "        vertical-align: top;\n",
       "    }\n",
       "\n",
       "    .dataframe thead th {\n",
       "        text-align: right;\n",
       "    }\n",
       "</style>\n",
       "<table border=\"1\" class=\"dataframe\">\n",
       "  <thead>\n",
       "    <tr style=\"text-align: right;\">\n",
       "      <th></th>\n",
       "      <th>Sine</th>\n",
       "    </tr>\n",
       "  </thead>\n",
       "  <tbody>\n",
       "    <tr>\n",
       "      <th>45.1</th>\n",
       "      <td>0.899097</td>\n",
       "    </tr>\n",
       "    <tr>\n",
       "      <th>45.2</th>\n",
       "      <td>0.938307</td>\n",
       "    </tr>\n",
       "    <tr>\n",
       "      <th>45.3</th>\n",
       "      <td>0.968142</td>\n",
       "    </tr>\n",
       "    <tr>\n",
       "      <th>45.4</th>\n",
       "      <td>0.988304</td>\n",
       "    </tr>\n",
       "    <tr>\n",
       "      <th>45.5</th>\n",
       "      <td>0.998591</td>\n",
       "    </tr>\n",
       "    <tr>\n",
       "      <th>45.6</th>\n",
       "      <td>0.998900</td>\n",
       "    </tr>\n",
       "    <tr>\n",
       "      <th>45.7</th>\n",
       "      <td>0.989229</td>\n",
       "    </tr>\n",
       "    <tr>\n",
       "      <th>45.8</th>\n",
       "      <td>0.969673</td>\n",
       "    </tr>\n",
       "    <tr>\n",
       "      <th>45.9</th>\n",
       "      <td>0.940429</td>\n",
       "    </tr>\n",
       "    <tr>\n",
       "      <th>46.0</th>\n",
       "      <td>0.901788</td>\n",
       "    </tr>\n",
       "    <tr>\n",
       "      <th>46.1</th>\n",
       "      <td>0.854137</td>\n",
       "    </tr>\n",
       "    <tr>\n",
       "      <th>46.2</th>\n",
       "      <td>0.797952</td>\n",
       "    </tr>\n",
       "    <tr>\n",
       "      <th>46.3</th>\n",
       "      <td>0.733794</td>\n",
       "    </tr>\n",
       "    <tr>\n",
       "      <th>46.4</th>\n",
       "      <td>0.662304</td>\n",
       "    </tr>\n",
       "    <tr>\n",
       "      <th>46.5</th>\n",
       "      <td>0.584197</td>\n",
       "    </tr>\n",
       "    <tr>\n",
       "      <th>46.6</th>\n",
       "      <td>0.500252</td>\n",
       "    </tr>\n",
       "    <tr>\n",
       "      <th>46.7</th>\n",
       "      <td>0.411309</td>\n",
       "    </tr>\n",
       "    <tr>\n",
       "      <th>46.8</th>\n",
       "      <td>0.318257</td>\n",
       "    </tr>\n",
       "    <tr>\n",
       "      <th>46.9</th>\n",
       "      <td>0.222024</td>\n",
       "    </tr>\n",
       "    <tr>\n",
       "      <th>47.0</th>\n",
       "      <td>0.123573</td>\n",
       "    </tr>\n",
       "    <tr>\n",
       "      <th>47.1</th>\n",
       "      <td>0.023888</td>\n",
       "    </tr>\n",
       "    <tr>\n",
       "      <th>47.2</th>\n",
       "      <td>-0.076037</td>\n",
       "    </tr>\n",
       "    <tr>\n",
       "      <th>47.3</th>\n",
       "      <td>-0.175201</td>\n",
       "    </tr>\n",
       "    <tr>\n",
       "      <th>47.4</th>\n",
       "      <td>-0.272615</td>\n",
       "    </tr>\n",
       "    <tr>\n",
       "      <th>47.5</th>\n",
       "      <td>-0.367305</td>\n",
       "    </tr>\n",
       "    <tr>\n",
       "      <th>47.6</th>\n",
       "      <td>-0.458325</td>\n",
       "    </tr>\n",
       "    <tr>\n",
       "      <th>47.7</th>\n",
       "      <td>-0.544766</td>\n",
       "    </tr>\n",
       "    <tr>\n",
       "      <th>47.8</th>\n",
       "      <td>-0.625764</td>\n",
       "    </tr>\n",
       "    <tr>\n",
       "      <th>47.9</th>\n",
       "      <td>-0.700509</td>\n",
       "    </tr>\n",
       "    <tr>\n",
       "      <th>48.0</th>\n",
       "      <td>-0.768255</td>\n",
       "    </tr>\n",
       "    <tr>\n",
       "      <th>48.1</th>\n",
       "      <td>-0.828324</td>\n",
       "    </tr>\n",
       "    <tr>\n",
       "      <th>48.2</th>\n",
       "      <td>-0.880118</td>\n",
       "    </tr>\n",
       "    <tr>\n",
       "      <th>48.3</th>\n",
       "      <td>-0.923117</td>\n",
       "    </tr>\n",
       "    <tr>\n",
       "      <th>48.4</th>\n",
       "      <td>-0.956893</td>\n",
       "    </tr>\n",
       "    <tr>\n",
       "      <th>48.5</th>\n",
       "      <td>-0.981108</td>\n",
       "    </tr>\n",
       "    <tr>\n",
       "      <th>48.6</th>\n",
       "      <td>-0.995521</td>\n",
       "    </tr>\n",
       "    <tr>\n",
       "      <th>48.7</th>\n",
       "      <td>-0.999986</td>\n",
       "    </tr>\n",
       "    <tr>\n",
       "      <th>48.8</th>\n",
       "      <td>-0.994460</td>\n",
       "    </tr>\n",
       "    <tr>\n",
       "      <th>48.9</th>\n",
       "      <td>-0.978997</td>\n",
       "    </tr>\n",
       "    <tr>\n",
       "      <th>49.0</th>\n",
       "      <td>-0.953753</td>\n",
       "    </tr>\n",
       "    <tr>\n",
       "      <th>49.1</th>\n",
       "      <td>-0.918979</td>\n",
       "    </tr>\n",
       "    <tr>\n",
       "      <th>49.2</th>\n",
       "      <td>-0.875023</td>\n",
       "    </tr>\n",
       "    <tr>\n",
       "      <th>49.3</th>\n",
       "      <td>-0.822324</td>\n",
       "    </tr>\n",
       "    <tr>\n",
       "      <th>49.4</th>\n",
       "      <td>-0.761408</td>\n",
       "    </tr>\n",
       "    <tr>\n",
       "      <th>49.5</th>\n",
       "      <td>-0.692885</td>\n",
       "    </tr>\n",
       "    <tr>\n",
       "      <th>49.6</th>\n",
       "      <td>-0.617439</td>\n",
       "    </tr>\n",
       "    <tr>\n",
       "      <th>49.7</th>\n",
       "      <td>-0.535823</td>\n",
       "    </tr>\n",
       "    <tr>\n",
       "      <th>49.8</th>\n",
       "      <td>-0.448854</td>\n",
       "    </tr>\n",
       "    <tr>\n",
       "      <th>49.9</th>\n",
       "      <td>-0.357400</td>\n",
       "    </tr>\n",
       "    <tr>\n",
       "      <th>50.0</th>\n",
       "      <td>-0.262375</td>\n",
       "    </tr>\n",
       "  </tbody>\n",
       "</table>\n",
       "</div>"
      ],
      "text/plain": [
       "          Sine\n",
       "45.1  0.899097\n",
       "45.2  0.938307\n",
       "45.3  0.968142\n",
       "45.4  0.988304\n",
       "45.5  0.998591\n",
       "45.6  0.998900\n",
       "45.7  0.989229\n",
       "45.8  0.969673\n",
       "45.9  0.940429\n",
       "46.0  0.901788\n",
       "46.1  0.854137\n",
       "46.2  0.797952\n",
       "46.3  0.733794\n",
       "46.4  0.662304\n",
       "46.5  0.584197\n",
       "46.6  0.500252\n",
       "46.7  0.411309\n",
       "46.8  0.318257\n",
       "46.9  0.222024\n",
       "47.0  0.123573\n",
       "47.1  0.023888\n",
       "47.2 -0.076037\n",
       "47.3 -0.175201\n",
       "47.4 -0.272615\n",
       "47.5 -0.367305\n",
       "47.6 -0.458325\n",
       "47.7 -0.544766\n",
       "47.8 -0.625764\n",
       "47.9 -0.700509\n",
       "48.0 -0.768255\n",
       "48.1 -0.828324\n",
       "48.2 -0.880118\n",
       "48.3 -0.923117\n",
       "48.4 -0.956893\n",
       "48.5 -0.981108\n",
       "48.6 -0.995521\n",
       "48.7 -0.999986\n",
       "48.8 -0.994460\n",
       "48.9 -0.978997\n",
       "49.0 -0.953753\n",
       "49.1 -0.918979\n",
       "49.2 -0.875023\n",
       "49.3 -0.822324\n",
       "49.4 -0.761408\n",
       "49.5 -0.692885\n",
       "49.6 -0.617439\n",
       "49.7 -0.535823\n",
       "49.8 -0.448854\n",
       "49.9 -0.357400\n",
       "50.0 -0.262375"
      ]
     },
     "execution_count": 20,
     "metadata": {},
     "output_type": "execute_result"
    }
   ],
   "source": [
    "print(len(test))\n",
    "test"
   ]
  },
  {
   "cell_type": "markdown",
   "metadata": {},
   "source": [
    "## Scale Data"
   ]
  },
  {
   "cell_type": "code",
   "execution_count": 21,
   "metadata": {},
   "outputs": [],
   "source": [
    "from sklearn.preprocessing import MinMaxScaler"
   ]
  },
  {
   "cell_type": "code",
   "execution_count": 22,
   "metadata": {},
   "outputs": [],
   "source": [
    "scaler = MinMaxScaler()"
   ]
  },
  {
   "cell_type": "code",
   "execution_count": 23,
   "metadata": {},
   "outputs": [
    {
     "data": {
      "text/plain": [
       "MinMaxScaler(copy=True, feature_range=(0, 1))"
      ]
     },
     "execution_count": 23,
     "metadata": {},
     "output_type": "execute_result"
    }
   ],
   "source": [
    "# IGNORE WARNING ITS JUST CONVERTING TO FLOATS\n",
    "# WE ONLY FIT TO TRAININ DATA, OTHERWISE WE ARE CHEATING ASSUMING INFO ABOUT TEST SET\n",
    "scaler.fit(train)"
   ]
  },
  {
   "cell_type": "code",
   "execution_count": 24,
   "metadata": {},
   "outputs": [],
   "source": [
    "scaled_train = scaler.transform(train)  # predict(scaled_train) -> scaled_test[0]\n",
    "scaled_test = scaler.transform(test)"
   ]
  },
  {
   "cell_type": "markdown",
   "metadata": {},
   "source": [
    "# Time Series Generator\n",
    "\n",
    "This class takes in a sequence of data-points gathered at\n",
    "equal intervals, along with time series parameters such as\n",
    "stride, length of history, etc., to produce batches for\n",
    "training/validation.\n",
    "\n",
    "#### Arguments\n",
    "    data: Indexable generator (such as list or Numpy array)\n",
    "        containing consecutive data points (timesteps).\n",
    "        The data should be at 2D, and axis 0 is expected\n",
    "        to be the time dimension.\n",
    "    targets: Targets corresponding to timesteps in `data`.\n",
    "        It should have same length as `data`.\n",
    "    length: Length of the output sequences (in number of timesteps).\n",
    "    sampling_rate: Period between successive individual timesteps\n",
    "        within sequences. For rate `r`, timesteps\n",
    "        `data[i]`, `data[i-r]`, ... `data[i - length]`\n",
    "        are used for create a sample sequence.\n",
    "    stride: Period between successive output sequences.\n",
    "        For stride `s`, consecutive output samples would\n",
    "        be centered around `data[i]`, `data[i+s]`, `data[i+2*s]`, etc.\n",
    "    start_index: Data points earlier than `start_index` will not be used\n",
    "        in the output sequences. This is useful to reserve part of the\n",
    "        data for test or validation.\n",
    "    end_index: Data points later than `end_index` will not be used\n",
    "        in the output sequences. This is useful to reserve part of the\n",
    "        data for test or validation.\n",
    "    shuffle: Whether to shuffle output samples,\n",
    "        or instead draw them in chronological order.\n",
    "    reverse: Boolean: if `true`, timesteps in each output sample will be\n",
    "        in reverse chronological order.\n",
    "    batch_size: Number of timeseries samples in each batch\n",
    "        (except maybe the last one)."
   ]
  },
  {
   "cell_type": "code",
   "execution_count": 25,
   "metadata": {},
   "outputs": [],
   "source": [
    "from tensorflow.keras.preprocessing.sequence import TimeseriesGenerator"
   ]
  },
  {
   "cell_type": "code",
   "execution_count": 26,
   "metadata": {},
   "outputs": [],
   "source": [
    "# scaled_train"
   ]
  },
  {
   "cell_type": "code",
   "execution_count": 27,
   "metadata": {},
   "outputs": [],
   "source": [
    "# define generator\n",
    "length = 2 # Length of the output sequences (in number of timesteps)\n",
    "batch_size = 1 #Number of timeseries samples in each batch\n",
    "generator = TimeseriesGenerator(scaled_train, scaled_train, length=length, batch_size=batch_size)"
   ]
  },
  {
   "cell_type": "code",
   "execution_count": 28,
   "metadata": {},
   "outputs": [
    {
     "data": {
      "text/plain": [
       "451"
      ]
     },
     "execution_count": 28,
     "metadata": {},
     "output_type": "execute_result"
    }
   ],
   "source": [
    "len(scaled_train)"
   ]
  },
  {
   "cell_type": "code",
   "execution_count": 29,
   "metadata": {},
   "outputs": [
    {
     "data": {
      "text/plain": [
       "449"
      ]
     },
     "execution_count": 29,
     "metadata": {},
     "output_type": "execute_result"
    }
   ],
   "source": [
    "len(generator) # n_input = 2"
   ]
  },
  {
   "cell_type": "code",
   "execution_count": 30,
   "metadata": {},
   "outputs": [],
   "source": [
    "# scaled_train"
   ]
  },
  {
   "cell_type": "code",
   "execution_count": 31,
   "metadata": {},
   "outputs": [],
   "source": [
    "# What does the first batch look like?\n",
    "X,y = generator[0]"
   ]
  },
  {
   "cell_type": "code",
   "execution_count": 32,
   "metadata": {},
   "outputs": [
    {
     "name": "stdout",
     "output_type": "stream",
     "text": [
      "(1, 2, 1)\n"
     ]
    },
    {
     "data": {
      "text/plain": [
       "array([[[0.49999912],\n",
       "        [0.54991622]]])"
      ]
     },
     "execution_count": 32,
     "metadata": {},
     "output_type": "execute_result"
    }
   ],
   "source": [
    "print(X.shape)\n",
    "X"
   ]
  },
  {
   "cell_type": "code",
   "execution_count": 33,
   "metadata": {},
   "outputs": [
    {
     "name": "stdout",
     "output_type": "stream",
     "text": [
      "(2,)\n"
     ]
    }
   ],
   "source": [
    "print(X.flatten().shape)"
   ]
  },
  {
   "cell_type": "code",
   "execution_count": 34,
   "metadata": {},
   "outputs": [
    {
     "name": "stdout",
     "output_type": "stream",
     "text": [
      "Given the Array: \n",
      "[0.49999912 0.54991622]\n",
      "Predict this y: \n",
      " [[0.59933458]]\n"
     ]
    }
   ],
   "source": [
    "print(f'Given the Array: \\n{X.flatten()}')\n",
    "print(f'Predict this y: \\n {y}')"
   ]
  },
  {
   "cell_type": "code",
   "execution_count": 35,
   "metadata": {},
   "outputs": [],
   "source": [
    "# Let's redefine to get 10 steps back and then predict the next step out\n",
    "length = 10 # Length of the output sequences (in number of timesteps)\n",
    "generator = TimeseriesGenerator(scaled_train, scaled_train, length=length, batch_size=1) # 10,1)"
   ]
  },
  {
   "cell_type": "code",
   "execution_count": 36,
   "metadata": {},
   "outputs": [],
   "source": [
    "# What does the first batch look like?\n",
    "X,y = generator[0]"
   ]
  },
  {
   "cell_type": "code",
   "execution_count": 37,
   "metadata": {},
   "outputs": [
    {
     "name": "stdout",
     "output_type": "stream",
     "text": [
      "Given the Array: \n",
      "[0.49999912 0.54991622 0.59933458 0.64776041 0.69470985 0.73971381\n",
      " 0.78232262 0.82211054 0.85868004 0.89166571]\n",
      "Predict this y: \n",
      " [[0.92073798]]\n"
     ]
    }
   ],
   "source": [
    "print(f'Given the Array: \\n{X.flatten()}')\n",
    "print(f'Predict this y: \\n {y}')"
   ]
  },
  {
   "cell_type": "code",
   "execution_count": 38,
   "metadata": {},
   "outputs": [],
   "source": [
    "length = 50 # Length of the output sequences (in number of timesteps)\n",
    "generator = TimeseriesGenerator(scaled_train, scaled_train, length=length, batch_size=1)"
   ]
  },
  {
   "cell_type": "markdown",
   "metadata": {},
   "source": [
    "Now you will be able to edit the length so that it makes sense for your time series!"
   ]
  },
  {
   "cell_type": "markdown",
   "metadata": {},
   "source": [
    "### Create the Model"
   ]
  },
  {
   "cell_type": "code",
   "execution_count": 39,
   "metadata": {},
   "outputs": [],
   "source": [
    "from tensorflow.keras.models import Sequential\n",
    "from tensorflow.keras.layers import Dense,LSTM,SimpleRNN"
   ]
  },
  {
   "cell_type": "code",
   "execution_count": 40,
   "metadata": {},
   "outputs": [],
   "source": [
    "# We're only using one feature in our time series\n",
    "n_features = 1"
   ]
  },
  {
   "cell_type": "code",
   "execution_count": 41,
   "metadata": {},
   "outputs": [],
   "source": [
    "# # define model\n",
    "# model = Sequential()\n",
    "\n",
    "# # Simple RNN layer\n",
    "# model.add(SimpleRNN(50,input_shape=(length, n_features)))\n",
    "\n",
    "# # Final Prediction\n",
    "# model.add(Dense(1))\n",
    "\n",
    "# model.compile(optimizer='adam', loss='mse')"
   ]
  },
  {
   "cell_type": "code",
   "execution_count": 42,
   "metadata": {},
   "outputs": [],
   "source": [
    "with tf.device('/GPU:1'):\n",
    "    # define model\n",
    "    model = Sequential()\n",
    "\n",
    "    # Simple RNN layer\n",
    "    model.add(SimpleRNN(50,input_shape=(length, n_features))) #output neurons 50, input(50,1)\n",
    "\n",
    "    # Final Prediction\n",
    "    model.add(Dense(1))\n",
    "\n",
    "    model.compile(optimizer='adam', loss='mse')"
   ]
  },
  {
   "cell_type": "code",
   "execution_count": 43,
   "metadata": {},
   "outputs": [
    {
     "name": "stdout",
     "output_type": "stream",
     "text": [
      "Model: \"sequential\"\n",
      "_________________________________________________________________\n",
      "Layer (type)                 Output Shape              Param #   \n",
      "=================================================================\n",
      "simple_rnn (SimpleRNN)       (None, 50)                2600      \n",
      "_________________________________________________________________\n",
      "dense (Dense)                (None, 1)                 51        \n",
      "=================================================================\n",
      "Total params: 2,651\n",
      "Trainable params: 2,651\n",
      "Non-trainable params: 0\n",
      "_________________________________________________________________\n"
     ]
    }
   ],
   "source": [
    "model.summary()"
   ]
  },
  {
   "cell_type": "markdown",
   "metadata": {},
   "source": [
    "#### Kernel Restarting The kernel appears to have died. It will restart automatically (Jupyter-Tensorflow) : Error when using multiple jupyters- train models ->``tf.config.experimental.set_memory_growth(gpu, True)`` It works !!\n",
    "\n",
    "* To turn on memory growth for a specific GPU, use the following code prior to allocating any tensors or executing any ops. ``tf.config.experimental.set_memory_growth(gpu, True)`` -> It works !!"
   ]
  },
  {
   "cell_type": "code",
   "execution_count": 44,
   "metadata": {},
   "outputs": [
    {
     "name": "stdout",
     "output_type": "stream",
     "text": [
      "Epoch 1/5\n",
      "401/401 [==============================] - 34s 85ms/step - loss: 0.0022\n",
      "Epoch 2/5\n",
      "401/401 [==============================] - 33s 83ms/step - loss: 8.9132e-05\n",
      "Epoch 3/5\n",
      "401/401 [==============================] - 33s 83ms/step - loss: 1.0565e-04\n",
      "Epoch 4/5\n",
      "401/401 [==============================] - 33s 82ms/step - loss: 2.7387e-04\n",
      "Epoch 5/5\n",
      "401/401 [==============================] - 34s 84ms/step - loss: 8.0309e-05\n"
     ]
    },
    {
     "data": {
      "text/plain": [
       "<tensorflow.python.keras.callbacks.History at 0x7f23cc366d50>"
      ]
     },
     "execution_count": 44,
     "metadata": {},
     "output_type": "execute_result"
    }
   ],
   "source": [
    "# fit model\n",
    "model.fit_generator(generator,epochs=5)"
   ]
  },
  {
   "cell_type": "code",
   "execution_count": 45,
   "metadata": {},
   "outputs": [
    {
     "data": {
      "text/plain": [
       "dict_keys(['loss'])"
      ]
     },
     "execution_count": 45,
     "metadata": {},
     "output_type": "execute_result"
    }
   ],
   "source": [
    "model.history.history.keys()"
   ]
  },
  {
   "cell_type": "code",
   "execution_count": 46,
   "metadata": {},
   "outputs": [
    {
     "data": {
      "text/plain": [
       "<matplotlib.axes._subplots.AxesSubplot at 0x7f23cc24dc90>"
      ]
     },
     "execution_count": 46,
     "metadata": {},
     "output_type": "execute_result"
    },
    {
     "data": {
      "image/png": "[encoded data removed]",
      "text/plain": [
       "<Figure size 432x288 with 1 Axes>"
      ]
     },
     "metadata": {
      "needs_background": "light"
     },
     "output_type": "display_data"
    }
   ],
   "source": [
    "#Doon't excute this line : original output\n",
    "losses = pd.DataFrame(model.history.history)\n",
    "losses.plot()"
   ]
  },
  {
   "cell_type": "code",
   "execution_count": 47,
   "metadata": {},
   "outputs": [
    {
     "data": {
      "text/plain": [
       "<matplotlib.axes._subplots.AxesSubplot at 0x7f23cc169350>"
      ]
     },
     "execution_count": 47,
     "metadata": {},
     "output_type": "execute_result"
    },
    {
     "data": {
      "image/png": "[encoded data removed]",
      "text/plain": [
       "<Figure size 432x288 with 1 Axes>"
      ]
     },
     "metadata": {
      "needs_background": "light"
     },
     "output_type": "display_data"
    }
   ],
   "source": [
    "losses = pd.DataFrame(model.history.history)\n",
    "losses.plot()"
   ]
  },
  {
   "cell_type": "markdown",
   "metadata": {},
   "source": [
    "## Evaluate on Test Data : last 50 elements of scaled_train (50,1) -> (1, 50, 1)"
   ]
  },
  {
   "cell_type": "code",
   "execution_count": 48,
   "metadata": {},
   "outputs": [
    {
     "name": "stdout",
     "output_type": "stream",
     "text": [
      "(451, 1)\n"
     ]
    }
   ],
   "source": [
    "print(scaled_train.shape)#(451, 1)\n",
    "# scaled_train"
   ]
  },
  {
   "cell_type": "code",
   "execution_count": 49,
   "metadata": {},
   "outputs": [
    {
     "data": {
      "text/plain": [
       "(50, 1)"
      ]
     },
     "execution_count": 49,
     "metadata": {},
     "output_type": "execute_result"
    }
   ],
   "source": [
    "first_eval_batch = scaled_train[-length:] #[-50:]\n",
    "first_eval_batch.shape"
   ]
  },
  {
   "cell_type": "code",
   "execution_count": 50,
   "metadata": {},
   "outputs": [
    {
     "data": {
      "text/plain": [
       "array([[8.37405820e-01],\n",
       "       [7.98881698e-01],\n",
       "       [7.57371240e-01],\n",
       "       [7.13289205e-01],\n",
       "       [6.67076045e-01],\n",
       "       [6.19193508e-01],\n",
       "       [5.70120021e-01],\n",
       "       [5.20345908e-01],\n",
       "       [4.70368497e-01],\n",
       "       [4.20687145e-01],\n",
       "       [3.71798252e-01],\n",
       "       [3.24190300e-01],\n",
       "       [2.78338972e-01],\n",
       "       [2.34702398e-01],\n",
       "       [1.93716581e-01],\n",
       "       [1.55791039e-01],\n",
       "       [1.21304709e-01],\n",
       "       [9.06021693e-02],\n",
       "       [6.39901882e-02],\n",
       "       [4.17346643e-02],\n",
       "       [2.40579672e-02],\n",
       "       [1.11367167e-02],\n",
       "       [3.10001778e-03],\n",
       "       [2.81703720e-05],\n",
       "       [1.95186738e-03],\n",
       "       [8.85188786e-03],\n",
       "       [2.06592891e-02],\n",
       "       [3.72560954e-02],\n",
       "       [5.84764771e-02],\n",
       "       [8.41084070e-02],\n",
       "       [1.13895779e-01],\n",
       "       [1.47540969e-01],\n",
       "       [1.84707803e-01],\n",
       "       [2.25024924e-01],\n",
       "       [2.68089497e-01],\n",
       "       [3.13471233e-01],\n",
       "       [3.60716695e-01],\n",
       "       [4.09353821e-01],\n",
       "       [4.58896644e-01],\n",
       "       [5.08850150e-01],\n",
       "       [5.58715219e-01],\n",
       "       [6.07993616e-01],\n",
       "       [6.56192968e-01],\n",
       "       [7.02831682e-01],\n",
       "       [7.47443761e-01],\n",
       "       [7.89583454e-01],\n",
       "       [8.28829716e-01],\n",
       "       [8.64790412e-01],\n",
       "       [8.97106234e-01],\n",
       "       [9.25454293e-01]])"
      ]
     },
     "execution_count": 50,
     "metadata": {},
     "output_type": "execute_result"
    }
   ],
   "source": [
    "first_eval_batch#(50,1)"
   ]
  },
  {
   "cell_type": "code",
   "execution_count": 51,
   "metadata": {},
   "outputs": [],
   "source": [
    "##option 1\n",
    "# first_eval_batch = first_eval_batch.reshape((1, length, n_features)) #(50,1 ) -> (1, 50 ,1)"
   ]
  },
  {
   "cell_type": "code",
   "execution_count": 52,
   "metadata": {},
   "outputs": [],
   "source": [
    "#option 2\n",
    "first_eval_batch = first_eval_batch[np.newaxis,:,:] #(50,1 ) -> (1, 50 ,1)"
   ]
  },
  {
   "cell_type": "markdown",
   "metadata": {},
   "source": [
    "* predict, predict_classes is expecting a 2D array of shape (**num_instances**, features), like X_test is(X_test.shape is (1,784)). But indexing a single instance as in X_test[10] returns a 1D array of shape (features,).\n",
    "\n",
    "* To add back the extra axis, you can use np.expand_dims(X_test[10], axis=0), or X_test[10][**np.newaxis**,:], or don't get rid of it in the first place (e.g., by using X_test[10:11]). or  X_test[10].reshape(1, 784)"
   ]
  },
  {
   "cell_type": "code",
   "execution_count": 53,
   "metadata": {},
   "outputs": [
    {
     "data": {
      "text/plain": [
       "array([[0.9542481]], dtype=float32)"
      ]
     },
     "execution_count": 53,
     "metadata": {},
     "output_type": "execute_result"
    }
   ],
   "source": [
    "#predict value based on X, training dataset.\n",
    "model.predict(first_eval_batch)#(1, 50 ,1) <- insert number_of_instance( 1 ) at first axis"
   ]
  },
  {
   "cell_type": "code",
   "execution_count": 54,
   "metadata": {},
   "outputs": [
    {
     "data": {
      "text/plain": [
       "array([0.94955134])"
      ]
     },
     "execution_count": 54,
     "metadata": {},
     "output_type": "execute_result"
    }
   ],
   "source": [
    "#actual y value.\n",
    "scaled_test[0]"
   ]
  },
  {
   "cell_type": "code",
   "execution_count": 55,
   "metadata": {},
   "outputs": [
    {
     "data": {
      "text/plain": [
       "array([[9.49551344e-01],\n",
       "       [9.69156618e-01],\n",
       "       [9.84074225e-01],\n",
       "       [9.94155114e-01],\n",
       "       [9.99298559e-01],\n",
       "       [9.99453170e-01],\n",
       "       [9.94617400e-01],\n",
       "       [9.84839568e-01],\n",
       "       [9.70217371e-01],\n",
       "       [9.50896908e-01],\n",
       "       [9.27071224e-01],\n",
       "       [8.98978376e-01],\n",
       "       [8.66899060e-01],\n",
       "       [8.31153800e-01],\n",
       "       [7.92099752e-01],\n",
       "       [7.50127132e-01],\n",
       "       [7.05655314e-01],\n",
       "       [6.59128649e-01],\n",
       "       [6.11012013e-01],\n",
       "       [5.61786173e-01],\n",
       "       [5.11942978e-01],\n",
       "       [4.61980443e-01],\n",
       "       [4.12397778e-01],\n",
       "       [3.63690397e-01],\n",
       "       [3.16344967e-01],\n",
       "       [2.70834550e-01],\n",
       "       [2.27613868e-01],\n",
       "       [1.87114770e-01],\n",
       "       [1.49741909e-01],\n",
       "       [1.15868702e-01],\n",
       "       [8.58335998e-02],\n",
       "       [5.99367021e-02],\n",
       "       [3.84367625e-02],\n",
       "       [2.15486014e-02],\n",
       "       [9.44095974e-03],\n",
       "       [2.23481297e-03],\n",
       "       [2.16257798e-06],\n",
       "       [2.76531647e-03],\n",
       "       [1.04966661e-02],\n",
       "       [2.31189624e-02],\n",
       "       [4.05060876e-02],\n",
       "       [6.24843152e-02],\n",
       "       [8.88340461e-02],\n",
       "       [1.19292002e-01],\n",
       "       [1.53553858e-01],\n",
       "       [1.91277281e-01],\n",
       "       [2.32085350e-01],\n",
       "       [2.75570325e-01],\n",
       "       [3.21297718e-01],\n",
       "       [3.68810636e-01]])"
      ]
     },
     "execution_count": 55,
     "metadata": {},
     "output_type": "execute_result"
    }
   ],
   "source": [
    "scaled_test"
   ]
  },
  {
   "cell_type": "markdown",
   "metadata": {},
   "source": [
    "Now let's put this logic in a for loop to predict into the future for the entire test range.\n",
    "\n",
    "----"
   ]
  },
  {
   "cell_type": "code",
   "execution_count": 56,
   "metadata": {},
   "outputs": [
    {
     "name": "stdout",
     "output_type": "stream",
     "text": [
      "(50, 1)\n"
     ]
    }
   ],
   "source": [
    "test_predictions = []\n",
    "\n",
    "first_eval_batch = scaled_train[-length:]#[-50:]\n",
    "print(first_eval_batch.shape)\n",
    "current_batch = first_eval_batch.reshape((1, length, n_features))#(1, 50 ,1)"
   ]
  },
  {
   "cell_type": "code",
   "execution_count": 57,
   "metadata": {},
   "outputs": [
    {
     "data": {
      "text/plain": [
       "(1, 50, 1)"
      ]
     },
     "execution_count": 57,
     "metadata": {},
     "output_type": "execute_result"
    }
   ],
   "source": [
    "current_batch.shape"
   ]
  },
  {
   "cell_type": "code",
   "execution_count": 58,
   "metadata": {},
   "outputs": [
    {
     "name": "stdout",
     "output_type": "stream",
     "text": [
      "(1, 50, 1)\n"
     ]
    },
    {
     "data": {
      "text/plain": [
       "array([[[8.37405820e-01],\n",
       "        [7.98881698e-01],\n",
       "        [7.57371240e-01],\n",
       "        [7.13289205e-01],\n",
       "        [6.67076045e-01],\n",
       "        [6.19193508e-01],\n",
       "        [5.70120021e-01],\n",
       "        [5.20345908e-01],\n",
       "        [4.70368497e-01],\n",
       "        [4.20687145e-01],\n",
       "        [3.71798252e-01],\n",
       "        [3.24190300e-01],\n",
       "        [2.78338972e-01],\n",
       "        [2.34702398e-01],\n",
       "        [1.93716581e-01],\n",
       "        [1.55791039e-01],\n",
       "        [1.21304709e-01],\n",
       "        [9.06021693e-02],\n",
       "        [6.39901882e-02],\n",
       "        [4.17346643e-02],\n",
       "        [2.40579672e-02],\n",
       "        [1.11367167e-02],\n",
       "        [3.10001778e-03],\n",
       "        [2.81703720e-05],\n",
       "        [1.95186738e-03],\n",
       "        [8.85188786e-03],\n",
       "        [2.06592891e-02],\n",
       "        [3.72560954e-02],\n",
       "        [5.84764771e-02],\n",
       "        [8.41084070e-02],\n",
       "        [1.13895779e-01],\n",
       "        [1.47540969e-01],\n",
       "        [1.84707803e-01],\n",
       "        [2.25024924e-01],\n",
       "        [2.68089497e-01],\n",
       "        [3.13471233e-01],\n",
       "        [3.60716695e-01],\n",
       "        [4.09353821e-01],\n",
       "        [4.58896644e-01],\n",
       "        [5.08850150e-01],\n",
       "        [5.58715219e-01],\n",
       "        [6.07993616e-01],\n",
       "        [6.56192968e-01],\n",
       "        [7.02831682e-01],\n",
       "        [7.47443761e-01],\n",
       "        [7.89583454e-01],\n",
       "        [8.28829716e-01],\n",
       "        [8.64790412e-01],\n",
       "        [8.97106234e-01],\n",
       "        [9.25454293e-01]]])"
      ]
     },
     "execution_count": 58,
     "metadata": {},
     "output_type": "execute_result"
    }
   ],
   "source": [
    "print(current_batch.shape)\n",
    "current_batch#(1,50,1)"
   ]
  },
  {
   "cell_type": "code",
   "execution_count": 59,
   "metadata": {},
   "outputs": [
    {
     "name": "stdout",
     "output_type": "stream",
     "text": [
      "(1, 49, 1)\n"
     ]
    },
    {
     "data": {
      "text/plain": [
       "array([[[7.98881698e-01],\n",
       "        [7.57371240e-01],\n",
       "        [7.13289205e-01],\n",
       "        [6.67076045e-01],\n",
       "        [6.19193508e-01],\n",
       "        [5.70120021e-01],\n",
       "        [5.20345908e-01],\n",
       "        [4.70368497e-01],\n",
       "        [4.20687145e-01],\n",
       "        [3.71798252e-01],\n",
       "        [3.24190300e-01],\n",
       "        [2.78338972e-01],\n",
       "        [2.34702398e-01],\n",
       "        [1.93716581e-01],\n",
       "        [1.55791039e-01],\n",
       "        [1.21304709e-01],\n",
       "        [9.06021693e-02],\n",
       "        [6.39901882e-02],\n",
       "        [4.17346643e-02],\n",
       "        [2.40579672e-02],\n",
       "        [1.11367167e-02],\n",
       "        [3.10001778e-03],\n",
       "        [2.81703720e-05],\n",
       "        [1.95186738e-03],\n",
       "        [8.85188786e-03],\n",
       "        [2.06592891e-02],\n",
       "        [3.72560954e-02],\n",
       "        [5.84764771e-02],\n",
       "        [8.41084070e-02],\n",
       "        [1.13895779e-01],\n",
       "        [1.47540969e-01],\n",
       "        [1.84707803e-01],\n",
       "        [2.25024924e-01],\n",
       "        [2.68089497e-01],\n",
       "        [3.13471233e-01],\n",
       "        [3.60716695e-01],\n",
       "        [4.09353821e-01],\n",
       "        [4.58896644e-01],\n",
       "        [5.08850150e-01],\n",
       "        [5.58715219e-01],\n",
       "        [6.07993616e-01],\n",
       "        [6.56192968e-01],\n",
       "        [7.02831682e-01],\n",
       "        [7.47443761e-01],\n",
       "        [7.89583454e-01],\n",
       "        [8.28829716e-01],\n",
       "        [8.64790412e-01],\n",
       "        [8.97106234e-01],\n",
       "        [9.25454293e-01]]])"
      ]
     },
     "execution_count": 59,
     "metadata": {},
     "output_type": "execute_result"
    }
   ],
   "source": [
    "print(current_batch[:,1:,:].shape)\n",
    "current_batch[:,1:,:] #shift forward to index 1(remove index 0): (1,50,1) -> (1,49,1)"
   ]
  },
  {
   "cell_type": "code",
   "execution_count": 60,
   "metadata": {},
   "outputs": [
    {
     "data": {
      "text/plain": [
       "(1, 1, 1)"
      ]
     },
     "execution_count": 60,
     "metadata": {},
     "output_type": "execute_result"
    }
   ],
   "source": [
    "np.array([[[99]]]).shape"
   ]
  },
  {
   "cell_type": "code",
   "execution_count": 61,
   "metadata": {},
   "outputs": [
    {
     "data": {
      "text/plain": [
       "array([[[7.98881698e-01],\n",
       "        [7.57371240e-01],\n",
       "        [7.13289205e-01],\n",
       "        [6.67076045e-01],\n",
       "        [6.19193508e-01],\n",
       "        [5.70120021e-01],\n",
       "        [5.20345908e-01],\n",
       "        [4.70368497e-01],\n",
       "        [4.20687145e-01],\n",
       "        [3.71798252e-01],\n",
       "        [3.24190300e-01],\n",
       "        [2.78338972e-01],\n",
       "        [2.34702398e-01],\n",
       "        [1.93716581e-01],\n",
       "        [1.55791039e-01],\n",
       "        [1.21304709e-01],\n",
       "        [9.06021693e-02],\n",
       "        [6.39901882e-02],\n",
       "        [4.17346643e-02],\n",
       "        [2.40579672e-02],\n",
       "        [1.11367167e-02],\n",
       "        [3.10001778e-03],\n",
       "        [2.81703720e-05],\n",
       "        [1.95186738e-03],\n",
       "        [8.85188786e-03],\n",
       "        [2.06592891e-02],\n",
       "        [3.72560954e-02],\n",
       "        [5.84764771e-02],\n",
       "        [8.41084070e-02],\n",
       "        [1.13895779e-01],\n",
       "        [1.47540969e-01],\n",
       "        [1.84707803e-01],\n",
       "        [2.25024924e-01],\n",
       "        [2.68089497e-01],\n",
       "        [3.13471233e-01],\n",
       "        [3.60716695e-01],\n",
       "        [4.09353821e-01],\n",
       "        [4.58896644e-01],\n",
       "        [5.08850150e-01],\n",
       "        [5.58715219e-01],\n",
       "        [6.07993616e-01],\n",
       "        [6.56192968e-01],\n",
       "        [7.02831682e-01],\n",
       "        [7.47443761e-01],\n",
       "        [7.89583454e-01],\n",
       "        [8.28829716e-01],\n",
       "        [8.64790412e-01],\n",
       "        [8.97106234e-01],\n",
       "        [9.25454293e-01],\n",
       "        [9.90000000e+01]]])"
      ]
     },
     "execution_count": 61,
     "metadata": {},
     "output_type": "execute_result"
    }
   ],
   "source": [
    "## Test to append new element [[[99]]] into current_batch which is shifted to index 1 (1,49,1)\n",
    "np.append(current_batch[:,1:,:],[[[99]]],axis=1) #(1,49,1) , (1,1,1) \n",
    "# np.append(current_batch[:,1:,:],[99],axis=1) #(1,49,1) , (1,1,1) #dimesion error(3-d, 1-d)"
   ]
  },
  {
   "cell_type": "markdown",
   "metadata": {},
   "source": [
    "**NOTE: PAY CLOSE ATTENTION HERE TO WHAT IS BEING OUTPUTED AND IN WHAT DIMENSIONS. ADD YOUR OWN PRINT() STATEMENTS TO SEE WHAT IS TRULY GOING ON!!**"
   ]
  },
  {
   "cell_type": "code",
   "execution_count": 62,
   "metadata": {},
   "outputs": [
    {
     "name": "stdout",
     "output_type": "stream",
     "text": [
      "[[0.9542481]]\n",
      "(1, 1)\n"
     ]
    }
   ],
   "source": [
    "print(model.predict(current_batch))\n",
    "print(model.predict(current_batch).shape)"
   ]
  },
  {
   "cell_type": "code",
   "execution_count": 63,
   "metadata": {},
   "outputs": [
    {
     "name": "stdout",
     "output_type": "stream",
     "text": [
      "[0.9542481]\n",
      "(1,)\n"
     ]
    }
   ],
   "source": [
    "print(model.predict(current_batch)[0]) #[0] is for grabbing just the number instead of [array]\n",
    "print(model.predict(current_batch)[0].shape) "
   ]
  },
  {
   "cell_type": "code",
   "execution_count": 64,
   "metadata": {},
   "outputs": [
    {
     "name": "stdout",
     "output_type": "stream",
     "text": [
      "[[array([0.9542481], dtype=float32)]]\n"
     ]
    }
   ],
   "source": [
    "print([[model.predict(current_batch)[0]]])"
   ]
  },
  {
   "cell_type": "code",
   "execution_count": 65,
   "metadata": {},
   "outputs": [
    {
     "data": {
      "text/plain": [
       "50"
      ]
     },
     "execution_count": 65,
     "metadata": {},
     "output_type": "execute_result"
    }
   ],
   "source": [
    "len(test)"
   ]
  },
  {
   "cell_type": "code",
   "execution_count": 66,
   "metadata": {},
   "outputs": [
    {
     "data": {
      "text/plain": [
       "(1,)"
      ]
     },
     "execution_count": 66,
     "metadata": {},
     "output_type": "execute_result"
    }
   ],
   "source": [
    "my_1d = np.array([99]).shape\n",
    "my_1d"
   ]
  },
  {
   "cell_type": "code",
   "execution_count": 67,
   "metadata": {},
   "outputs": [],
   "source": [
    "test_predictions = []\n",
    "\n",
    "first_eval_batch = scaled_train[-length:]#[-50:]\n",
    "current_batch = first_eval_batch.reshape((1, length, n_features)) #(1,50,1)\n",
    "\n",
    "for i in range(len(test)): #50\n",
    "    \n",
    "    # get prediction 1 time stamp ahead ([0] is for grabbing just the number instead of [array])\n",
    "    current_pred = model.predict(current_batch)[0] #[0] convert to [0.9436601],(1,) from [[0.9436601]],(1,1)\n",
    "    \n",
    "    # store prediction\n",
    "    test_predictions.append(current_pred) #[].append([0.9436601]) -> test_predictions : list length is 50\n",
    "    \n",
    "    # update batch to now include prediction and drop first value\n",
    "    current_batch = np.append(current_batch[:,1:,:],[[current_pred]],axis=1)#(1,49,1), [[(1,)]]->(1,1,1)"
   ]
  },
  {
   "cell_type": "code",
   "execution_count": 68,
   "metadata": {},
   "outputs": [
    {
     "name": "stdout",
     "output_type": "stream",
     "text": [
      "1\n",
      "3\n",
      "2\n",
      "------------np.array------------------------\n"
     ]
    },
    {
     "data": {
      "text/plain": [
       "(1, 3, 2)"
      ]
     },
     "execution_count": 68,
     "metadata": {},
     "output_type": "execute_result"
    }
   ],
   "source": [
    "## test\n",
    "#show dimesion of list(when not np.array -> change to ndarray then .shape )\n",
    "test_list_dim = [[[2,3], [4,2], [3,2]]]\n",
    "print(len(test_list_dim))#first dimension\n",
    "print(len(test_list_dim[0])) #second dimension\n",
    "print(len(test_list_dim[0][0])) #third dimension\n",
    "print(\"------------np.array------------------------\")\n",
    "np.array(test_list_dim).shape"
   ]
  },
  {
   "cell_type": "code",
   "execution_count": 69,
   "metadata": {},
   "outputs": [],
   "source": [
    "def dim(a):\n",
    "    if not type(a) == list:\n",
    "        return []\n",
    "    return [len(a)] + dim(a[0]) #list + list -> list"
   ]
  },
  {
   "cell_type": "code",
   "execution_count": 70,
   "metadata": {},
   "outputs": [
    {
     "name": "stdout",
     "output_type": "stream",
     "text": [
      "<class 'list'>\n",
      "[[[2, 3], [4, 2], [3, 2]]]\n",
      "1\n"
     ]
    }
   ],
   "source": [
    "#test def dim(a): explained!\n",
    "print(type(test_list_dim))\n",
    "print(test_list_dim)\n",
    "print(len(test_list_dim))"
   ]
  },
  {
   "cell_type": "code",
   "execution_count": 71,
   "metadata": {},
   "outputs": [
    {
     "name": "stdout",
     "output_type": "stream",
     "text": [
      "<class 'list'>\n",
      "[[2, 3], [4, 2], [3, 2]]\n",
      "3\n"
     ]
    }
   ],
   "source": [
    "print(type(test_list_dim[0]))\n",
    "print(test_list_dim[0])\n",
    "print(len(test_list_dim[0]))"
   ]
  },
  {
   "cell_type": "code",
   "execution_count": 72,
   "metadata": {},
   "outputs": [
    {
     "name": "stdout",
     "output_type": "stream",
     "text": [
      "<class 'list'>\n",
      "[2, 3]\n",
      "2\n"
     ]
    }
   ],
   "source": [
    "print(type(test_list_dim[0][0]))\n",
    "print(test_list_dim[0][0])\n",
    "print(len(test_list_dim[0][0]))"
   ]
  },
  {
   "cell_type": "code",
   "execution_count": 73,
   "metadata": {},
   "outputs": [
    {
     "name": "stdout",
     "output_type": "stream",
     "text": [
      "<class 'int'>\n",
      "2\n"
     ]
    }
   ],
   "source": [
    "print(type(test_list_dim[0][0][0]))\n",
    "print(test_list_dim[0][0][0])\n",
    "# print(len(test_list_dim[0][0][0])) #TypeError: object of type 'int' has no len(): len(2)-> error!"
   ]
  },
  {
   "cell_type": "code",
   "execution_count": 74,
   "metadata": {},
   "outputs": [
    {
     "data": {
      "text/plain": [
       "[1, 3, 2]"
      ]
     },
     "execution_count": 74,
     "metadata": {},
     "output_type": "execute_result"
    }
   ],
   "source": [
    "dim(test_list_dim)"
   ]
  },
  {
   "cell_type": "code",
   "execution_count": 75,
   "metadata": {},
   "outputs": [
    {
     "name": "stdout",
     "output_type": "stream",
     "text": [
      "1st dimension:  50\n",
      "2nd dimension:  1\n",
      "**shape** :  (50, 1)\n",
      "-------------- #list of np array -----------\n",
      "<class 'list'>\n",
      "<class 'numpy.ndarray'>\n"
     ]
    },
    {
     "data": {
      "text/plain": [
       "[array([0.9542481], dtype=float32),\n",
       " array([0.9742047], dtype=float32),\n",
       " array([0.98951966], dtype=float32),\n",
       " array([1.001604], dtype=float32),\n",
       " array([1.0070533], dtype=float32),\n",
       " array([1.0063715], dtype=float32),\n",
       " array([1.0034169], dtype=float32),\n",
       " array([0.9940656], dtype=float32),\n",
       " array([0.97829014], dtype=float32),\n",
       " array([0.96094835], dtype=float32),\n",
       " array([0.93837106], dtype=float32),\n",
       " array([0.90848136], dtype=float32),\n",
       " array([0.8777798], dtype=float32),\n",
       " array([0.8433509], dtype=float32),\n",
       " array([0.8028036], dtype=float32),\n",
       " array([0.76109385], dtype=float32),\n",
       " array([0.7185779], dtype=float32),\n",
       " array([0.6702838], dtype=float32),\n",
       " array([0.62141937], dtype=float32),\n",
       " array([0.5725298], dtype=float32),\n",
       " array([0.52016586], dtype=float32),\n",
       " array([0.46675447], dtype=float32),\n",
       " array([0.4161359], dtype=float32),\n",
       " array([0.36401618], dtype=float32),\n",
       " array([0.3113548], dtype=float32),\n",
       " array([0.26340333], dtype=float32),\n",
       " array([0.21692154], dtype=float32),\n",
       " array([0.17063648], dtype=float32),\n",
       " array([0.1299781], dtype=float32),\n",
       " array([0.09454355], dtype=float32),\n",
       " array([0.06051791], dtype=float32),\n",
       " array([0.03234538], dtype=float32),\n",
       " array([0.01248641], dtype=float32),\n",
       " array([-0.00506956], dtype=float32),\n",
       " array([-0.01782836], dtype=float32),\n",
       " array([-0.02079869], dtype=float32),\n",
       " array([-0.01968384], dtype=float32),\n",
       " array([-0.0168383], dtype=float32),\n",
       " array([-0.00359323], dtype=float32),\n",
       " array([0.0154717], dtype=float32),\n",
       " array([0.03335268], dtype=float32),\n",
       " array([0.05984346], dtype=float32),\n",
       " array([0.09441409], dtype=float32),\n",
       " array([0.12542689], dtype=float32),\n",
       " array([0.16111185], dtype=float32),\n",
       " array([0.20776916], dtype=float32),\n",
       " array([0.24941547], dtype=float32),\n",
       " array([0.2908686], dtype=float32),\n",
       " array([0.344947], dtype=float32),\n",
       " array([0.39468315], dtype=float32)]"
      ]
     },
     "execution_count": 75,
     "metadata": {},
     "output_type": "execute_result"
    }
   ],
   "source": [
    "# test\n",
    "print(\"1st dimension: \",len(test_predictions))\n",
    "print(\"2nd dimension: \",len(test_predictions[0]))\n",
    "\n",
    "# print(test_predictions)\n",
    "print(\"**shape** : \",np.array(test_predictions).shape)\n",
    "print(\"-------------- #list of np array -----------\")\n",
    "print(type(test_predictions)) \n",
    "print(type(test_predictions[0]))\n",
    "\n",
    "test_predictions #list of np array, length 50"
   ]
  },
  {
   "cell_type": "code",
   "execution_count": 76,
   "metadata": {},
   "outputs": [
    {
     "name": "stdout",
     "output_type": "stream",
     "text": [
      "(50, 1)\n"
     ]
    },
    {
     "data": {
      "text/plain": [
       "array([[9.49551344e-01],\n",
       "       [9.69156618e-01],\n",
       "       [9.84074225e-01],\n",
       "       [9.94155114e-01],\n",
       "       [9.99298559e-01],\n",
       "       [9.99453170e-01],\n",
       "       [9.94617400e-01],\n",
       "       [9.84839568e-01],\n",
       "       [9.70217371e-01],\n",
       "       [9.50896908e-01],\n",
       "       [9.27071224e-01],\n",
       "       [8.98978376e-01],\n",
       "       [8.66899060e-01],\n",
       "       [8.31153800e-01],\n",
       "       [7.92099752e-01],\n",
       "       [7.50127132e-01],\n",
       "       [7.05655314e-01],\n",
       "       [6.59128649e-01],\n",
       "       [6.11012013e-01],\n",
       "       [5.61786173e-01],\n",
       "       [5.11942978e-01],\n",
       "       [4.61980443e-01],\n",
       "       [4.12397778e-01],\n",
       "       [3.63690397e-01],\n",
       "       [3.16344967e-01],\n",
       "       [2.70834550e-01],\n",
       "       [2.27613868e-01],\n",
       "       [1.87114770e-01],\n",
       "       [1.49741909e-01],\n",
       "       [1.15868702e-01],\n",
       "       [8.58335998e-02],\n",
       "       [5.99367021e-02],\n",
       "       [3.84367625e-02],\n",
       "       [2.15486014e-02],\n",
       "       [9.44095974e-03],\n",
       "       [2.23481297e-03],\n",
       "       [2.16257798e-06],\n",
       "       [2.76531647e-03],\n",
       "       [1.04966661e-02],\n",
       "       [2.31189624e-02],\n",
       "       [4.05060876e-02],\n",
       "       [6.24843152e-02],\n",
       "       [8.88340461e-02],\n",
       "       [1.19292002e-01],\n",
       "       [1.53553858e-01],\n",
       "       [1.91277281e-01],\n",
       "       [2.32085350e-01],\n",
       "       [2.75570325e-01],\n",
       "       [3.21297718e-01],\n",
       "       [3.68810636e-01]])"
      ]
     },
     "execution_count": 76,
     "metadata": {},
     "output_type": "execute_result"
    }
   ],
   "source": [
    "print(scaled_test.shape)\n",
    "scaled_test"
   ]
  },
  {
   "cell_type": "markdown",
   "metadata": {},
   "source": [
    "## Inverse Transformations(Undo the scaling of X according to feature_range.) and Compare"
   ]
  },
  {
   "cell_type": "code",
   "execution_count": 77,
   "metadata": {},
   "outputs": [],
   "source": [
    "#convert to 2-d nd array: array([[0.8],[0.9],...]) , shape is (50,1)\n",
    "# from a list consists of 50 np array:[[array([9.], array([8.]),...))]]\n",
    "true_predictions = scaler.inverse_transform(test_predictions)  "
   ]
  },
  {
   "cell_type": "code",
   "execution_count": 78,
   "metadata": {},
   "outputs": [
    {
     "name": "stdout",
     "output_type": "stream",
     "text": [
      "1st dimension:  50\n",
      "2nd dimension:  1\n",
      "**shape** :  (50, 1)\n",
      "-----------np array with 2-d list--------------\n",
      "<class 'numpy.ndarray'>\n",
      "<class 'numpy.ndarray'>\n"
     ]
    },
    {
     "data": {
      "text/plain": [
       "array([[ 0.90849062],\n",
       "       [ 0.9484036 ],\n",
       "       [ 0.97903322],\n",
       "       [ 1.00320164],\n",
       "       [ 1.01410014],\n",
       "       [ 1.01273664],\n",
       "       [ 1.00682748],\n",
       "       [ 0.988125  ],\n",
       "       [ 0.95657437],\n",
       "       [ 0.92189107],\n",
       "       [ 0.87673686],\n",
       "       [ 0.81695793],\n",
       "       [ 0.75555527],\n",
       "       [ 0.68669803],\n",
       "       [ 0.60560406],\n",
       "       [ 0.52218529],\n",
       "       [ 0.4371541 ],\n",
       "       [ 0.34056662],\n",
       "       [ 0.24283856],\n",
       "       [ 0.14506019],\n",
       "       [ 0.04033317],\n",
       "       [-0.06648877],\n",
       "       [-0.16772507],\n",
       "       [-0.2719637 ],\n",
       "       [-0.37728563],\n",
       "       [-0.47318778],\n",
       "       [-0.56615061],\n",
       "       [-0.65872   ],\n",
       "       [-0.74003608],\n",
       "       [-0.81090462],\n",
       "       [-0.87895536],\n",
       "       [-0.93529996],\n",
       "       [-0.9750176 ],\n",
       "       [-1.01012925],\n",
       "       [-1.03564665],\n",
       "       [-1.04158725],\n",
       "       [-1.03935757],\n",
       "       [-1.03366654],\n",
       "       [-1.00717661],\n",
       "       [-0.96904705],\n",
       "       [-0.93328538],\n",
       "       [-0.88030425],\n",
       "       [-0.81116355],\n",
       "       [-0.74913844],\n",
       "       [-0.6777691 ],\n",
       "       [-0.58445523],\n",
       "       [-0.50116327],\n",
       "       [-0.41825765],\n",
       "       [-0.31010172],\n",
       "       [-0.21063024]])"
      ]
     },
     "execution_count": 78,
     "metadata": {},
     "output_type": "execute_result"
    }
   ],
   "source": [
    "#test\n",
    "print(\"1st dimension: \",len(true_predictions))\n",
    "print(\"2nd dimension: \",len(true_predictions[0]))\n",
    "\n",
    "print(\"**shape** : \",true_predictions.shape) \n",
    "print(\"-----------np array with 2-d list--------------\")\n",
    "print(type(true_predictions)) \n",
    "print(type(true_predictions[0]))\n",
    "true_predictions"
   ]
  },
  {
   "cell_type": "code",
   "execution_count": 79,
   "metadata": {},
   "outputs": [
    {
     "data": {
      "text/html": [
       "<div>\n",
       "<style scoped>\n",
       "    .dataframe tbody tr th:only-of-type {\n",
       "        vertical-align: middle;\n",
       "    }\n",
       "\n",
       "    .dataframe tbody tr th {\n",
       "        vertical-align: top;\n",
       "    }\n",
       "\n",
       "    .dataframe thead th {\n",
       "        text-align: right;\n",
       "    }\n",
       "</style>\n",
       "<table border=\"1\" class=\"dataframe\">\n",
       "  <thead>\n",
       "    <tr style=\"text-align: right;\">\n",
       "      <th></th>\n",
       "      <th>Sine</th>\n",
       "    </tr>\n",
       "  </thead>\n",
       "  <tbody>\n",
       "    <tr>\n",
       "      <th>45.1</th>\n",
       "      <td>0.899097</td>\n",
       "    </tr>\n",
       "    <tr>\n",
       "      <th>45.2</th>\n",
       "      <td>0.938307</td>\n",
       "    </tr>\n",
       "    <tr>\n",
       "      <th>45.3</th>\n",
       "      <td>0.968142</td>\n",
       "    </tr>\n",
       "    <tr>\n",
       "      <th>45.4</th>\n",
       "      <td>0.988304</td>\n",
       "    </tr>\n",
       "    <tr>\n",
       "      <th>45.5</th>\n",
       "      <td>0.998591</td>\n",
       "    </tr>\n",
       "    <tr>\n",
       "      <th>45.6</th>\n",
       "      <td>0.998900</td>\n",
       "    </tr>\n",
       "    <tr>\n",
       "      <th>45.7</th>\n",
       "      <td>0.989229</td>\n",
       "    </tr>\n",
       "    <tr>\n",
       "      <th>45.8</th>\n",
       "      <td>0.969673</td>\n",
       "    </tr>\n",
       "    <tr>\n",
       "      <th>45.9</th>\n",
       "      <td>0.940429</td>\n",
       "    </tr>\n",
       "    <tr>\n",
       "      <th>46.0</th>\n",
       "      <td>0.901788</td>\n",
       "    </tr>\n",
       "    <tr>\n",
       "      <th>46.1</th>\n",
       "      <td>0.854137</td>\n",
       "    </tr>\n",
       "    <tr>\n",
       "      <th>46.2</th>\n",
       "      <td>0.797952</td>\n",
       "    </tr>\n",
       "    <tr>\n",
       "      <th>46.3</th>\n",
       "      <td>0.733794</td>\n",
       "    </tr>\n",
       "    <tr>\n",
       "      <th>46.4</th>\n",
       "      <td>0.662304</td>\n",
       "    </tr>\n",
       "    <tr>\n",
       "      <th>46.5</th>\n",
       "      <td>0.584197</td>\n",
       "    </tr>\n",
       "    <tr>\n",
       "      <th>46.6</th>\n",
       "      <td>0.500252</td>\n",
       "    </tr>\n",
       "    <tr>\n",
       "      <th>46.7</th>\n",
       "      <td>0.411309</td>\n",
       "    </tr>\n",
       "    <tr>\n",
       "      <th>46.8</th>\n",
       "      <td>0.318257</td>\n",
       "    </tr>\n",
       "    <tr>\n",
       "      <th>46.9</th>\n",
       "      <td>0.222024</td>\n",
       "    </tr>\n",
       "    <tr>\n",
       "      <th>47.0</th>\n",
       "      <td>0.123573</td>\n",
       "    </tr>\n",
       "    <tr>\n",
       "      <th>47.1</th>\n",
       "      <td>0.023888</td>\n",
       "    </tr>\n",
       "    <tr>\n",
       "      <th>47.2</th>\n",
       "      <td>-0.076037</td>\n",
       "    </tr>\n",
       "    <tr>\n",
       "      <th>47.3</th>\n",
       "      <td>-0.175201</td>\n",
       "    </tr>\n",
       "    <tr>\n",
       "      <th>47.4</th>\n",
       "      <td>-0.272615</td>\n",
       "    </tr>\n",
       "    <tr>\n",
       "      <th>47.5</th>\n",
       "      <td>-0.367305</td>\n",
       "    </tr>\n",
       "    <tr>\n",
       "      <th>47.6</th>\n",
       "      <td>-0.458325</td>\n",
       "    </tr>\n",
       "    <tr>\n",
       "      <th>47.7</th>\n",
       "      <td>-0.544766</td>\n",
       "    </tr>\n",
       "    <tr>\n",
       "      <th>47.8</th>\n",
       "      <td>-0.625764</td>\n",
       "    </tr>\n",
       "    <tr>\n",
       "      <th>47.9</th>\n",
       "      <td>-0.700509</td>\n",
       "    </tr>\n",
       "    <tr>\n",
       "      <th>48.0</th>\n",
       "      <td>-0.768255</td>\n",
       "    </tr>\n",
       "    <tr>\n",
       "      <th>48.1</th>\n",
       "      <td>-0.828324</td>\n",
       "    </tr>\n",
       "    <tr>\n",
       "      <th>48.2</th>\n",
       "      <td>-0.880118</td>\n",
       "    </tr>\n",
       "    <tr>\n",
       "      <th>48.3</th>\n",
       "      <td>-0.923117</td>\n",
       "    </tr>\n",
       "    <tr>\n",
       "      <th>48.4</th>\n",
       "      <td>-0.956893</td>\n",
       "    </tr>\n",
       "    <tr>\n",
       "      <th>48.5</th>\n",
       "      <td>-0.981108</td>\n",
       "    </tr>\n",
       "    <tr>\n",
       "      <th>48.6</th>\n",
       "      <td>-0.995521</td>\n",
       "    </tr>\n",
       "    <tr>\n",
       "      <th>48.7</th>\n",
       "      <td>-0.999986</td>\n",
       "    </tr>\n",
       "    <tr>\n",
       "      <th>48.8</th>\n",
       "      <td>-0.994460</td>\n",
       "    </tr>\n",
       "    <tr>\n",
       "      <th>48.9</th>\n",
       "      <td>-0.978997</td>\n",
       "    </tr>\n",
       "    <tr>\n",
       "      <th>49.0</th>\n",
       "      <td>-0.953753</td>\n",
       "    </tr>\n",
       "    <tr>\n",
       "      <th>49.1</th>\n",
       "      <td>-0.918979</td>\n",
       "    </tr>\n",
       "    <tr>\n",
       "      <th>49.2</th>\n",
       "      <td>-0.875023</td>\n",
       "    </tr>\n",
       "    <tr>\n",
       "      <th>49.3</th>\n",
       "      <td>-0.822324</td>\n",
       "    </tr>\n",
       "    <tr>\n",
       "      <th>49.4</th>\n",
       "      <td>-0.761408</td>\n",
       "    </tr>\n",
       "    <tr>\n",
       "      <th>49.5</th>\n",
       "      <td>-0.692885</td>\n",
       "    </tr>\n",
       "    <tr>\n",
       "      <th>49.6</th>\n",
       "      <td>-0.617439</td>\n",
       "    </tr>\n",
       "    <tr>\n",
       "      <th>49.7</th>\n",
       "      <td>-0.535823</td>\n",
       "    </tr>\n",
       "    <tr>\n",
       "      <th>49.8</th>\n",
       "      <td>-0.448854</td>\n",
       "    </tr>\n",
       "    <tr>\n",
       "      <th>49.9</th>\n",
       "      <td>-0.357400</td>\n",
       "    </tr>\n",
       "    <tr>\n",
       "      <th>50.0</th>\n",
       "      <td>-0.262375</td>\n",
       "    </tr>\n",
       "  </tbody>\n",
       "</table>\n",
       "</div>"
      ],
      "text/plain": [
       "          Sine\n",
       "45.1  0.899097\n",
       "45.2  0.938307\n",
       "45.3  0.968142\n",
       "45.4  0.988304\n",
       "45.5  0.998591\n",
       "45.6  0.998900\n",
       "45.7  0.989229\n",
       "45.8  0.969673\n",
       "45.9  0.940429\n",
       "46.0  0.901788\n",
       "46.1  0.854137\n",
       "46.2  0.797952\n",
       "46.3  0.733794\n",
       "46.4  0.662304\n",
       "46.5  0.584197\n",
       "46.6  0.500252\n",
       "46.7  0.411309\n",
       "46.8  0.318257\n",
       "46.9  0.222024\n",
       "47.0  0.123573\n",
       "47.1  0.023888\n",
       "47.2 -0.076037\n",
       "47.3 -0.175201\n",
       "47.4 -0.272615\n",
       "47.5 -0.367305\n",
       "47.6 -0.458325\n",
       "47.7 -0.544766\n",
       "47.8 -0.625764\n",
       "47.9 -0.700509\n",
       "48.0 -0.768255\n",
       "48.1 -0.828324\n",
       "48.2 -0.880118\n",
       "48.3 -0.923117\n",
       "48.4 -0.956893\n",
       "48.5 -0.981108\n",
       "48.6 -0.995521\n",
       "48.7 -0.999986\n",
       "48.8 -0.994460\n",
       "48.9 -0.978997\n",
       "49.0 -0.953753\n",
       "49.1 -0.918979\n",
       "49.2 -0.875023\n",
       "49.3 -0.822324\n",
       "49.4 -0.761408\n",
       "49.5 -0.692885\n",
       "49.6 -0.617439\n",
       "49.7 -0.535823\n",
       "49.8 -0.448854\n",
       "49.9 -0.357400\n",
       "50.0 -0.262375"
      ]
     },
     "execution_count": 79,
     "metadata": {},
     "output_type": "execute_result"
    }
   ],
   "source": [
    "test"
   ]
  },
  {
   "cell_type": "code",
   "execution_count": 80,
   "metadata": {},
   "outputs": [
    {
     "name": "stderr",
     "output_type": "stream",
     "text": [
      "/home/ys/anaconda3/envs/tf/lib/python3.7/site-packages/ipykernel_launcher.py:2: SettingWithCopyWarning: \n",
      "A value is trying to be set on a copy of a slice from a DataFrame.\n",
      "Try using .loc[row_indexer,col_indexer] = value instead\n",
      "\n",
      "See the caveats in the documentation: https://pandas.pydata.org/pandas-docs/stable/user_guide/indexing.html#returning-a-view-versus-a-copy\n",
      "  \n"
     ]
    }
   ],
   "source": [
    "# IGNORE WARNINGS\n",
    "test['Predictions'] = true_predictions"
   ]
  },
  {
   "cell_type": "code",
   "execution_count": 81,
   "metadata": {},
   "outputs": [
    {
     "data": {
      "text/html": [
       "<div>\n",
       "<style scoped>\n",
       "    .dataframe tbody tr th:only-of-type {\n",
       "        vertical-align: middle;\n",
       "    }\n",
       "\n",
       "    .dataframe tbody tr th {\n",
       "        vertical-align: top;\n",
       "    }\n",
       "\n",
       "    .dataframe thead th {\n",
       "        text-align: right;\n",
       "    }\n",
       "</style>\n",
       "<table border=\"1\" class=\"dataframe\">\n",
       "  <thead>\n",
       "    <tr style=\"text-align: right;\">\n",
       "      <th></th>\n",
       "      <th>Sine</th>\n",
       "      <th>Predictions</th>\n",
       "    </tr>\n",
       "  </thead>\n",
       "  <tbody>\n",
       "    <tr>\n",
       "      <th>45.1</th>\n",
       "      <td>0.899097</td>\n",
       "      <td>0.908491</td>\n",
       "    </tr>\n",
       "    <tr>\n",
       "      <th>45.2</th>\n",
       "      <td>0.938307</td>\n",
       "      <td>0.948404</td>\n",
       "    </tr>\n",
       "    <tr>\n",
       "      <th>45.3</th>\n",
       "      <td>0.968142</td>\n",
       "      <td>0.979033</td>\n",
       "    </tr>\n",
       "    <tr>\n",
       "      <th>45.4</th>\n",
       "      <td>0.988304</td>\n",
       "      <td>1.003202</td>\n",
       "    </tr>\n",
       "    <tr>\n",
       "      <th>45.5</th>\n",
       "      <td>0.998591</td>\n",
       "      <td>1.014100</td>\n",
       "    </tr>\n",
       "    <tr>\n",
       "      <th>45.6</th>\n",
       "      <td>0.998900</td>\n",
       "      <td>1.012737</td>\n",
       "    </tr>\n",
       "    <tr>\n",
       "      <th>45.7</th>\n",
       "      <td>0.989229</td>\n",
       "      <td>1.006827</td>\n",
       "    </tr>\n",
       "    <tr>\n",
       "      <th>45.8</th>\n",
       "      <td>0.969673</td>\n",
       "      <td>0.988125</td>\n",
       "    </tr>\n",
       "    <tr>\n",
       "      <th>45.9</th>\n",
       "      <td>0.940429</td>\n",
       "      <td>0.956574</td>\n",
       "    </tr>\n",
       "    <tr>\n",
       "      <th>46.0</th>\n",
       "      <td>0.901788</td>\n",
       "      <td>0.921891</td>\n",
       "    </tr>\n",
       "    <tr>\n",
       "      <th>46.1</th>\n",
       "      <td>0.854137</td>\n",
       "      <td>0.876737</td>\n",
       "    </tr>\n",
       "    <tr>\n",
       "      <th>46.2</th>\n",
       "      <td>0.797952</td>\n",
       "      <td>0.816958</td>\n",
       "    </tr>\n",
       "    <tr>\n",
       "      <th>46.3</th>\n",
       "      <td>0.733794</td>\n",
       "      <td>0.755555</td>\n",
       "    </tr>\n",
       "    <tr>\n",
       "      <th>46.4</th>\n",
       "      <td>0.662304</td>\n",
       "      <td>0.686698</td>\n",
       "    </tr>\n",
       "    <tr>\n",
       "      <th>46.5</th>\n",
       "      <td>0.584197</td>\n",
       "      <td>0.605604</td>\n",
       "    </tr>\n",
       "    <tr>\n",
       "      <th>46.6</th>\n",
       "      <td>0.500252</td>\n",
       "      <td>0.522185</td>\n",
       "    </tr>\n",
       "    <tr>\n",
       "      <th>46.7</th>\n",
       "      <td>0.411309</td>\n",
       "      <td>0.437154</td>\n",
       "    </tr>\n",
       "    <tr>\n",
       "      <th>46.8</th>\n",
       "      <td>0.318257</td>\n",
       "      <td>0.340567</td>\n",
       "    </tr>\n",
       "    <tr>\n",
       "      <th>46.9</th>\n",
       "      <td>0.222024</td>\n",
       "      <td>0.242839</td>\n",
       "    </tr>\n",
       "    <tr>\n",
       "      <th>47.0</th>\n",
       "      <td>0.123573</td>\n",
       "      <td>0.145060</td>\n",
       "    </tr>\n",
       "    <tr>\n",
       "      <th>47.1</th>\n",
       "      <td>0.023888</td>\n",
       "      <td>0.040333</td>\n",
       "    </tr>\n",
       "    <tr>\n",
       "      <th>47.2</th>\n",
       "      <td>-0.076037</td>\n",
       "      <td>-0.066489</td>\n",
       "    </tr>\n",
       "    <tr>\n",
       "      <th>47.3</th>\n",
       "      <td>-0.175201</td>\n",
       "      <td>-0.167725</td>\n",
       "    </tr>\n",
       "    <tr>\n",
       "      <th>47.4</th>\n",
       "      <td>-0.272615</td>\n",
       "      <td>-0.271964</td>\n",
       "    </tr>\n",
       "    <tr>\n",
       "      <th>47.5</th>\n",
       "      <td>-0.367305</td>\n",
       "      <td>-0.377286</td>\n",
       "    </tr>\n",
       "    <tr>\n",
       "      <th>47.6</th>\n",
       "      <td>-0.458325</td>\n",
       "      <td>-0.473188</td>\n",
       "    </tr>\n",
       "    <tr>\n",
       "      <th>47.7</th>\n",
       "      <td>-0.544766</td>\n",
       "      <td>-0.566151</td>\n",
       "    </tr>\n",
       "    <tr>\n",
       "      <th>47.8</th>\n",
       "      <td>-0.625764</td>\n",
       "      <td>-0.658720</td>\n",
       "    </tr>\n",
       "    <tr>\n",
       "      <th>47.9</th>\n",
       "      <td>-0.700509</td>\n",
       "      <td>-0.740036</td>\n",
       "    </tr>\n",
       "    <tr>\n",
       "      <th>48.0</th>\n",
       "      <td>-0.768255</td>\n",
       "      <td>-0.810905</td>\n",
       "    </tr>\n",
       "    <tr>\n",
       "      <th>48.1</th>\n",
       "      <td>-0.828324</td>\n",
       "      <td>-0.878955</td>\n",
       "    </tr>\n",
       "    <tr>\n",
       "      <th>48.2</th>\n",
       "      <td>-0.880118</td>\n",
       "      <td>-0.935300</td>\n",
       "    </tr>\n",
       "    <tr>\n",
       "      <th>48.3</th>\n",
       "      <td>-0.923117</td>\n",
       "      <td>-0.975018</td>\n",
       "    </tr>\n",
       "    <tr>\n",
       "      <th>48.4</th>\n",
       "      <td>-0.956893</td>\n",
       "      <td>-1.010129</td>\n",
       "    </tr>\n",
       "    <tr>\n",
       "      <th>48.5</th>\n",
       "      <td>-0.981108</td>\n",
       "      <td>-1.035647</td>\n",
       "    </tr>\n",
       "    <tr>\n",
       "      <th>48.6</th>\n",
       "      <td>-0.995521</td>\n",
       "      <td>-1.041587</td>\n",
       "    </tr>\n",
       "    <tr>\n",
       "      <th>48.7</th>\n",
       "      <td>-0.999986</td>\n",
       "      <td>-1.039358</td>\n",
       "    </tr>\n",
       "    <tr>\n",
       "      <th>48.8</th>\n",
       "      <td>-0.994460</td>\n",
       "      <td>-1.033667</td>\n",
       "    </tr>\n",
       "    <tr>\n",
       "      <th>48.9</th>\n",
       "      <td>-0.978997</td>\n",
       "      <td>-1.007177</td>\n",
       "    </tr>\n",
       "    <tr>\n",
       "      <th>49.0</th>\n",
       "      <td>-0.953753</td>\n",
       "      <td>-0.969047</td>\n",
       "    </tr>\n",
       "    <tr>\n",
       "      <th>49.1</th>\n",
       "      <td>-0.918979</td>\n",
       "      <td>-0.933285</td>\n",
       "    </tr>\n",
       "    <tr>\n",
       "      <th>49.2</th>\n",
       "      <td>-0.875023</td>\n",
       "      <td>-0.880304</td>\n",
       "    </tr>\n",
       "    <tr>\n",
       "      <th>49.3</th>\n",
       "      <td>-0.822324</td>\n",
       "      <td>-0.811164</td>\n",
       "    </tr>\n",
       "    <tr>\n",
       "      <th>49.4</th>\n",
       "      <td>-0.761408</td>\n",
       "      <td>-0.749138</td>\n",
       "    </tr>\n",
       "    <tr>\n",
       "      <th>49.5</th>\n",
       "      <td>-0.692885</td>\n",
       "      <td>-0.677769</td>\n",
       "    </tr>\n",
       "    <tr>\n",
       "      <th>49.6</th>\n",
       "      <td>-0.617439</td>\n",
       "      <td>-0.584455</td>\n",
       "    </tr>\n",
       "    <tr>\n",
       "      <th>49.7</th>\n",
       "      <td>-0.535823</td>\n",
       "      <td>-0.501163</td>\n",
       "    </tr>\n",
       "    <tr>\n",
       "      <th>49.8</th>\n",
       "      <td>-0.448854</td>\n",
       "      <td>-0.418258</td>\n",
       "    </tr>\n",
       "    <tr>\n",
       "      <th>49.9</th>\n",
       "      <td>-0.357400</td>\n",
       "      <td>-0.310102</td>\n",
       "    </tr>\n",
       "    <tr>\n",
       "      <th>50.0</th>\n",
       "      <td>-0.262375</td>\n",
       "      <td>-0.210630</td>\n",
       "    </tr>\n",
       "  </tbody>\n",
       "</table>\n",
       "</div>"
      ],
      "text/plain": [
       "          Sine  Predictions\n",
       "45.1  0.899097     0.908491\n",
       "45.2  0.938307     0.948404\n",
       "45.3  0.968142     0.979033\n",
       "45.4  0.988304     1.003202\n",
       "45.5  0.998591     1.014100\n",
       "45.6  0.998900     1.012737\n",
       "45.7  0.989229     1.006827\n",
       "45.8  0.969673     0.988125\n",
       "45.9  0.940429     0.956574\n",
       "46.0  0.901788     0.921891\n",
       "46.1  0.854137     0.876737\n",
       "46.2  0.797952     0.816958\n",
       "46.3  0.733794     0.755555\n",
       "46.4  0.662304     0.686698\n",
       "46.5  0.584197     0.605604\n",
       "46.6  0.500252     0.522185\n",
       "46.7  0.411309     0.437154\n",
       "46.8  0.318257     0.340567\n",
       "46.9  0.222024     0.242839\n",
       "47.0  0.123573     0.145060\n",
       "47.1  0.023888     0.040333\n",
       "47.2 -0.076037    -0.066489\n",
       "47.3 -0.175201    -0.167725\n",
       "47.4 -0.272615    -0.271964\n",
       "47.5 -0.367305    -0.377286\n",
       "47.6 -0.458325    -0.473188\n",
       "47.7 -0.544766    -0.566151\n",
       "47.8 -0.625764    -0.658720\n",
       "47.9 -0.700509    -0.740036\n",
       "48.0 -0.768255    -0.810905\n",
       "48.1 -0.828324    -0.878955\n",
       "48.2 -0.880118    -0.935300\n",
       "48.3 -0.923117    -0.975018\n",
       "48.4 -0.956893    -1.010129\n",
       "48.5 -0.981108    -1.035647\n",
       "48.6 -0.995521    -1.041587\n",
       "48.7 -0.999986    -1.039358\n",
       "48.8 -0.994460    -1.033667\n",
       "48.9 -0.978997    -1.007177\n",
       "49.0 -0.953753    -0.969047\n",
       "49.1 -0.918979    -0.933285\n",
       "49.2 -0.875023    -0.880304\n",
       "49.3 -0.822324    -0.811164\n",
       "49.4 -0.761408    -0.749138\n",
       "49.5 -0.692885    -0.677769\n",
       "49.6 -0.617439    -0.584455\n",
       "49.7 -0.535823    -0.501163\n",
       "49.8 -0.448854    -0.418258\n",
       "49.9 -0.357400    -0.310102\n",
       "50.0 -0.262375    -0.210630"
      ]
     },
     "execution_count": 81,
     "metadata": {},
     "output_type": "execute_result"
    }
   ],
   "source": [
    "test"
   ]
  },
  {
   "cell_type": "code",
   "execution_count": 82,
   "metadata": {
    "scrolled": true
   },
   "outputs": [
    {
     "data": {
      "text/plain": [
       "<matplotlib.axes._subplots.AxesSubplot at 0x7f23cc150d50>"
      ]
     },
     "execution_count": 82,
     "metadata": {},
     "output_type": "execute_result"
    },
    {
     "data": {
      "image/png": "[encoded data removed]",
      "text/plain": [
       "<Figure size 864x576 with 1 Axes>"
      ]
     },
     "metadata": {
      "needs_background": "light"
     },
     "output_type": "display_data"
    }
   ],
   "source": [
    "test.plot(figsize=(12,8))"
   ]
  },
  {
   "cell_type": "markdown",
   "metadata": {},
   "source": [
    "## Adding in Early Stopping and Validation Generator"
   ]
  },
  {
   "cell_type": "code",
   "execution_count": 83,
   "metadata": {},
   "outputs": [],
   "source": [
    "from tensorflow.keras.callbacks import EarlyStopping"
   ]
  },
  {
   "cell_type": "code",
   "execution_count": 84,
   "metadata": {},
   "outputs": [],
   "source": [
    "early_stop = EarlyStopping(monitor='val_loss',patience=2)"
   ]
  },
  {
   "cell_type": "code",
   "execution_count": 85,
   "metadata": {},
   "outputs": [],
   "source": [
    "length = 49\n",
    "generator = TimeseriesGenerator(scaled_train,scaled_train,\n",
    "                               length=length,batch_size=1) #49,1\n",
    "\n",
    "\n",
    "validation_generator = TimeseriesGenerator(scaled_test,scaled_test,\n",
    "                                          length=length,batch_size=1) #49,1"
   ]
  },
  {
   "cell_type": "markdown",
   "metadata": {},
   "source": [
    "# LSTMS"
   ]
  },
  {
   "cell_type": "code",
   "execution_count": 86,
   "metadata": {},
   "outputs": [],
   "source": [
    "# define model\n",
    "model = Sequential()\n",
    "\n",
    "# Simple RNN layer\n",
    "model.add(LSTM(50,input_shape=(length, n_features)))\n",
    "\n",
    "# Final Prediction\n",
    "model.add(Dense(1))\n",
    "\n",
    "model.compile(optimizer='adam', loss='mse')"
   ]
  },
  {
   "cell_type": "code",
   "execution_count": 87,
   "metadata": {},
   "outputs": [
    {
     "name": "stdout",
     "output_type": "stream",
     "text": [
      "Epoch 1/20\n",
      "402/402 [==============================] - 8s 19ms/step - loss: 0.0235 - val_loss: 8.5241e-06\n",
      "Epoch 2/20\n",
      "402/402 [==============================] - 6s 16ms/step - loss: 3.7326e-05 - val_loss: 8.0743e-06\n",
      "Epoch 3/20\n",
      "402/402 [==============================] - 6s 16ms/step - loss: 1.3447e-04 - val_loss: 6.9141e-06\n",
      "Epoch 4/20\n",
      "402/402 [==============================] - 6s 15ms/step - loss: 5.9489e-05 - val_loss: 2.5071e-07\n",
      "Epoch 5/20\n",
      "402/402 [==============================] - 6s 15ms/step - loss: 2.5536e-04 - val_loss: 6.2073e-05\n",
      "Epoch 6/20\n",
      "402/402 [==============================] - 6s 16ms/step - loss: 2.8069e-04 - val_loss: 2.7831e-06\n"
     ]
    },
    {
     "data": {
      "text/plain": [
       "<tensorflow.python.keras.callbacks.History at 0x7f2491cd4290>"
      ]
     },
     "execution_count": 87,
     "metadata": {},
     "output_type": "execute_result"
    }
   ],
   "source": [
    "model.fit_generator(generator,epochs=20,\n",
    "                   validation_data=validation_generator,\n",
    "                   callbacks=[early_stop])"
   ]
  },
  {
   "cell_type": "code",
   "execution_count": 88,
   "metadata": {},
   "outputs": [],
   "source": [
    "test_predictions = []\n",
    "\n",
    "first_eval_batch = scaled_train[-length:]\n",
    "current_batch = first_eval_batch.reshape((1, length, n_features))\n",
    "\n",
    "for i in range(len(test)):\n",
    "    \n",
    "    # get prediction 1 time stamp ahead ([0] is for grabbing just the number instead of [array])\n",
    "    current_pred = model.predict(current_batch)[0]\n",
    "    \n",
    "    # store prediction\n",
    "    test_predictions.append(current_pred) \n",
    "    \n",
    "    # update batch to now include prediction and drop first value\n",
    "    current_batch = np.append(current_batch[:,1:,:],[[current_pred]],axis=1)"
   ]
  },
  {
   "cell_type": "code",
   "execution_count": 89,
   "metadata": {},
   "outputs": [
    {
     "name": "stderr",
     "output_type": "stream",
     "text": [
      "/home/ys/anaconda3/envs/tf/lib/python3.7/site-packages/ipykernel_launcher.py:3: SettingWithCopyWarning: \n",
      "A value is trying to be set on a copy of a slice from a DataFrame.\n",
      "Try using .loc[row_indexer,col_indexer] = value instead\n",
      "\n",
      "See the caveats in the documentation: https://pandas.pydata.org/pandas-docs/stable/user_guide/indexing.html#returning-a-view-versus-a-copy\n",
      "  This is separate from the ipykernel package so we can avoid doing imports until\n"
     ]
    },
    {
     "data": {
      "text/plain": [
       "<matplotlib.axes._subplots.AxesSubplot at 0x7f2374270fd0>"
      ]
     },
     "execution_count": 89,
     "metadata": {},
     "output_type": "execute_result"
    },
    {
     "data": {
      "image/png": "[encoded data removed]",
      "text/plain": [
       "<Figure size 864x576 with 1 Axes>"
      ]
     },
     "metadata": {
      "needs_background": "light"
     },
     "output_type": "display_data"
    }
   ],
   "source": [
    "# IGNORE WARNINGS\n",
    "true_predictions = scaler.inverse_transform(test_predictions)\n",
    "test['LSTM Predictions'] = true_predictions\n",
    "test.plot(figsize=(12,8))"
   ]
  },
  {
   "cell_type": "markdown",
   "metadata": {},
   "source": [
    "# Forecasting\n",
    "\n",
    "Forecast into unknown range. We should first utilize all our data, since we are now forecasting!"
   ]
  },
  {
   "cell_type": "code",
   "execution_count": 90,
   "metadata": {},
   "outputs": [],
   "source": [
    "full_scaler = MinMaxScaler()\n",
    "scaled_full_data = full_scaler.fit_transform(df)"
   ]
  },
  {
   "cell_type": "code",
   "execution_count": 91,
   "metadata": {},
   "outputs": [],
   "source": [
    "length = 50 # Length of the output sequences (in number of timesteps)\n",
    "generator = TimeseriesGenerator(scaled_full_data, scaled_full_data, length=length, batch_size=1)"
   ]
  },
  {
   "cell_type": "code",
   "execution_count": 92,
   "metadata": {},
   "outputs": [
    {
     "name": "stdout",
     "output_type": "stream",
     "text": [
      "Epoch 1/6\n",
      "451/451 [==============================] - 7s 16ms/step - loss: 0.0104\n",
      "Epoch 2/6\n",
      "451/451 [==============================] - 7s 16ms/step - loss: 1.0097e-04\n",
      "Epoch 3/6\n",
      "451/451 [==============================] - 7s 16ms/step - loss: 6.5019e-05\n",
      "Epoch 4/6\n",
      "451/451 [==============================] - 7s 16ms/step - loss: 3.9807e-04\n",
      "Epoch 5/6\n",
      "451/451 [==============================] - 7s 16ms/step - loss: 5.3698e-04\n",
      "Epoch 6/6\n",
      "451/451 [==============================] - 7s 16ms/step - loss: 4.9115e-05\n"
     ]
    },
    {
     "data": {
      "text/plain": [
       "<tensorflow.python.keras.callbacks.History at 0x7f236d612dd0>"
      ]
     },
     "execution_count": 92,
     "metadata": {},
     "output_type": "execute_result"
    }
   ],
   "source": [
    "model = Sequential()\n",
    "model.add(LSTM(50, input_shape=(length, n_features)))\n",
    "model.add(Dense(1))\n",
    "model.compile(optimizer='adam', loss='mse')\n",
    "model.fit_generator(generator,epochs=6)"
   ]
  },
  {
   "cell_type": "code",
   "execution_count": 93,
   "metadata": {},
   "outputs": [],
   "source": [
    "forecast = []\n",
    "\n",
    "first_eval_batch = scaled_full_data[-length:] #[-50:]\n",
    "current_batch = first_eval_batch.reshape((1, length, n_features)) #(1,50,1)"
   ]
  },
  {
   "cell_type": "code",
   "execution_count": 94,
   "metadata": {},
   "outputs": [
    {
     "name": "stdout",
     "output_type": "stream",
     "text": [
      "[[0.41119924]]\n",
      "(1, 1)\n"
     ]
    }
   ],
   "source": [
    "#test\n",
    "print(model.predict(current_batch))\n",
    "print(model.predict(current_batch).shape)"
   ]
  },
  {
   "cell_type": "code",
   "execution_count": 95,
   "metadata": {},
   "outputs": [
    {
     "name": "stdout",
     "output_type": "stream",
     "text": [
      "[0.41119924]\n",
      "(1,)\n"
     ]
    }
   ],
   "source": [
    "#test\n",
    "print(model.predict(current_batch)[0]) #[0] is for grabbing just the number instead of [array]\n",
    "print(model.predict(current_batch)[0].shape) "
   ]
  },
  {
   "cell_type": "code",
   "execution_count": 96,
   "metadata": {},
   "outputs": [],
   "source": [
    "for i in range(len(test)):\n",
    "    \n",
    "    # get prediction 1 time stamp ahead ([0] is for grabbing just the number instead of [array])\n",
    "    current_pred = model.predict(current_batch)[0] #[0] convert to [0.06019329] (1,)  from [[0.06019329]] (1,1) \n",
    "    \n",
    "    # store prediction\n",
    "    forecast.append(current_pred) #[].append [0.4167821] (1,) -> [[0.4167821],[],...]\n",
    "    \n",
    "    # update batch to now include prediction and drop first value\n",
    "    current_batch = np.append(current_batch[:,1:,:],[[current_pred]],axis=1) #(1,49,1), [[[0.4167821]]](1,1,1)"
   ]
  },
  {
   "cell_type": "code",
   "execution_count": 124,
   "metadata": {},
   "outputs": [
    {
     "name": "stdout",
     "output_type": "stream",
     "text": [
      "50\n",
      "1\n"
     ]
    }
   ],
   "source": [
    "print(len(forecast))\n",
    "print(len(forecast[0]))"
   ]
  },
  {
   "cell_type": "code",
   "execution_count": 125,
   "metadata": {},
   "outputs": [],
   "source": [
    "# def dim(n):\n",
    "#     if type(n) is not list:\n",
    "#         return []\n",
    "#     return [len(n)] + dim(n[0])\n",
    "\n",
    "def dim(a):\n",
    "    if not type(a) == list:\n",
    "        return []\n",
    "    return [len(a)] + dim(a[0])"
   ]
  },
  {
   "cell_type": "code",
   "execution_count": 126,
   "metadata": {},
   "outputs": [
    {
     "data": {
      "text/plain": [
       "[50]"
      ]
     },
     "execution_count": 126,
     "metadata": {},
     "output_type": "execute_result"
    }
   ],
   "source": [
    "dim(forecast)"
   ]
  },
  {
   "cell_type": "code",
   "execution_count": 127,
   "metadata": {},
   "outputs": [
    {
     "data": {
      "text/plain": [
       "[array([0.41119924], dtype=float32),\n",
       " array([0.46085], dtype=float32),\n",
       " array([0.51073116], dtype=float32),\n",
       " array([0.5603994], dtype=float32),\n",
       " array([0.6093657], dtype=float32),\n",
       " array([0.6571157], dtype=float32),\n",
       " array([0.703121], dtype=float32),\n",
       " array([0.7468526], dtype=float32),\n",
       " array([0.7877923], dtype=float32),\n",
       " array([0.8254477], dtype=float32),\n",
       " array([0.859363], dtype=float32),\n",
       " array([0.88913155], dtype=float32),\n",
       " array([0.9144042], dtype=float32),\n",
       " array([0.93489724], dtype=float32),\n",
       " array([0.9503956], dtype=float32),\n",
       " array([0.9607548], dtype=float32),\n",
       " array([0.96589917], dtype=float32),\n",
       " array([0.96581936], dtype=float32),\n",
       " array([0.96056485], dtype=float32),\n",
       " array([0.9502405], dtype=float32),\n",
       " array([0.93499696], dtype=float32),\n",
       " array([0.9150274], dtype=float32),\n",
       " array([0.89055943], dtype=float32),\n",
       " array([0.8618513], dtype=float32),\n",
       " array([0.829189], dtype=float32),\n",
       " array([0.7928836], dtype=float32),\n",
       " array([0.75327], dtype=float32),\n",
       " array([0.71070737], dtype=float32),\n",
       " array([0.66558], dtype=float32),\n",
       " array([0.61829835], dtype=float32),\n",
       " array([0.56930125], dtype=float32),\n",
       " array([0.5190561], dtype=float32),\n",
       " array([0.46805972], dtype=float32),\n",
       " array([0.4168374], dtype=float32),\n",
       " array([0.3659391], dtype=float32),\n",
       " array([0.31593457], dtype=float32),\n",
       " array([0.26740453], dtype=float32),\n",
       " array([0.22092967], dtype=float32),\n",
       " array([0.17707755], dtype=float32),\n",
       " array([0.1363877], dtype=float32),\n",
       " array([0.0993574], dtype=float32),\n",
       " array([0.06642833], dtype=float32),\n",
       " array([0.03797618], dtype=float32),\n",
       " array([0.01430363], dtype=float32),\n",
       " array([-0.00436278], dtype=float32),\n",
       " array([-0.01787197], dtype=float32),\n",
       " array([-0.02614466], dtype=float32),\n",
       " array([-0.02916718], dtype=float32),\n",
       " array([-0.02698443], dtype=float32),\n",
       " array([-0.01969184], dtype=float32)]"
      ]
     },
     "execution_count": 127,
     "metadata": {},
     "output_type": "execute_result"
    }
   ],
   "source": [
    "forecast #list of np.array"
   ]
  },
  {
   "cell_type": "code",
   "execution_count": 128,
   "metadata": {},
   "outputs": [],
   "source": [
    "#Scale back the data to the original representation\n",
    "forecast = scaler.inverse_transform(forecast) #np.array of list"
   ]
  },
  {
   "cell_type": "code",
   "execution_count": 129,
   "metadata": {},
   "outputs": [
    {
     "name": "stdout",
     "output_type": "stream",
     "text": [
      "(50, 1)\n"
     ]
    },
    {
     "data": {
      "text/plain": [
       "array([[-0.17759832],\n",
       "       [-0.0782976 ],\n",
       "       [ 0.02146392],\n",
       "       [ 0.12079962],\n",
       "       [ 0.21873142],\n",
       "       [ 0.31423064],\n",
       "       [ 0.40624052],\n",
       "       [ 0.49370296],\n",
       "       [ 0.5755818 ],\n",
       "       [ 0.6508919 ],\n",
       "       [ 0.71872204],\n",
       "       [ 0.77825861],\n",
       "       [ 0.82880354],\n",
       "       [ 0.86978928],\n",
       "       [ 0.90078571],\n",
       "       [ 0.921504  ],\n",
       "       [ 0.93179263],\n",
       "       [ 0.93163301],\n",
       "       [ 0.92112408],\n",
       "       [ 0.90047553],\n",
       "       [ 0.86998871],\n",
       "       [ 0.83004987],\n",
       "       [ 0.78111437],\n",
       "       [ 0.72369851],\n",
       "       [ 0.65837449],\n",
       "       [ 0.58576422],\n",
       "       [ 0.50653764],\n",
       "       [ 0.42141312],\n",
       "       [ 0.33115906],\n",
       "       [ 0.23659657],\n",
       "       [ 0.13860315],\n",
       "       [ 0.03811363],\n",
       "       [-0.06387828],\n",
       "       [-0.16632211],\n",
       "       [-0.26811786],\n",
       "       [-0.36812614],\n",
       "       [-0.46518545],\n",
       "       [-0.55813442],\n",
       "       [-0.64583796],\n",
       "       [-0.72721698],\n",
       "       [-0.80127699],\n",
       "       [-0.86713462],\n",
       "       [-0.92403845],\n",
       "       [-0.97138318],\n",
       "       [-1.00871571],\n",
       "       [-1.03573386],\n",
       "       [-1.0522791 ],\n",
       "       [-1.05832409],\n",
       "       [-1.05395862],\n",
       "       [-1.03937357]])"
      ]
     },
     "execution_count": 129,
     "metadata": {},
     "output_type": "execute_result"
    }
   ],
   "source": [
    "print(forecast.shape)\n",
    "forecast"
   ]
  },
  {
   "cell_type": "code",
   "execution_count": 130,
   "metadata": {},
   "outputs": [
    {
     "data": {
      "text/html": [
       "<div>\n",
       "<style scoped>\n",
       "    .dataframe tbody tr th:only-of-type {\n",
       "        vertical-align: middle;\n",
       "    }\n",
       "\n",
       "    .dataframe tbody tr th {\n",
       "        vertical-align: top;\n",
       "    }\n",
       "\n",
       "    .dataframe thead th {\n",
       "        text-align: right;\n",
       "    }\n",
       "</style>\n",
       "<table border=\"1\" class=\"dataframe\">\n",
       "  <thead>\n",
       "    <tr style=\"text-align: right;\">\n",
       "      <th></th>\n",
       "      <th>Sine</th>\n",
       "    </tr>\n",
       "  </thead>\n",
       "  <tbody>\n",
       "    <tr>\n",
       "      <th>0.0</th>\n",
       "      <td>0.000000</td>\n",
       "    </tr>\n",
       "    <tr>\n",
       "      <th>0.1</th>\n",
       "      <td>0.099833</td>\n",
       "    </tr>\n",
       "    <tr>\n",
       "      <th>0.2</th>\n",
       "      <td>0.198669</td>\n",
       "    </tr>\n",
       "    <tr>\n",
       "      <th>0.3</th>\n",
       "      <td>0.295520</td>\n",
       "    </tr>\n",
       "    <tr>\n",
       "      <th>0.4</th>\n",
       "      <td>0.389418</td>\n",
       "    </tr>\n",
       "    <tr>\n",
       "      <th>...</th>\n",
       "      <td>...</td>\n",
       "    </tr>\n",
       "    <tr>\n",
       "      <th>49.6</th>\n",
       "      <td>-0.617439</td>\n",
       "    </tr>\n",
       "    <tr>\n",
       "      <th>49.7</th>\n",
       "      <td>-0.535823</td>\n",
       "    </tr>\n",
       "    <tr>\n",
       "      <th>49.8</th>\n",
       "      <td>-0.448854</td>\n",
       "    </tr>\n",
       "    <tr>\n",
       "      <th>49.9</th>\n",
       "      <td>-0.357400</td>\n",
       "    </tr>\n",
       "    <tr>\n",
       "      <th>50.0</th>\n",
       "      <td>-0.262375</td>\n",
       "    </tr>\n",
       "  </tbody>\n",
       "</table>\n",
       "<p>501 rows × 1 columns</p>\n",
       "</div>"
      ],
      "text/plain": [
       "          Sine\n",
       "0.0   0.000000\n",
       "0.1   0.099833\n",
       "0.2   0.198669\n",
       "0.3   0.295520\n",
       "0.4   0.389418\n",
       "...        ...\n",
       "49.6 -0.617439\n",
       "49.7 -0.535823\n",
       "49.8 -0.448854\n",
       "49.9 -0.357400\n",
       "50.0 -0.262375\n",
       "\n",
       "[501 rows x 1 columns]"
      ]
     },
     "execution_count": 130,
     "metadata": {},
     "output_type": "execute_result"
    }
   ],
   "source": [
    "df #(501,1)"
   ]
  },
  {
   "cell_type": "code",
   "execution_count": 131,
   "metadata": {},
   "outputs": [
    {
     "data": {
      "text/plain": [
       "50"
      ]
     },
     "execution_count": 131,
     "metadata": {},
     "output_type": "execute_result"
    }
   ],
   "source": [
    "len(forecast)"
   ]
  },
  {
   "cell_type": "code",
   "execution_count": 132,
   "metadata": {},
   "outputs": [
    {
     "data": {
      "text/plain": [
       "5.0"
      ]
     },
     "execution_count": 132,
     "metadata": {},
     "output_type": "execute_result"
    }
   ],
   "source": [
    "50*0.1"
   ]
  },
  {
   "cell_type": "code",
   "execution_count": 133,
   "metadata": {},
   "outputs": [],
   "source": [
    "forecast_index = np.arange(50.1,55.1,step=0.1)"
   ]
  },
  {
   "cell_type": "code",
   "execution_count": 134,
   "metadata": {},
   "outputs": [
    {
     "data": {
      "text/plain": [
       "50"
      ]
     },
     "execution_count": 134,
     "metadata": {},
     "output_type": "execute_result"
    }
   ],
   "source": [
    "len(forecast_index)"
   ]
  },
  {
   "cell_type": "code",
   "execution_count": 136,
   "metadata": {},
   "outputs": [
    {
     "data": {
      "text/plain": [
       "[<matplotlib.lines.Line2D at 0x7f236c68b890>]"
      ]
     },
     "execution_count": 136,
     "metadata": {},
     "output_type": "execute_result"
    },
    {
     "data": {
      "image/png": "[encoded data removed]",
      "text/plain": [
       "<Figure size 432x288 with 1 Axes>"
      ]
     },
     "metadata": {
      "needs_background": "light"
     },
     "output_type": "display_data"
    }
   ],
   "source": [
    "plt.plot(df.index,df['Sine']) #(501,1)"
   ]
  },
  {
   "cell_type": "code",
   "execution_count": 137,
   "metadata": {},
   "outputs": [
    {
     "data": {
      "text/plain": [
       "[<matplotlib.lines.Line2D at 0x7f236cdae890>]"
      ]
     },
     "execution_count": 137,
     "metadata": {},
     "output_type": "execute_result"
    },
    {
     "data": {
      "image/png": "[encoded data removed]",
      "text/plain": [
       "<Figure size 432x288 with 1 Axes>"
      ]
     },
     "metadata": {
      "needs_background": "light"
     },
     "output_type": "display_data"
    }
   ],
   "source": [
    "plt.plot(forecast_index,forecast) #(50,1)"
   ]
  },
  {
   "cell_type": "code",
   "execution_count": 138,
   "metadata": {},
   "outputs": [
    {
     "data": {
      "text/plain": [
       "[<matplotlib.lines.Line2D at 0x7f236ca8e190>]"
      ]
     },
     "execution_count": 138,
     "metadata": {},
     "output_type": "execute_result"
    },
    {
     "data": {
      "image/png": "[encoded data removed]",
      "text/plain": [
       "<Figure size 432x288 with 1 Axes>"
      ]
     },
     "metadata": {
      "needs_background": "light"
     },
     "output_type": "display_data"
    }
   ],
   "source": [
    "plt.plot(df.index,df['Sine']) #(501,1)\n",
    "plt.plot(forecast_index,forecast) #(50,1)"
   ]
  },
  {
   "cell_type": "markdown",
   "metadata": {
    "collapsed": true
   },
   "source": [
    "# Great Job!"
   ]
  },
  {
   "cell_type": "code",
   "execution_count": null,
   "metadata": {},
   "outputs": [],
   "source": []
  }
 ],
 "metadata": {
  "kernelspec": {
   "display_name": "Python 3",
   "language": "python",
   "name": "python3"
  },
  "language_info": {
   "codemirror_mode": {
    "name": "ipython",
    "version": 3
   },
   "file_extension": ".py",
   "mimetype": "text/x-python",
   "name": "python",
   "nbconvert_exporter": "python",
   "pygments_lexer": "ipython3",
   "version": "3.7.6"
  }
 },
 "nbformat": 4,
 "nbformat_minor": 2
}
