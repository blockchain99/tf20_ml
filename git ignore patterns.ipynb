{
 "cells": [
  {
   "cell_type": "markdown",
   "metadata": {},
   "source": [
    "Git ignore patterns\n",
    ".gitignore uses globbing patterns to match against file names. You can construct your patterns using various symbols:\n",
    "\n",
    "|Pattern | Example matches | Explanation*|\n",
    "|:-------|:-------------|:-------|\n",
    "|**/logs|logs/debug.log<br>logs/monday/foo.bar<br>build/logs/debug.log|** match directories anywhere in the repository|\n",
    "|**/logs/debug.log|logs/debug.log<br>build/logs/debug.log<br>but not logs/build/debug.log|** match files based on their name and the name of their parent directory|\n",
    "|\\*.log|\tdebug.log<br>foo.log<br>.log<br>logs/debug.log|* matches zero or more characters|\n",
    "|\\*.log<br>!important.log|debug.log<br>trace.log<br>but not<br>important.log<br>logs/important.log| |\n",
    "|\\*.log<br>!important/\\*.log<br>trace.*|debug.log<br>important/trace.log<br>but not<br>important/debug.log|Patterns defined after a negating pattern will re-ignore any previously negated files|\n",
    "|/debug.log|debug.log<br>but not<br>logs/debug.log|Prepending a slash matches files only in the repository root|\n",
    "|debug.log|debug.log<br>logs/debug.log|By default, patterns match files in any directory|\t\n",
    "|debug?.log|debug0.log<brdebugg.log<br>but not<br>debug10.log|? matches exactly one character|\n",
    "|debug[0-9].log|debug0.log<br>debug1.log<br>but not<br>debug10.log|\t|\n",
    "|debug[01].log|debug0.log<br>debug1.log<br>but not<br>debug2.log<br>debug01.log|single character form the specified set.|\t\t\n",
    "|debug[!01].log|debug2.log<br>but not<br>debug0.log<br>debug1.log<br>debug01.log|any character except one from the specified set|\n",
    "|debug[a-z].log|\tdebuga.log<br>debugb.log<br>but not<br>debug1.log| |\t\n",
    "|logs|logs<br>logs/debug.log<br>logs/latest/foo.bar<br>build/logs<br>build/logs/debug.log|on the left, both directories and files named logs are ignored|\n",
    "|logs/|\tlogs/debug.log<br>logs/latest/foo.bar<br>build/logs/foo.bar<br>build/logs/latest/debug.log|The entire contents of any directory in the repository matching that name – including all of its files and subdirectories – will be ignored|\n",
    "|logs/<br>!logs/important.log|logs/debug.log<br>logs/important.log|\tWait a minute! Shouldn't logs/important.log be negated in the example on the left<br>Nope! Due to a performance-related quirk in Git, you can not negate a file that is ignored due to a pattern matching a directory|\n",
    "|logs/**/debug.log|logs/debug.log<br>logs/monday/debug.log<br>logs/monday/pm/debug.log|\t** matches zero or more directories|\n",
    "|logs/*day/debug.log|logs/monday/debug.log<br>logs/tuesday/debug.log<br>but not<br>logs/latest/debug.log|Wildcards can be used in directory names as well|\n",
    "|logs/debug.log|logs/debug.log<br>but not<br>debug.log<br>build/logs/debug.log|specifying a file in a particular directory|"
   ]
  },
  {
   "cell_type": "code",
   "execution_count": null,
   "metadata": {},
   "outputs": [],
   "source": []
  }
 ],
 "metadata": {
  "kernelspec": {
   "display_name": "Python 3.7.4 64-bit ('base': conda)",
   "language": "python",
   "name": "python37464bitbaseconda6ba9a7e512bd4ea4ad54e6fd999a8ad6"
  },
  "language_info": {
   "codemirror_mode": {
    "name": "ipython",
    "version": 3
   },
   "file_extension": ".py",
   "mimetype": "text/x-python",
   "name": "python",
   "nbconvert_exporter": "python",
   "pygments_lexer": "ipython3",
   "version": "3.7.4"
  }
 },
 "nbformat": 4,
 "nbformat_minor": 4
}
